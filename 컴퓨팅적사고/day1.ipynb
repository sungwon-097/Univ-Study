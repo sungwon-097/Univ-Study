{
 "cells": [
  {
   "cell_type": "markdown",
   "metadata": {},
   "source": [
    "## Day 1\n",
    "\n",
    "- 22.06.22"
   ]
  },
  {
   "cell_type": "code",
   "execution_count": 1,
   "metadata": {},
   "outputs": [],
   "source": [
    "import turtle"
   ]
  },
  {
   "cell_type": "markdown",
   "metadata": {},
   "source": [
    "- 커서의 모양과 크기를 변경"
   ]
  },
  {
   "cell_type": "code",
   "execution_count": 6,
   "metadata": {},
   "outputs": [],
   "source": [
    "turtle.shape('turtle')\n",
    "turtle.shape('circle')\n",
    "turtle.shape('triangle')\n",
    "turtle.shapesize(5) # 5배"
   ]
  },
  {
   "cell_type": "markdown",
   "metadata": {},
   "source": [
    "- t 라는 단축어를 사용해 turtle library를 호출"
   ]
  },
  {
   "cell_type": "code",
   "execution_count": 2,
   "metadata": {},
   "outputs": [],
   "source": [
    "import turtle as t"
   ]
  },
  {
   "cell_type": "markdown",
   "metadata": {},
   "source": [
    "- forward/ backward는 parameter로 거리를, left / right는 각도를 받음"
   ]
  },
  {
   "cell_type": "code",
   "execution_count": 28,
   "metadata": {},
   "outputs": [],
   "source": [
    "t.shape('turtle')\n",
    "t.shapesize(1)\n",
    "t.fd(200)\n",
    "t.left(180)\n",
    "t.right(50)\n",
    "t.bk(200)"
   ]
  },
  {
   "cell_type": "markdown",
   "metadata": {},
   "source": [
    "### 사각형 그리기"
   ]
  },
  {
   "cell_type": "code",
   "execution_count": 34,
   "metadata": {},
   "outputs": [],
   "source": [
    "import turtle as t\n",
    "\n",
    "t.home()\n",
    "t.clear()\n",
    "\n",
    "t.shape('turtle')\n",
    "t.shapesize(3)\n",
    "\n",
    "for i in range(4):\n",
    "    t.fd(300)\n",
    "    t.right(90)\n"
   ]
  },
  {
   "cell_type": "markdown",
   "metadata": {},
   "source": [
    "### 삼각형 그리기"
   ]
  },
  {
   "cell_type": "code",
   "execution_count": 41,
   "metadata": {},
   "outputs": [],
   "source": [
    "t.home()\n",
    "t.clear()\n",
    "\n",
    "for i in range(3):\n",
    "    t.fd(300)\n",
    "    t.left(360/3)"
   ]
  },
  {
   "cell_type": "markdown",
   "metadata": {},
   "source": [
    "### 오각형 그리기"
   ]
  },
  {
   "cell_type": "code",
   "execution_count": 44,
   "metadata": {},
   "outputs": [],
   "source": [
    "t.home()\n",
    "t.clear()\n",
    "t.shapesize(1)\n",
    "for i in range(5):\n",
    "    t.fd(100)\n",
    "    t.left(360/5)"
   ]
  },
  {
   "cell_type": "markdown",
   "metadata": {},
   "source": [
    "### N각형 그리기"
   ]
  },
  {
   "cell_type": "code",
   "execution_count": 15,
   "metadata": {},
   "outputs": [],
   "source": [
    "import turtle as t\n",
    "\n",
    "# init setting\n",
    "t.shape('turtle')\n",
    "t.shapesize(3)\n",
    "t.speed(10)\n",
    "\n",
    "# start point\n",
    "t.home()\n",
    "t.clear()\n",
    "\n",
    "# used variable\n",
    "edge = 5\n",
    "leng = 100\n",
    "theta = 360 / edge\n",
    "\n",
    "# draw\n",
    "for i in range(edge):\n",
    "    t.fd(leng)\n",
    "    t.left(theta)"
   ]
  }
 ],
 "metadata": {
  "kernelspec": {
   "display_name": "Python 3.9.13 64-bit",
   "language": "python",
   "name": "python3"
  },
  "language_info": {
   "codemirror_mode": {
    "name": "ipython",
    "version": 3
   },
   "file_extension": ".py",
   "mimetype": "text/x-python",
   "name": "python",
   "nbconvert_exporter": "python",
   "pygments_lexer": "ipython3",
   "version": "3.9.12"
  },
  "orig_nbformat": 4,
  "vscode": {
   "interpreter": {
    "hash": "31f2aee4e71d21fbe5cf8b01ff0e069b9275f58929596ceb00d14d90e3e16cd6"
   }
  }
 },
 "nbformat": 4,
 "nbformat_minor": 2
}
