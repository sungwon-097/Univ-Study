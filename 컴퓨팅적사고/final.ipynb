{
 "cells": [
  {
   "cell_type": "markdown",
   "metadata": {},
   "source": [
    "### 2022 여름계절제 기말고사"
   ]
  },
  {
   "cell_type": "markdown",
   "metadata": {},
   "source": [
    "1. cm inch feet 단위변환코드"
   ]
  },
  {
   "cell_type": "code",
   "execution_count": null,
   "metadata": {},
   "outputs": [],
   "source": [
    "cm = 170\n",
    "inch = cm / 2.54\n",
    "feet = inch * 12"
   ]
  },
  {
   "cell_type": "markdown",
   "metadata": {},
   "source": [
    "2. print문 출력형식"
   ]
  },
  {
   "cell_type": "code",
   "execution_count": 2,
   "metadata": {},
   "outputs": [
    {
     "name": "stdout",
     "output_type": "stream",
     "text": [
      "line1 line1-1 line1-2\n",
      "line2 & line2-1\n"
     ]
    }
   ],
   "source": [
    "print(\"line1\", end = \" \")\n",
    "print(\"line1-1\", \"line1-2\")\n",
    "print(\"line2\", \"&\", \"line2-1\")"
   ]
  },
  {
   "cell_type": "markdown",
   "metadata": {},
   "source": [
    "3. 학점계산 프로그램"
   ]
  },
  {
   "cell_type": "code",
   "execution_count": 3,
   "metadata": {},
   "outputs": [
    {
     "name": "stdout",
     "output_type": "stream",
     "text": [
      "your grade is B\n"
     ]
    }
   ],
   "source": [
    "score = int(input(\"input your score : \"))\n",
    "message = \"\"\n",
    "if score < 60:  message = \"F\"\n",
    "elif score < 70:    message = \"D\"\n",
    "elif score < 80:    message = \"C\"\n",
    "elif score < 90:    message = \"B\"\n",
    "else:    message = \"A\"\n",
    "\n",
    "print(\"your grade is %s\" %(message))"
   ]
  },
  {
   "cell_type": "markdown",
   "metadata": {},
   "source": [
    "4. abstraction이 무엇인가"
   ]
  },
  {
   "cell_type": "code",
   "execution_count": 5,
   "metadata": {},
   "outputs": [
    {
     "name": "stdout",
     "output_type": "stream",
     "text": [
      "추상화(abstraction)는 복잡한 자료, 모듈, 시스템 등으로부터 핵심적인 개념 또는 기능을 간추려 내는 것을 말한다.\n",
      "\n",
      "현실의 복잡한 문제를 컴퓨터가 처리 할 수 있는 문제로 단순화시키는 것(컴퓨터가 처리 할 수 있는 문제란,컴퓨터에 표현되고 처리 될 수 있는 문제)\n"
     ]
    }
   ],
   "source": [
    "print('''추상화(abstraction)는 복잡한 자료, 모듈, 시스템 등으로부터 핵심적인 개념 또는 기능을 간추려 내는 것을 말한다.\n",
    "현실의 복잡한 문제를 컴퓨터가 처리 할 수 있는 문제로 단순화시키는 것(컴퓨터가 처리 할 수 있는 문제란,컴퓨터에 표현되고 처리 될 수 있는 문제)''')"
   ]
  },
  {
   "cell_type": "markdown",
   "metadata": {},
   "source": [
    "5. turtle 사용해서 원그리기\n"
   ]
  },
  {
   "cell_type": "code",
   "execution_count": 6,
   "metadata": {},
   "outputs": [],
   "source": [
    "import turtle as t\n",
    "\n",
    "t.shape('turtle')\n",
    "for r in range(50, 100, 10):\n",
    "    t.circle(r)"
   ]
  },
  {
   "cell_type": "markdown",
   "metadata": {},
   "source": [
    "6. 저축금액 임력 후 원리금 계산하기\n"
   ]
  },
  {
   "cell_type": "code",
   "execution_count": 7,
   "metadata": {},
   "outputs": [
    {
     "name": "stdout",
     "output_type": "stream",
     "text": [
      "\n",
      "interest : 17500.00\n",
      "tax : 3500.00\n",
      "1 year later : 514000.00\n"
     ]
    }
   ],
   "source": [
    "money = int(input(\"input your money : \"))\n",
    "interest = money * 0.035\n",
    "tax = interest * 0.2\n",
    "\n",
    "result = money + interest - tax\n",
    "\n",
    "print('''\n",
    "interest : %.2f\n",
    "tax : %.2f\n",
    "1 year later : %.2f''' %(interest, tax, result))"
   ]
  },
  {
   "cell_type": "markdown",
   "metadata": {},
   "source": [
    "7. 함수를 사용하는 이유 세가지\n"
   ]
  },
  {
   "cell_type": "code",
   "execution_count": 8,
   "metadata": {},
   "outputs": [
    {
     "name": "stdout",
     "output_type": "stream",
     "text": [
      "\n",
      "1. 코드 재사용 가능\n",
      "2. 유지보수 용이\n",
      "3. 코드 간결화\n"
     ]
    }
   ],
   "source": [
    "print('''\n",
    "1. 코드 재사용 가능\n",
    "2. 유지보수 용이\n",
    "3. 코드 간결화''')"
   ]
  },
  {
   "cell_type": "markdown",
   "metadata": {},
   "source": [
    "8. 팩토리얼 코드 함수를 이용해 풀기"
   ]
  },
  {
   "cell_type": "code",
   "execution_count": 15,
   "metadata": {},
   "outputs": [
    {
     "name": "stdout",
     "output_type": "stream",
     "text": [
      "1 ! =  1\n",
      "2 ! =  2\n",
      "3 ! =  6\n",
      "4 ! =  24\n",
      "5 ! =  120\n",
      "6 ! =  720\n",
      "7 ! =  5040\n",
      "8 ! =  40320\n",
      "9 ! =  362880\n"
     ]
    }
   ],
   "source": [
    "def Fac(n):\n",
    "    temp = 1\n",
    "    for i in range(1, n):\n",
    "        temp *= i\n",
    "    return temp * n\n",
    "\n",
    "for num in range(1, 10):\n",
    "    print(num, \"! = \", Fac(num))"
   ]
  }
 ],
 "metadata": {
  "kernelspec": {
   "display_name": "Python 3.10.5 64-bit",
   "language": "python",
   "name": "python3"
  },
  "language_info": {
   "codemirror_mode": {
    "name": "ipython",
    "version": 3
   },
   "file_extension": ".py",
   "mimetype": "text/x-python",
   "name": "python",
   "nbconvert_exporter": "python",
   "pygments_lexer": "ipython3",
   "version": "3.10.5"
  },
  "orig_nbformat": 4,
  "vscode": {
   "interpreter": {
    "hash": "aee8b7b246df8f9039afb4144a1f6fd8d2ca17a180786b69acc140d282b71a49"
   }
  }
 },
 "nbformat": 4,
 "nbformat_minor": 2
}
