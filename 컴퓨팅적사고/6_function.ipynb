{
 "cells": [
  {
   "cell_type": "markdown",
   "metadata": {},
   "source": [
    "## Day 6\n",
    "\n",
    "- 22.06.29"
   ]
  },
  {
   "cell_type": "markdown",
   "metadata": {},
   "source": [
    "### Function\n",
    "\n",
    "- 함수\n",
    "\n",
    "```python\n",
    "\n",
    "def f(x):\n",
    "    y = 2 * x + 1\n",
    "    return y\n",
    "\n",
    "f(1)\n",
    "f(2)\n",
    "f(3)\n",
    "```"
   ]
  },
  {
   "cell_type": "code",
   "execution_count": 11,
   "metadata": {},
   "outputs": [
    {
     "name": "stdout",
     "output_type": "stream",
     "text": [
      "함수를 공부합니다\n",
      "f(10) = 153 \n",
      "f(12) = 207 \n",
      "f(14) = 269 \n",
      "f(16) = 339 \n",
      "f(18) = 417 \n",
      "f(20) = 503 \n",
      "함수 호출 완료\n"
     ]
    }
   ],
   "source": [
    "def myFunc(x): # 2\n",
    "    return x ** 2 + 5 * x + 3\n",
    "\n",
    "def main(): # 1\n",
    "    print(\"함수를 공부합니다\")\n",
    "    for i in range(10, 21, 2):\n",
    "        print(\"f(%d) = %d \"%(i, myFunc(i)))\n",
    "    print(\"함수 호출 완료\")\n",
    "\n",
    "main()"
   ]
  },
  {
   "cell_type": "code",
   "execution_count": 1,
   "metadata": {},
   "outputs": [
    {
     "data": {
      "text/plain": [
       "[2, 3, 4, 5, 6, 7, 8, 9, 10]"
      ]
     },
     "execution_count": 1,
     "metadata": {},
     "output_type": "execute_result"
    }
   ],
   "source": [
    "i = [x+1 for x in range(1, 10)]\n",
    "i"
   ]
  }
 ],
 "metadata": {
  "kernelspec": {
   "display_name": "Python 3.9.12 64-bit",
   "language": "python",
   "name": "python3"
  },
  "language_info": {
   "codemirror_mode": {
    "name": "ipython",
    "version": 3
   },
   "file_extension": ".py",
   "mimetype": "text/x-python",
   "name": "python",
   "nbconvert_exporter": "python",
   "pygments_lexer": "ipython3",
   "version": "3.9.12"
  },
  "orig_nbformat": 4,
  "vscode": {
   "interpreter": {
    "hash": "31f2aee4e71d21fbe5cf8b01ff0e069b9275f58929596ceb00d14d90e3e16cd6"
   }
  }
 },
 "nbformat": 4,
 "nbformat_minor": 2
}
