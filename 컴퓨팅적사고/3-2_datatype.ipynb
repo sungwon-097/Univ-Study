{
 "cells": [
  {
   "cell_type": "markdown",
   "metadata": {},
   "source": [
    "## Day 3-2\n",
    "\n",
    "- 22.06.24"
   ]
  },
  {
   "cell_type": "markdown",
   "metadata": {},
   "source": [
    "### Data Type\n",
    "\n",
    "- 양식문자\n",
    "\n",
    "|양식 문자|표현 내용|비고|\n",
    "|-|-|-|\n",
    "|%d|정수|Decimal|\n",
    "|%f|실수|Float|\n",
    "|%g|정수 또는 실수|소숫점 여부에 따라 출력|\n",
    "|%s|문자열|String|\n",
    "|%c|문자|Character|\n",
    "|%o|8진수|Octal|\n",
    "|%x|16진수|Hexa Decimal|"
   ]
  },
  {
   "cell_type": "code",
   "execution_count": 18,
   "metadata": {},
   "outputs": [
    {
     "name": "stdout",
     "output_type": "stream",
     "text": [
      "name : choi ,age : 26\n"
     ]
    }
   ],
   "source": [
    "name = \"choi\"\n",
    "age = 26\n",
    "print(\"name : %s ,age : %d\" %(name ,age)) # 양식문자를 사용한 출력"
   ]
  },
  {
   "cell_type": "code",
   "execution_count": 19,
   "metadata": {},
   "outputs": [
    {
     "name": "stdout",
     "output_type": "stream",
     "text": [
      "int : 123\n",
      "g : 123.457\n",
      "float: 123.456700\n"
     ]
    }
   ],
   "source": [
    "num = 123.4567\n",
    "print(\"int : %d\\ng : %g\\nfloat: %f\" %(num, num, num)) # g는 정밀도가 떨어질 수 있음"
   ]
  },
  {
   "cell_type": "code",
   "execution_count": 24,
   "metadata": {},
   "outputs": [
    {
     "name": "stdout",
     "output_type": "stream",
     "text": [
      "  2131 +   4572 =   6703\n",
      "2131   + 4572   = 6703  \n",
      "  2131 /   4572 = 0.466098\n"
     ]
    }
   ],
   "source": [
    "x=2131\n",
    "y=4572\n",
    "print(\"%6d + %6d = %6d\" %(x, y, x+y)) # 칸 확보 후 오른쪽부터\n",
    "print(\"%-6d + %-6d = %-6d\" %(x, y, x+y)) # 칸 확보 후 왼쪽부터\n",
    "print(\"%6d / %6d = %6f\" %(x, y, x/y))"
   ]
  }
 ],
 "metadata": {
  "kernelspec": {
   "display_name": "Python 3.9.12 64-bit",
   "language": "python",
   "name": "python3"
  },
  "language_info": {
   "codemirror_mode": {
    "name": "ipython",
    "version": 3
   },
   "file_extension": ".py",
   "mimetype": "text/x-python",
   "name": "python",
   "nbconvert_exporter": "python",
   "pygments_lexer": "ipython3",
   "version": "3.9.12"
  },
  "orig_nbformat": 4,
  "vscode": {
   "interpreter": {
    "hash": "31f2aee4e71d21fbe5cf8b01ff0e069b9275f58929596ceb00d14d90e3e16cd6"
   }
  }
 },
 "nbformat": 4,
 "nbformat_minor": 2
}
