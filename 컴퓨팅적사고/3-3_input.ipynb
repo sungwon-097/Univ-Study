{
 "cells": [
  {
   "cell_type": "markdown",
   "metadata": {},
   "source": [
    "## Day 3-3\n",
    "\n",
    "- 22.06.24"
   ]
  },
  {
   "cell_type": "markdown",
   "metadata": {},
   "source": [
    "### Input\n",
    "\n",
    "- 입력함수"
   ]
  },
  {
   "cell_type": "code",
   "execution_count": 11,
   "metadata": {},
   "outputs": [
    {
     "name": "stdout",
     "output_type": "stream",
     "text": [
      "무슨 색을 좋아해요? : 빨강색을 좋아하시는군요!\n"
     ]
    }
   ],
   "source": [
    "print(\"무슨 색을 좋아해요? : \", end = \"\")\n",
    "color = input()\n",
    "\n",
    "# color = input(\"무슨 색을 좋아해요? : \")\n",
    "\n",
    "print(\"%s색을 좋아하시는군요!\" %color)"
   ]
  },
  {
   "cell_type": "code",
   "execution_count": 23,
   "metadata": {},
   "outputs": [
    {
     "name": "stdout",
     "output_type": "stream",
     "text": [
      "<class 'str'> 10\n",
      "<class 'int'> 10\n",
      "<class 'float'> 10.0\n"
     ]
    }
   ],
   "source": [
    "A = \"10\"\n",
    "print(type(A), A)\n",
    "print(type(int(A)), int(A)) # 강제 형변환\n",
    "print(type(float(A)), float(A))"
   ]
  }
 ],
 "metadata": {
  "kernelspec": {
   "display_name": "Python 3.9.12 64-bit",
   "language": "python",
   "name": "python3"
  },
  "language_info": {
   "codemirror_mode": {
    "name": "ipython",
    "version": 3
   },
   "file_extension": ".py",
   "mimetype": "text/x-python",
   "name": "python",
   "nbconvert_exporter": "python",
   "pygments_lexer": "ipython3",
   "version": "3.9.12"
  },
  "orig_nbformat": 4,
  "vscode": {
   "interpreter": {
    "hash": "31f2aee4e71d21fbe5cf8b01ff0e069b9275f58929596ceb00d14d90e3e16cd6"
   }
  }
 },
 "nbformat": 4,
 "nbformat_minor": 2
}
