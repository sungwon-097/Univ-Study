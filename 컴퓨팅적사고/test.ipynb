{
 "cells": [
  {
   "cell_type": "markdown",
   "metadata": {},
   "source": [
    "1. 교재 33쪽 8번, 한국돈을 중국돈으로 변경하기"
   ]
  },
  {
   "cell_type": "code",
   "execution_count": 18,
   "metadata": {},
   "outputs": [
    {
     "name": "stdout",
     "output_type": "stream",
     "text": [
      "9178.803084077837 yuan\n"
     ]
    }
   ],
   "source": [
    "won = 1500000\n",
    "won_to_yuan = won / 163.42\n",
    "\n",
    "print(won_to_yuan, \"yuan\")"
   ]
  },
  {
   "cell_type": "markdown",
   "metadata": {},
   "source": [
    "2. 교재 34쪽 13번, 피자 크기 차이 계산하기\n",
    "\n",
    "  - 주의 : 넓이를 구하고 몇 배인지 고려\n",
    "\n"
   ]
  },
  {
   "cell_type": "code",
   "execution_count": 19,
   "metadata": {},
   "outputs": [
    {
     "name": "stdout",
     "output_type": "stream",
     "text": [
      "2.25 배\n"
     ]
    }
   ],
   "source": [
    "from math import *\n",
    "regular_r = 8 / 2\n",
    "large_r = 12 / 2\n",
    "\n",
    "regular = regular_r * regular_r * pi\n",
    "large = large_r * large_r * pi\n",
    "\n",
    "print(large / regular, \"배\")"
   ]
  },
  {
   "cell_type": "markdown",
   "metadata": {},
   "source": [
    "3. 강의자료 1(컴사_2주1강_Turtle그래픽)에서 27페이지 사각형과 삼각형을 이용해 집 모양 그리기 (힌트 2개의 for문을 사용)\n",
    "\n"
   ]
  },
  {
   "cell_type": "code",
   "execution_count": 16,
   "metadata": {},
   "outputs": [],
   "source": [
    "import turtle as t\n",
    "\n",
    "t.shape('turtle')\n",
    "t.shapesize(3)\n",
    "\n",
    "t.home()\n",
    "t.clear()\n",
    "\n",
    "for i in range(3):\n",
    "    t.fd(100)\n",
    "    t.left(360/3)\n",
    "\n",
    "for i in range(4):\n",
    "    t.fd(100)\n",
    "    t.right(360/4)\n",
    "    "
   ]
  },
  {
   "cell_type": "markdown",
   "metadata": {},
   "source": [
    "4. 강의자료 1(컴사_2주1강_Turtle그래픽)에서 29페이지 한변의 길이가 300인 별 그림 그려보기\n",
    "\n",
    "  - 힌트 : 나아가고, 방향전환의 반복\n",
    "\n",
    "           방향전환 각도(144도)와 몇번 나아가면 별표가 될지 생각"
   ]
  },
  {
   "cell_type": "code",
   "execution_count": 17,
   "metadata": {},
   "outputs": [],
   "source": [
    "import turtle as t\n",
    "\n",
    "t.shape('turtle')\n",
    "t.shapesize(3)\n",
    "\n",
    "t.home()\n",
    "t.clear()\n",
    "\n",
    "for i in range(5):\n",
    "    t.fd(300)\n",
    "    t.right(144)"
   ]
  }
 ],
 "metadata": {
  "kernelspec": {
   "display_name": "Python 3.9.12 64-bit",
   "language": "python",
   "name": "python3"
  },
  "language_info": {
   "codemirror_mode": {
    "name": "ipython",
    "version": 3
   },
   "file_extension": ".py",
   "mimetype": "text/x-python",
   "name": "python",
   "nbconvert_exporter": "python",
   "pygments_lexer": "ipython3",
   "version": "3.9.12"
  },
  "orig_nbformat": 4,
  "vscode": {
   "interpreter": {
    "hash": "31f2aee4e71d21fbe5cf8b01ff0e069b9275f58929596ceb00d14d90e3e16cd6"
   }
  }
 },
 "nbformat": 4,
 "nbformat_minor": 2
}
