{
 "cells": [
  {
   "cell_type": "markdown",
   "metadata": {},
   "source": [
    "### 다각형 그리기"
   ]
  },
  {
   "cell_type": "code",
   "execution_count": 63,
   "metadata": {},
   "outputs": [],
   "source": [
    "import turtle as t\n",
    "\n",
    "t.shape(\"turtle\")\n",
    "t.shapesize(1)\n",
    "t.color('red')\n",
    "t.speed(0)\n",
    "\n",
    "def Polygon(edge):\n",
    "    for i in range(edge):\n",
    "        t.fd(50)\n",
    "        t.lt(360/edge)\n",
    "\n",
    "t.clear()\n",
    "for i in range(15):\n",
    "    t.home()\n",
    "    Polygon(i)"
   ]
  },
  {
   "cell_type": "markdown",
   "metadata": {},
   "source": [
    "### 별 그리기"
   ]
  },
  {
   "cell_type": "code",
   "execution_count": 64,
   "metadata": {},
   "outputs": [],
   "source": [
    "import turtle as t\n",
    "\n",
    "t.speed(5)\n",
    "def Star(len):\n",
    "    for i in range(5):\n",
    "        t.fd(len)\n",
    "        t.rt(144)\n",
    "        \n",
    "t.clear()\n",
    "Star(100)"
   ]
  },
  {
   "cell_type": "markdown",
   "metadata": {},
   "source": [
    "### 원 그리기"
   ]
  },
  {
   "cell_type": "code",
   "execution_count": 1,
   "metadata": {},
   "outputs": [],
   "source": [
    "import turtle as t\n",
    "\n",
    "t.clear()\n",
    "t.speed(0)\n",
    "\n",
    "for i in range(0, 100, 10):\n",
    "    t.circle(i+10)"
   ]
  },
  {
   "cell_type": "markdown",
   "metadata": {},
   "source": [
    "### 출력 형식"
   ]
  },
  {
   "cell_type": "code",
   "execution_count": 1,
   "metadata": {},
   "outputs": [
    {
     "name": "stdout",
     "output_type": "stream",
     "text": [
      "\n",
      "4. === 두 수의 사칙연산 ===\n",
      "12.00 + 32.00 =  44.00\n",
      "12.00 - 32.00 = -20.00\n",
      "12.00 * 32.00 = 384.00\n",
      "12.00 / 32.00 =   0.38\n"
     ]
    }
   ],
   "source": [
    "print(\"\\n4. === 두 수의 사칙연산 ===\")\n",
    "x = 12\n",
    "y = 32\n",
    "x, y = float(x), float(y)\n",
    "print(\"%5.2f + %5.2f = %6.2f\" %(x, y, x+y))\n",
    "print(\"%5.2f - %5.2f = %6.2f\" %(x, y, x-y))\n",
    "print(\"%5.2f * %5.2f = %6.2f\" %(x, y, x*y))\n",
    "print(\"%5.2f / %5.2f = %6.2f\" %(x, y, x/y))"
   ]
  },
  {
   "cell_type": "code",
   "execution_count": 4,
   "metadata": {},
   "outputs": [
    {
     "name": "stdout",
     "output_type": "stream",
     "text": [
      "string\n",
      "'string'\n",
      "\"string\"\n",
      "\\string\\\n",
      "!@#$%^&*()\n"
     ]
    }
   ],
   "source": [
    "print(\"string\")\n",
    "print(\"\\'string\\'\")\n",
    "print(\"\\\"string\\\"\")\n",
    "print(\"\\\\string\\\\\")\n",
    "print(\"!@#$%^&*()\")"
   ]
  }
 ],
 "metadata": {
  "kernelspec": {
   "display_name": "Python 3.10.5 64-bit",
   "language": "python",
   "name": "python3"
  },
  "language_info": {
   "codemirror_mode": {
    "name": "ipython",
    "version": 3
   },
   "file_extension": ".py",
   "mimetype": "text/x-python",
   "name": "python",
   "nbconvert_exporter": "python",
   "pygments_lexer": "ipython3",
   "version": "3.10.5"
  },
  "orig_nbformat": 4,
  "vscode": {
   "interpreter": {
    "hash": "aee8b7b246df8f9039afb4144a1f6fd8d2ca17a180786b69acc140d282b71a49"
   }
  }
 },
 "nbformat": 4,
 "nbformat_minor": 2
}
