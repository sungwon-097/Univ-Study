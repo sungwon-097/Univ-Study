{
 "cells": [
  {
   "cell_type": "markdown",
   "metadata": {},
   "source": [
    "## Day 3-1\n",
    "\n",
    "- 22.06.24"
   ]
  },
  {
   "cell_type": "markdown",
   "metadata": {},
   "source": [
    "### Print\n",
    "\n",
    "- 기본 출력 함수"
   ]
  },
  {
   "cell_type": "code",
   "execution_count": 4,
   "metadata": {},
   "outputs": [
    {
     "name": "stdout",
     "output_type": "stream",
     "text": [
      "Hello World\n",
      "Hello \"World\"\n",
      "Hello 'World'\n",
      "Hello \"World\"\n"
     ]
    }
   ],
   "source": [
    "print(\"Hello World\")\n",
    "print('Hello \"World\"')\n",
    "print(\"Hello 'World'\")\n",
    "print(\"Hello \\\"World\\\"\") # 특수문자를 쓸 땐  \\사용"
   ]
  },
  {
   "cell_type": "code",
   "execution_count": 8,
   "metadata": {},
   "outputs": [
    {
     "name": "stdout",
     "output_type": "stream",
     "text": [
      "quit # 여러줄 사용 형식\n",
      "qwe\n",
      "qwe\n",
      "wqe\n"
     ]
    }
   ],
   "source": [
    "text ='''여러줄\n",
    "사용\n",
    "형식\n",
    "'''\n",
    "\n",
    "print(text)"
   ]
  },
  {
   "cell_type": "code",
   "execution_count": 14,
   "metadata": {},
   "outputs": [
    {
     "name": "stdout",
     "output_type": "stream",
     "text": [
      "파이썬 정말 반가워\n",
      "파이썬,정말,반가워\n",
      "파이썬정말반가워\n"
     ]
    }
   ],
   "source": [
    "print(\"파이썬\", \"정말\", \"반가워\", sep = \" \") # default\n",
    "print(\"파이썬\", \"정말\", \"반가워\", sep = \",\")\n",
    "print(\"파이썬\", \"정말\", \"반가워\", sep = \"\")"
   ]
  },
  {
   "cell_type": "markdown",
   "metadata": {},
   "source": [
    "|특수문자|내용|\n",
    "|-|-|\n",
    "|\\n|new line|\n",
    "|\\t|tab|\n",
    "|\\\\|\\|\n",
    "|\\b|backspace|"
   ]
  },
  {
   "cell_type": "code",
   "execution_count": 13,
   "metadata": {},
   "outputs": [
    {
     "name": "stdout",
     "output_type": "stream",
     "text": [
      "Hello World\tHello World\n"
     ]
    }
   ],
   "source": [
    "print(\"Hello World\", end = \"\\t\")\n",
    "print(\"Hello World\", end = \"\\n\") # default"
   ]
  }
 ],
 "metadata": {
  "kernelspec": {
   "display_name": "Python 3.9.12 64-bit",
   "language": "python",
   "name": "python3"
  },
  "language_info": {
   "codemirror_mode": {
    "name": "ipython",
    "version": 3
   },
   "file_extension": ".py",
   "mimetype": "text/x-python",
   "name": "python",
   "nbconvert_exporter": "python",
   "pygments_lexer": "ipython3",
   "version": "3.9.12"
  },
  "orig_nbformat": 4,
  "vscode": {
   "interpreter": {
    "hash": "31f2aee4e71d21fbe5cf8b01ff0e069b9275f58929596ceb00d14d90e3e16cd6"
   }
  }
 },
 "nbformat": 4,
 "nbformat_minor": 2
}
