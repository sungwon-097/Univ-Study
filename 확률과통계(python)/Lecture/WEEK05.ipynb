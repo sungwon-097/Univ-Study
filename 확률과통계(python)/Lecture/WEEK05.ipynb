{
 "cells": [
  {
   "cell_type": "markdown",
   "source": [
    "# 5주 1강 : 확률론 기초\r\n",
    "Date : 21.09.29"
   ],
   "metadata": {}
  },
  {
   "cell_type": "markdown",
   "source": [
    "Bayes'Theorem에 대해서 배웁니다."
   ],
   "metadata": {}
  },
  {
   "cell_type": "markdown",
   "source": [
    "조건부 확률 : 특정사건이 일어난 것을 알고 있을 때, 다른 사건이 동시에 발생하는 확률"
   ],
   "metadata": {}
  },
  {
   "cell_type": "markdown",
   "source": [
    "독립사건 : 한 사건이 발생한 사실을 아는 것이 다른 사건의 확률에 아무 영향을 주지 못함.\r\n",
    "\r\n",
    "    * 큰 수의 법칙 : 표본 집단이 커지면 평균이 확률에 수렴함."
   ],
   "metadata": {}
  },
  {
   "cell_type": "markdown",
   "source": [
    "Bayes'Theorem : "
   ],
   "metadata": {}
  }
 ],
 "metadata": {
  "orig_nbformat": 4,
  "language_info": {
   "name": "python",
   "version": "3.8.3"
  },
  "kernelspec": {
   "name": "python3",
   "display_name": "Python 3.8.3 64-bit ('base': conda)"
  },
  "interpreter": {
   "hash": "8fac594bfae6525c0c41b4041d2d72effa188cc8ead05f81b1fab2bb098927fb"
  }
 },
 "nbformat": 4,
 "nbformat_minor": 2
}