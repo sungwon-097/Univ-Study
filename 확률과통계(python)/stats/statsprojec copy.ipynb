{
 "cells": [
  {
   "cell_type": "markdown",
   "metadata": {},
   "source": [
    "# Midterm Project : M.A.F.I.A. in the morning\n",
    "* * *"
   ]
  },
  {
   "cell_type": "markdown",
   "metadata": {},
   "source": [
    "## 해 보실 일들\n",
    "* 아래 “해야 할 일들”은 꼭 이 일들만 하라는 뜻이 아닙니다. 이외에도 주어진 문제를 다양하게 분석하고 실험해 보세요.\n",
    "\n",
    "* 이 프로젝트는 마피아를 확률 시뮬레이션으로 실험해보는 프로젝트입니다.\n",
    "    * 프로젝트는 코드의 구현보다는 \"실험\"을 해보시고, 시뮬레이션 데이터를 통해 확률을 더 잘 이해해보자는 취지입니다\n",
    "    * 그래서 당연히 정해진 정답이 없습니다.\n",
    "    * 틀려도 됩니다. 노력에는 보상이 따를 것입니다.\n",
    "    * 제출하실 때 코드와 함께 짧은 (A4용지 2~3장 내외) 보고서를 같이 내 주세요.\n",
    "    * 더 길게 내셔도 됩니다. 다만 같은 내용을 반복한다든지 하는 방법은 피해주세요."
   ]
  },
  {
   "cell_type": "code",
   "execution_count": 65,
   "metadata": {},
   "outputs": [],
   "source": [
    "import numpy as np\n",
    "import pandas as pd\n",
    "from scipy import stats\n",
    "from matplotlib import pyplot as plt\n",
    "from collections import Counter\n",
    "import random"
   ]
  },
  {
   "cell_type": "markdown",
   "metadata": {},
   "source": [
    "## 1. 가장 단순한 마피아 게임\n",
    "* 일단 시민과 마피아 딱 두 종류의 집단만 있다고 생각해 봅시다.\n",
    "* 아래의 상황을 시뮬레이션으로 만들어 보세요.\n",
    "* 하루는 낮과 밤으로 이루어져 있습니다. \n",
    "    * 게임은 낮을 먼저, 밤을 나중에 합니다: 1일차 낮 → 1일차 밤 → 2일차 낮 → 2일차 밤 → ... \n",
    "    * 낮에는 모든 사람이 무작위적으로 한 사람을 죽입니다. 마피아는 서로를 알고 있지만, 사람을 죽이는 것은 무작위적이라고 생각하시면 됩니다.\n",
    "    * 밤에는 마피아가 시민 중에 한 명을 죽입니다. \n",
    "* 처음에 주어진 마피아와 시민의 수에 따라서 시민과 마피아의 승률은 어떻게 될까요? 여러번 시뮬레이션을 해 보시면서 주어진 조건에 대해 평균 승률을 구해 보세요. \n",
    "* 혹시 시민과 마피아의 수에 대해서 어떤 패턴이 보이시나요? 보인다면 그 이유는 무엇일까요?\n",
    "    * 잘 보이지 않는다면 한 변수를 고정하고 다른 변수를 하나씩 증가하면서 관측을 여러번 해 보세요"
   ]
  },
  {
   "cell_type": "markdown",
   "metadata": {},
   "source": [
    "* 기본적인 Function을 먼저 정의\n",
    "\n",
    "    - in_Game()          : 게임을 진행. 시민의 승패여부를 리턴\n",
    "    - citizen_win_Rate() : 시민이 이길 확률을 계산하고 리턴\n",
    "    - in_Night()         : 밤이 되었을 때, 활동 정의. 수행 후 날짜와 시민 수를 리턴값으로 업데이트\n",
    "    - in_Morning()       : 낮이 되었을 때, 활동 정의. 수행 후 시민과 마피아  리턴값으로 업데이트\n",
    "    - Mafia_Game1()      : 마피아와 시민의 비율을 변경하며 각 확률을 저장한 리스트를 리턴"
   ]
  },
  {
   "cell_type": "markdown",
   "metadata": {},
   "source": [
    "- in_Game()내의 print문을 주석해제 하여 정상작동함을 확인 할 수 있다"
   ]
  },
  {
   "cell_type": "markdown",
   "metadata": {},
   "source": [
    "- citizen_win_Rate() : 같은조건의 게임을 반복하여 확률을 반환 \n",
    "- Mafia_Game_Basic() : 마피아/게임인원의 비율을 변경하며 각 확률을 저장하는 리스트를 반환"
   ]
  },
  {
   "cell_type": "markdown",
   "metadata": {},
   "source": [
    "## 실험 방법\n",
    "\n",
    "- 시민의 수가 마피아의 수 이하일 경우 마피아의 승\n",
    "- 또한 마피아의 수가 0명이 될 경우 시민의 승\n",
    "- 코드에서 시민의 수는 고정, 마피아의 수를 늘려가며 시민의 승률을 계산함\n",
    "- 시민의 수(number_of_citizen)를 변경하며 그에 따른 승률도 추가로 확인 해볼 수 있음\n",
    "- 각 게임은 동일 조건 하에 times_game번 실행, 평균적인 승률을 조건마다 반영\n",
    "- kill이 일어 날 때 :\n",
    "    - kill이 마피아의 수 이하일 때에는 마피아 사망, 그렇지 않을 경우 시민 사망\n",
    "    - 마피아가 세 명일 때 참가자의 번호를 아래와 같이 설정한다\n",
    "    \n",
    "|마피아|마피아|마피아|시민|...|시민|\n",
    "|-|-|-|-|-|-|\n",
    "|1|2|3|4|...|n-1|"
   ]
  },
  {
   "cell_type": "markdown",
   "metadata": {},
   "source": [
    "## 낮 투표 : 난수가 마피아 명 수 이하일 떄 마피아가, 클 때는 시민이 죽음\n",
    "- day = \"morning\" 일 때, 난수를 갖는 kill의 값에 따라 랜덤하게 한 명이 죽음\n",
    "    - 난수가 7, 마피아가 5 명(kill > num_mafia) : 시민이 죽음\n",
    "    - 난수가 3, 마피아가 5 명(kill <= num_mafia) : 마피아가 죽음\n",
    "\n",
    "## 마피아 : 밤에 시민 중 한명을 죽임\n",
    "- day = \"night\" 일 떄, 시민 수가 -1 되도록 함"
   ]
  },
  {
   "cell_type": "code",
   "execution_count": 66,
   "metadata": {},
   "outputs": [],
   "source": [
    "def job_Init(num, job, list):\n",
    "    for i in range(0, num):\n",
    "        list.append(job)\n",
    "\n",
    "def init_Count(list):\n",
    "    mafia=list.count(\"mafia\")\n",
    "    citizen=list.count(\"citizen\")\n",
    "    #police=list.count(\"police\")\n",
    "    participants = mafia+citizen+police\n",
    "    return mafia, citizen, participants\n",
    "\n",
    "def modefinder(numbers): \n",
    "    c = Counter(numbers) \n",
    "    mode = c.most_common(1) \n",
    "    return mode[0][0]"
   ]
  },
  {
   "cell_type": "code",
   "execution_count": 67,
   "metadata": {},
   "outputs": [
    {
     "name": "stdout",
     "output_type": "stream",
     "text": [
      "['citizen', 'citizen']\n",
      "True\n",
      "['citizen', 'citizen']\n",
      "True\n",
      "['citizen', 'citizen']\n",
      "True\n",
      "['citizen', 'citizen']\n",
      "True\n",
      "['citizen', 'citizen']\n",
      "True\n"
     ]
    }
   ],
   "source": [
    "Game_participants=[\"mafia\", \"citizen\",\"citizen\",\"citizen\",\"citizen\",\"citizen\",\"citizen\",\"citizen\",\"citizen\",\"citizen\",\"citizen\"]\n",
    "\n",
    "def in_Game(Game_participants):\n",
    "    mafia = Game_participants.count(\"mafia\")\n",
    "    citizen = Game_participants.count(\"citizen\")\n",
    "    participants = mafia + citizen\n",
    "    turn = \"morning\"\n",
    "    win=False\n",
    "    while (mafia>0) & (mafia < citizen):\n",
    "        if turn == \"morning\":\n",
    "            vote_list=list()\n",
    "            for i in Game_participants:\n",
    "                if i == \"mafia\":\n",
    "                    vote_list.append(random.randrange(mafia,participants))\n",
    "                else:\n",
    "                    vote_list.append(random.randrange(0,participants))\n",
    "            vote = modefinder(vote_list)\n",
    "            del Game_participants[vote]\n",
    "            turn = \"night\"\n",
    "        else:\n",
    "            kill = random.randrange(mafia, participants)\n",
    "            del Game_participants[kill]\n",
    "            turn = \"morning\"\n",
    "        mafia = Game_participants.count(\"mafia\")\n",
    "        citizen = Game_participants.count(\"citizen\")\n",
    "        participants = mafia + citizen\n",
    "    print(Game_participants)\n",
    "    if mafia==0:\n",
    "        win = True\n",
    "    return win\n",
    "\n",
    "i=0\n",
    "for i in range(0,5):\n",
    "    print(in_Game(Game_participants))\n",
    "\n"
   ]
  },
  {
   "cell_type": "markdown",
   "metadata": {},
   "source": [
    "## Data Frame\n",
    "-  game_list : 마피아 수\n",
    "- citizens_win_list : 시민의 우승 횟수 / 전체 게임 횟수(%)"
   ]
  },
  {
   "cell_type": "markdown",
   "metadata": {},
   "source": [
    "## Histogram\n",
    "\n",
    "- x축 : 시민의 우승 횟수 / 전체 게임 횟수(%)\n",
    "- y축 : 마피아 수"
   ]
  },
  {
   "cell_type": "markdown",
   "metadata": {},
   "source": [
    "## 1-1. 게임을 진행하는 인원수가 많아져도 이 그래프가 유효할지에 대한 실험\n",
    "\n",
    "- 시민의 수가 각각 10, 50, 100명일 때의 우승확률을 계산해본다\n",
    "- 위에서는 x축 값을 마피아 수로 설정했지만 아래에선 게임 인원이 다르기 때문에 마피아/시민수의 비율로 설정한다"
   ]
  },
  {
   "cell_type": "markdown",
   "metadata": {},
   "source": [
    "## 2. 경찰은 마피아를 찾습니다\n",
    "* 가장 단순한 게임에 경찰이 들어옵니다.\n",
    "    * 경찰은 매일 시작 전에 사람을 지목해서 마피아인지 확인할 수 있습니다.\n",
    "        * 마피아를 지목할수도, 시민을 지목할 수도 있지요\n",
    "    * 경찰이 마피아를 확인한다면 마피아가 발각될 확률을 약간 올려준다고 생각해 봅시다. \n",
    "        * 이 확률도 parameter로 쓸 수 있겠죠?\n",
    "    * 경찰의 기억력은 형편 없어서 그날 확인한 사람은 당일만 알고 있는 경우도 생각해보고\n",
    "    * 경찰이 기억력이 좋아서 그날 확인한 사람을 계속 알고 있는 경우도 생각해볼 수 있겠죠\n",
    "* 이 경우 확률은 어떻게 변화할까요? 어떤 패턴이 있을까요?\n",
    "    * 참고로 경찰은 시민의 일종입니다. 마피아가 밤에 죽일 수도 있습니다."
   ]
  },
  {
   "cell_type": "code",
   "execution_count": 68,
   "metadata": {},
   "outputs": [],
   "source": [
    "def job_Init(num, job, list):\n",
    "    for i in range(0, num):\n",
    "        list.append(job)\n",
    "\n",
    "def people_Count(list):\n",
    "    mafia=list.count(\"mafia\")\n",
    "    citizen=list.count(\"citizen\")\n",
    "    #police=list.count(\"police\")\n",
    "    participants = mafia+citizen+police\n",
    "    return mafia, citizen, participants\n",
    "\n",
    "def modefinder(numbers): \n",
    "    c = Counter(numbers) \n",
    "    mode = c.most_common(1) \n",
    "    return mode[0][0]"
   ]
  },
  {
   "cell_type": "code",
   "execution_count": 69,
   "metadata": {},
   "outputs": [],
   "source": [
    "# 투표\n",
    "def day_Vote(participants):\n",
    "    vote_list=list()\n",
    "    for i in range(0, len(participants)):\n",
    "        if participants[i]==\"mafia\":\n",
    "            vote=random.randrange(participants.index(\"citizen\"), len(participants))\n",
    "            vote_list.append(vote)\n",
    "        else:\n",
    "            vote=random.randrange(0, len(participants))\n",
    "            vote_list.append(vote)\n",
    "    max_vote=modefinder(vote_list)\n",
    "    del participants[max_vote]\n",
    "    return participants"
   ]
  },
  {
   "cell_type": "code",
   "execution_count": 70,
   "metadata": {},
   "outputs": [],
   "source": [
    "def night_Kill(participants):\n",
    "    p_len = len(participants)\n",
    "    begin = participants.index(\"citizen\")\n",
    "    vote_list=list()\n",
    "    for i in range(0, begin):\n",
    "        if participants[i]==\"mafia\":\n",
    "            vote=random.randrange(begin, p_len)\n",
    "            vote_list.append(vote)\n",
    "    max_vote=modefinder(vote_list)\n",
    "    del participants[max_vote]\n",
    "    return participants"
   ]
  },
  {
   "cell_type": "code",
   "execution_count": 71,
   "metadata": {},
   "outputs": [],
   "source": [
    "mafia=1\n",
    "citizen=10\n",
    "police=1\n",
    "Game_participants=list()\n",
    "job_Init(mafia, \"mafia\", Game_participants)\n",
    "job_Init(citizen, \"citizen\", Game_participants)"
   ]
  },
  {
   "cell_type": "code",
   "execution_count": 72,
   "metadata": {},
   "outputs": [
    {
     "ename": "TypeError",
     "evalue": "object of type 'int' has no len()",
     "output_type": "error",
     "traceback": [
      "\u001b[0;31m---------------------------------------------------------------------------\u001b[0m",
      "\u001b[0;31mTypeError\u001b[0m                                 Traceback (most recent call last)",
      "\u001b[0;32m<ipython-input-72-ed42899979a0>\u001b[0m in \u001b[0;36m<module>\u001b[0;34m\u001b[0m\n\u001b[1;32m     16\u001b[0m     \u001b[0;32mreturn\u001b[0m \u001b[0mwin\u001b[0m\u001b[0;34m\u001b[0m\u001b[0;34m\u001b[0m\u001b[0m\n\u001b[1;32m     17\u001b[0m \u001b[0;34m\u001b[0m\u001b[0m\n\u001b[0;32m---> 18\u001b[0;31m \u001b[0min_Game\u001b[0m\u001b[0;34m(\u001b[0m\u001b[0mGame_participants\u001b[0m\u001b[0;34m)\u001b[0m\u001b[0;34m\u001b[0m\u001b[0;34m\u001b[0m\u001b[0m\n\u001b[0m",
      "\u001b[0;32m<ipython-input-72-ed42899979a0>\u001b[0m in \u001b[0;36min_Game\u001b[0;34m(participants)\u001b[0m\n\u001b[1;32m      5\u001b[0m         \u001b[0mmafia\u001b[0m\u001b[0;34m,\u001b[0m \u001b[0mcitizen\u001b[0m\u001b[0;34m,\u001b[0m \u001b[0mparticipants\u001b[0m \u001b[0;34m=\u001b[0m \u001b[0mpeople_Count\u001b[0m\u001b[0;34m(\u001b[0m\u001b[0mparticipants\u001b[0m\u001b[0;34m)\u001b[0m\u001b[0;34m\u001b[0m\u001b[0;34m\u001b[0m\u001b[0m\n\u001b[1;32m      6\u001b[0m         \u001b[0;32mif\u001b[0m \u001b[0mmorning\u001b[0m \u001b[0;34m==\u001b[0m \u001b[0;32mTrue\u001b[0m\u001b[0;34m:\u001b[0m\u001b[0;34m\u001b[0m\u001b[0;34m\u001b[0m\u001b[0m\n\u001b[0;32m----> 7\u001b[0;31m             \u001b[0mparticipants\u001b[0m \u001b[0;34m=\u001b[0m \u001b[0mday_Vote\u001b[0m\u001b[0;34m(\u001b[0m\u001b[0mparticipants\u001b[0m\u001b[0;34m)\u001b[0m\u001b[0;34m\u001b[0m\u001b[0;34m\u001b[0m\u001b[0m\n\u001b[0m\u001b[1;32m      8\u001b[0m             \u001b[0mmorning\u001b[0m \u001b[0;34m=\u001b[0m \u001b[0;32mFalse\u001b[0m\u001b[0;34m\u001b[0m\u001b[0;34m\u001b[0m\u001b[0m\n\u001b[1;32m      9\u001b[0m         \u001b[0;32melse\u001b[0m\u001b[0;34m:\u001b[0m\u001b[0;34m\u001b[0m\u001b[0;34m\u001b[0m\u001b[0m\n",
      "\u001b[0;32m<ipython-input-69-37caf9f0475d>\u001b[0m in \u001b[0;36mday_Vote\u001b[0;34m(participants)\u001b[0m\n\u001b[1;32m      2\u001b[0m \u001b[0;32mdef\u001b[0m \u001b[0mday_Vote\u001b[0m\u001b[0;34m(\u001b[0m\u001b[0mparticipants\u001b[0m\u001b[0;34m)\u001b[0m\u001b[0;34m:\u001b[0m\u001b[0;34m\u001b[0m\u001b[0;34m\u001b[0m\u001b[0m\n\u001b[1;32m      3\u001b[0m     \u001b[0mvote_list\u001b[0m\u001b[0;34m=\u001b[0m\u001b[0mlist\u001b[0m\u001b[0;34m(\u001b[0m\u001b[0;34m)\u001b[0m\u001b[0;34m\u001b[0m\u001b[0;34m\u001b[0m\u001b[0m\n\u001b[0;32m----> 4\u001b[0;31m     \u001b[0;32mfor\u001b[0m \u001b[0mi\u001b[0m \u001b[0;32min\u001b[0m \u001b[0mrange\u001b[0m\u001b[0;34m(\u001b[0m\u001b[0;36m0\u001b[0m\u001b[0;34m,\u001b[0m \u001b[0mlen\u001b[0m\u001b[0;34m(\u001b[0m\u001b[0mparticipants\u001b[0m\u001b[0;34m)\u001b[0m\u001b[0;34m)\u001b[0m\u001b[0;34m:\u001b[0m\u001b[0;34m\u001b[0m\u001b[0;34m\u001b[0m\u001b[0m\n\u001b[0m\u001b[1;32m      5\u001b[0m         \u001b[0;32mif\u001b[0m \u001b[0mparticipants\u001b[0m\u001b[0;34m[\u001b[0m\u001b[0mi\u001b[0m\u001b[0;34m]\u001b[0m\u001b[0;34m==\u001b[0m\u001b[0;34m\"mafia\"\u001b[0m\u001b[0;34m:\u001b[0m\u001b[0;34m\u001b[0m\u001b[0;34m\u001b[0m\u001b[0m\n\u001b[1;32m      6\u001b[0m             \u001b[0mvote\u001b[0m\u001b[0;34m=\u001b[0m\u001b[0mrandom\u001b[0m\u001b[0;34m.\u001b[0m\u001b[0mrandrange\u001b[0m\u001b[0;34m(\u001b[0m\u001b[0mparticipants\u001b[0m\u001b[0;34m.\u001b[0m\u001b[0mindex\u001b[0m\u001b[0;34m(\u001b[0m\u001b[0;34m\"citizen\"\u001b[0m\u001b[0;34m)\u001b[0m\u001b[0;34m,\u001b[0m \u001b[0mlen\u001b[0m\u001b[0;34m(\u001b[0m\u001b[0mparticipants\u001b[0m\u001b[0;34m)\u001b[0m\u001b[0;34m)\u001b[0m\u001b[0;34m\u001b[0m\u001b[0;34m\u001b[0m\u001b[0m\n",
      "\u001b[0;31mTypeError\u001b[0m: object of type 'int' has no len()"
     ]
    }
   ],
   "source": [
    "def in_Game(participants):\n",
    "    win = True\n",
    "    morning = True\n",
    "    while True:\n",
    "        mafia, citizen, participants = people_Count(participants)\n",
    "        if morning == True:\n",
    "            participants = day_Vote(participants)\n",
    "            morning = False\n",
    "        else:\n",
    "            participants = night_Kill(participants)\n",
    "            morning = True\n",
    "        #print(f\"Day{day}{morning}\\t Mafia : {mafia} Citizen : {citizen}\")\n",
    "        if (mafia == 0) | (citizen == mafia): break\n",
    "    if mafia > 0:\n",
    "        win = False\n",
    "    return win\n",
    "\n",
    "in_Game(Game_participants)"
   ]
  },
  {
   "cell_type": "markdown",
   "metadata": {},
   "source": [
    "## Data Frame\n",
    "-  game_list : 마피아 수\n",
    "- citizens_win_list : 시민의 우승 횟수 / 전체 게임 횟수(%)"
   ]
  },
  {
   "cell_type": "markdown",
   "metadata": {},
   "source": [
    "## Histogram\n",
    "\n",
    "- x축 : 시민의 우승 횟수 / 전체 게임 횟수(%)\n",
    "- y축 : 마피아 수"
   ]
  },
  {
   "cell_type": "markdown",
   "metadata": {},
   "source": [
    "## 3. 메딕은 시민을 살립니다.\n",
    "* 가장 단순한 게임에 메딕이 들어옵니다\n",
    "    * 메딕은 매일 밤 한 사람을 골라서 살려줍니다\n",
    "        * 마피아의 총에 맞은 사람을 지목하면 살리고\n",
    "        * 아닌 사람을 지목하면 아무 일도 일어나지 않겠죠\n",
    "* 이 경우 확률은 어떻게 변화할까요? 어떤 패턴이 있을까요?\n",
    "    * 메딕도 시민입니다. 마피아가 밤에 죽일 수도 있습니다."
   ]
  },
  {
   "cell_type": "markdown",
   "metadata": {},
   "source": [
    "## 4. 경찰은 마피아를 찾고, 메딕은 시민을 살립니다.\n",
    "* 경찰도 메딕도 있는 게임을 생각해 봅시다.\n",
    "* 게임이 많이 복잡해지죠?"
   ]
  },
  {
   "cell_type": "markdown",
   "metadata": {},
   "source": [
    "## 제출 방법\n",
    "* Due Date: 2021년 11월 26일 23시 59분\n",
    "* LMS (https://myclass.ssu.ac.kr)에 제출합니다.\n",
    "    * 파일은 STAT2021_PR1_20212021_홍길동.zip 형태로 부탁드립니다\n",
    "    * 이 형태가 아닌 경우 제대로 제출되지 않을 수 있습니다.\n",
    "    * 보고서 PDF파일과 소스코드를 압축해서 한 파일로 만들어주세요 (HWP로 내시면 화낼거에요)\n",
    "    * 제발 간절히 부탁합니다. egg 혹은 alz는 쓰지 말아주세요... (감점할거에요 -_-+)\n",
    "    * 제대로 전송이 안되면 개별 파일을 따로 올리셔도 됩니다.\n",
    "    * 구현체는 제대로 작동을 하면 어떤 형태도 좋습니다.\n",
    "    * 점수의 차이는 주로 해 보신 실험과 보고서에서 있을 것입니다. 재밌는 실험 많이 해보세요. 굿럭!"
   ]
  }
 ],
 "metadata": {
  "interpreter": {
   "hash": "7701e315afe9817cfa2b0f6bb8fa149debf7ee5cf8a2c9257a58de5d29c6ac2e"
  },
  "kernelspec": {
   "display_name": "Python 3.8.8 64-bit ('base': conda)",
   "name": "python3"
  },
  "language_info": {
   "codemirror_mode": {
    "name": "ipython",
    "version": 3
   },
   "file_extension": ".py",
   "mimetype": "text/x-python",
   "name": "python",
   "nbconvert_exporter": "python",
   "pygments_lexer": "ipython3",
   "version": "3.8.8"
  },
  "orig_nbformat": 4
 },
 "nbformat": 4,
 "nbformat_minor": 2
}
