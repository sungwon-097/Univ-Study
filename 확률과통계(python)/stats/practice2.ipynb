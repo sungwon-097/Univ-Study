{
 "cells": [
  {
   "cell_type": "markdown",
   "metadata": {},
   "source": [
    "# Midterm Project : M.A.F.I.A. in the morning(2)\n",
    "* * *"
   ]
  },
  {
   "cell_type": "markdown",
   "metadata": {},
   "source": [
    "## 2. 경찰은 마피아를 찾습니다\n",
    "* 가장 단순한 게임에 경찰이 들어옵니다.\n",
    "    * 경찰은 매일 시작 전에 사람을 지목해서 마피아인지 확인할 수 있습니다.\n",
    "        * 마피아를 지목할수도, 시민을 지목할 수도 있지요\n",
    "    * 경찰이 마피아를 확인한다면 마피아가 발각될 확률을 약간 올려준다고 생각해 봅시다. \n",
    "        * 이 확률도 parameter로 쓸 수 있겠죠?\n",
    "    * 경찰의 기억력은 형편 없어서 그날 확인한 사람은 당일만 알고 있는 경우도 생각해보고\n",
    "    * 경찰이 기억력이 좋아서 그날 확인한 사람을 계속 알고 있는 경우도 생각해볼 수 있겠죠\n",
    "* 이 경우 확률은 어떻게 변화할까요? 어떤 패턴이 있을까요?\n",
    "    * 참고로 경찰은 시민의 일종입니다. 마피아가 밤에 죽일 수도 있습니다."
   ]
  },
  {
   "cell_type": "code",
   "execution_count": 1,
   "metadata": {},
   "outputs": [],
   "source": [
    "import numpy as np\n",
    "import pandas as pd\n",
    "from matplotlib import pyplot as plt\n",
    "from collections import Counter\n",
    "import random"
   ]
  },
  {
   "cell_type": "markdown",
   "metadata": {},
   "source": [
    "### 구현 방법\n",
    "\n",
    "- practice1을 기반으로 경찰을 추가\n",
    "- 경찰은 마피아를 찾음\n",
    "    - 편의를 위해 구현은 낮에 하였으나 살인이 끝난 후 새벽에 마피아를 검거한다는 설정\n",
    "- 랜덤하게 참가자중 한 명을 찾고 마피아인지 확인\n",
    "    - 마피아가 맞다면 인덱스를 반환\n",
    "- 낮투표중 경찰의 신뢰도를 랜덤하게 반환\n",
    "    - 신뢰도는 참가 인원 중 몇 명을 신뢰하게 만들었는지로 확인\n",
    "    - 과반수 이상 일 경우 기존 투표결과를 경찰이 찾은 마피아로 변경"
   ]
  },
  {
   "cell_type": "markdown",
   "metadata": {},
   "source": [
    "### Code\n",
    "\n",
    "- 기존 코드에서의 변경 내용을 표시"
   ]
  },
  {
   "cell_type": "code",
   "execution_count": 2,
   "metadata": {},
   "outputs": [],
   "source": [
    "def job_Init(num, job, list):\n",
    "    for i in range(0, num):\n",
    "        list.append(job)\n",
    "\n",
    "def people_Count(list):\n",
    "    mafia=list.count(\"mafia\")\n",
    "    citizen=list.count(\"citizen\")\n",
    "    police=list.count(\"police\")\n",
    "    participant = mafia + citizen + police\n",
    "    return mafia, citizen, police, participant\n",
    "\n",
    "def modefinder(numbers):\n",
    "    c = Counter(numbers)\n",
    "    mode = c.most_common(1)\n",
    "    return mode[0][0]"
   ]
  },
  {
   "cell_type": "markdown",
   "metadata": {},
   "source": [
    "- police_Find(리스트) : 참가 인원 중 랜덤하게 한 명을 지목해 마피아를 찾으면 그 인덱스를 반환"
   ]
  },
  {
   "cell_type": "code",
   "execution_count": 3,
   "metadata": {},
   "outputs": [],
   "source": [
    "def police_Find(participant):\n",
    "    arrest=random.randrange(0, len(participant)-1)\n",
    "    if participant[arrest]==\"police\":\n",
    "        police_Find(participant)\n",
    "    elif participant[arrest] == \"mafia\":\n",
    "        return arrest\n",
    "    return None"
   ]
  },
  {
   "cell_type": "markdown",
   "metadata": {},
   "source": [
    "- police_arrest(인덱스, 리스트) : 경찰이 살아있을 때, 경찰에 대한 시민의 신뢰도를 랜덤하게 결정, 과반수 이상일 때 마피아 인덱스를 반환"
   ]
  },
  {
   "cell_type": "code",
   "execution_count": 4,
   "metadata": {},
   "outputs": [],
   "source": [
    "def police_arrest(vote, participants):\n",
    "    if participants.count(\"police\") == 0:\n",
    "        return vote\n",
    "    else:\n",
    "        trust=random.randrange(0, len(participants))\n",
    "        if trust*2 > len(participants):\n",
    "            find = police_Find(participants)\n",
    "            if find!=None:\n",
    "                return find\n",
    "    return vote"
   ]
  },
  {
   "cell_type": "markdown",
   "metadata": {},
   "source": [
    "- 낮투표의 최빈값을 계산, 경찰의 신뢰도가 과반수 이상이면 투표를 무시하고 마피아를 검거"
   ]
  },
  {
   "cell_type": "code",
   "execution_count": 5,
   "metadata": {},
   "outputs": [],
   "source": [
    "def day_Vote(participants):\n",
    "    vote_list=list()\n",
    "    mafia_count=participants.count(\"mafia\")\n",
    "    for i in range(0, len(participants)):\n",
    "        if participants[i]==\"mafia\":\n",
    "            vote=random.randrange(mafia_count, len(participants))\n",
    "            vote_list.append(vote)\n",
    "        else:\n",
    "            vote=random.randrange(0, len(participants))\n",
    "            vote_list.append(vote)\n",
    "    max_vote=modefinder(vote_list)\n",
    "    max_vote=police_arrest(max_vote, participants)\n",
    "    del participants[max_vote]\n",
    "    return participants"
   ]
  },
  {
   "cell_type": "code",
   "execution_count": 6,
   "metadata": {},
   "outputs": [],
   "source": [
    "def night_Kill(participants):\n",
    "    vote_list=list()\n",
    "    mafia_idx=0\n",
    "    mafia_count=participants.count(\"mafia\")\n",
    "    while(participants[mafia_idx] == \"mafia\"):\n",
    "        vote=random.randrange(mafia_count, len(participants))\n",
    "        vote_list.append(vote)\n",
    "        mafia_idx+=1\n",
    "    max_vote=modefinder(vote_list)\n",
    "    del participants[max_vote]\n",
    "    return participants"
   ]
  },
  {
   "cell_type": "code",
   "execution_count": 7,
   "metadata": {},
   "outputs": [],
   "source": [
    "def in_Game(participants):\n",
    "    turn = \"morning\"\n",
    "    mafia, citizen, police, people = people_Count(participants)\n",
    "    while (mafia > 0) & (people-mafia > mafia) == True:\n",
    "        if turn == \"morning\":\n",
    "            participants = day_Vote(participants)\n",
    "            turn = \"night\"\n",
    "        else:\n",
    "            participants = night_Kill(participants)\n",
    "            turn = \"morning\"\n",
    "        mafia, citizen, police, people = people_Count(participants)\n",
    "        #print(participants)\n",
    "    if mafia == 0:\n",
    "        return True\n",
    "    else:\n",
    "        return False"
   ]
  },
  {
   "cell_type": "code",
   "execution_count": 8,
   "metadata": {},
   "outputs": [],
   "source": [
    "def citizen_win_Rate(participants):\n",
    "    wincount = 0\n",
    "    mafia=participants.count(\"mafia\")\n",
    "    citizen=participants.count(\"citizen\")\n",
    "    police=participants.count(\"police\")\n",
    "    times=100\n",
    "    for i in range(0,times):\n",
    "        participants=list()\n",
    "        job_Init(mafia, \"mafia\", participants)\n",
    "        job_Init(citizen, \"citizen\", participants)\n",
    "        job_Init(police, \"police\", participants)\n",
    "        if in_Game(participants) == True:\n",
    "            wincount += 1\n",
    "    return 100*wincount/times"
   ]
  },
  {
   "cell_type": "code",
   "execution_count": 9,
   "metadata": {},
   "outputs": [],
   "source": [
    "def Mafia_Game_withPolice_Stats(num_mafia, num_citizen, num_police):\n",
    "    mafia = num_mafia\n",
    "    citizen = num_citizen\n",
    "    police = num_police\n",
    "    citizen_win_list=list()\n",
    "    for i in range (0, 100):\n",
    "        Game_participants=list()\n",
    "        job_Init(mafia, \"mafia\", Game_participants)\n",
    "        job_Init(citizen, \"citizen\", Game_participants)\n",
    "        job_Init(police, \"police\", Game_participants)\n",
    "        rate=citizen_win_Rate(Game_participants)\n",
    "        citizen_win_list.append(rate)\n",
    "    return citizen_win_list\n",
    "\n",
    "#Mafia_Game_withPolice_Stats(1,0,9)"
   ]
  },
  {
   "cell_type": "code",
   "execution_count": 10,
   "metadata": {},
   "outputs": [],
   "source": [
    "def Mafia_Game_changewithPolice(num_mafia, num_citizen, num_police):\n",
    "    mafia = num_mafia\n",
    "    citizen = num_citizen\n",
    "    police = num_police\n",
    "    participants = mafia + citizen + police\n",
    "    citizen_win_list=list()\n",
    "    while mafia*2 < participants:\n",
    "        mafia += 1\n",
    "        citizen -= 1\n",
    "        Game_participants=list()\n",
    "        job_Init(mafia, \"mafia\", Game_participants)\n",
    "        job_Init(citizen, \"citizen\", Game_participants)\n",
    "        job_Init(police, \"police\", Game_participants)\n",
    "        rate=citizen_win_Rate(Game_participants)\n",
    "        citizen_win_list.append(rate)\n",
    "    return citizen_win_list"
   ]
  },
  {
   "cell_type": "markdown",
   "metadata": {},
   "source": [
    "### Data Frame\n",
    "- 마피아가 2명, 시민이 7명, 경찰이 1명일 때 100번의 게임 중 시민의 우승 확률을 100번 구함"
   ]
  },
  {
   "cell_type": "code",
   "execution_count": 11,
   "metadata": {},
   "outputs": [
    {
     "data": {
      "text/html": [
       "<div>\n",
       "<style scoped>\n",
       "    .dataframe tbody tr th:only-of-type {\n",
       "        vertical-align: middle;\n",
       "    }\n",
       "\n",
       "    .dataframe tbody tr th {\n",
       "        vertical-align: top;\n",
       "    }\n",
       "\n",
       "    .dataframe thead th {\n",
       "        text-align: right;\n",
       "    }\n",
       "</style>\n",
       "<table border=\"1\" class=\"dataframe\">\n",
       "  <thead>\n",
       "    <tr style=\"text-align: right;\">\n",
       "      <th></th>\n",
       "      <th>Citizens to Win(%)</th>\n",
       "    </tr>\n",
       "  </thead>\n",
       "  <tbody>\n",
       "    <tr>\n",
       "      <th>1</th>\n",
       "      <td>16.0</td>\n",
       "    </tr>\n",
       "    <tr>\n",
       "      <th>2</th>\n",
       "      <td>13.0</td>\n",
       "    </tr>\n",
       "    <tr>\n",
       "      <th>3</th>\n",
       "      <td>16.0</td>\n",
       "    </tr>\n",
       "    <tr>\n",
       "      <th>4</th>\n",
       "      <td>7.0</td>\n",
       "    </tr>\n",
       "    <tr>\n",
       "      <th>5</th>\n",
       "      <td>14.0</td>\n",
       "    </tr>\n",
       "    <tr>\n",
       "      <th>...</th>\n",
       "      <td>...</td>\n",
       "    </tr>\n",
       "    <tr>\n",
       "      <th>96</th>\n",
       "      <td>14.0</td>\n",
       "    </tr>\n",
       "    <tr>\n",
       "      <th>97</th>\n",
       "      <td>12.0</td>\n",
       "    </tr>\n",
       "    <tr>\n",
       "      <th>98</th>\n",
       "      <td>12.0</td>\n",
       "    </tr>\n",
       "    <tr>\n",
       "      <th>99</th>\n",
       "      <td>15.0</td>\n",
       "    </tr>\n",
       "    <tr>\n",
       "      <th>100</th>\n",
       "      <td>11.0</td>\n",
       "    </tr>\n",
       "  </tbody>\n",
       "</table>\n",
       "<p>100 rows × 1 columns</p>\n",
       "</div>"
      ],
      "text/plain": [
       "     Citizens to Win(%)\n",
       "1                  16.0\n",
       "2                  13.0\n",
       "3                  16.0\n",
       "4                   7.0\n",
       "5                  14.0\n",
       "..                  ...\n",
       "96                 14.0\n",
       "97                 12.0\n",
       "98                 12.0\n",
       "99                 15.0\n",
       "100                11.0\n",
       "\n",
       "[100 rows x 1 columns]"
      ]
     },
     "execution_count": 11,
     "metadata": {},
     "output_type": "execute_result"
    }
   ],
   "source": [
    "Game_participants=list()\n",
    "col=[\"Citizens to Win(%)\"]\n",
    "Game = Mafia_Game_withPolice_Stats(2, 7, 1)\n",
    "length=len(Game)\n",
    "index = list()\n",
    "for i in range(1, length+1):\n",
    "    index.append(i)\n",
    "\n",
    "df=pd.DataFrame(Game, index, columns=col)\n",
    "df"
   ]
  },
  {
   "cell_type": "markdown",
   "metadata": {},
   "source": [
    "### Histogram\n",
    "\n",
    "x축은 횟수, y축은 시민의 승률"
   ]
  },
  {
   "cell_type": "code",
   "execution_count": 12,
   "metadata": {},
   "outputs": [
    {
     "data": {
      "image/png": "[encoded data removed]",
      "text/plain": [
       "<Figure size 1440x360 with 1 Axes>"
      ]
     },
     "metadata": {
      "needs_background": "light"
     },
     "output_type": "display_data"
    }
   ],
   "source": [
    "def drawPLT(list1):\n",
    "    length=len(list1)\n",
    "    list2 = list()\n",
    "    for i in range(1, length+1):\n",
    "        list2.append(i)\n",
    "    plt.figure(figsize=(20,5))\n",
    "    plt.bar(list2, list1)\n",
    "    plt.xlabel(\"X\")\n",
    "    plt.ylabel(\"Y\")\n",
    "    plt.show()\n",
    "    plt.close()\n",
    "\n",
    "Game_Stats = Mafia_Game_withPolice_Stats(2, 7, 1)\n",
    "drawPLT(Game_Stats)"
   ]
  },
  {
   "cell_type": "code",
   "execution_count": 13,
   "metadata": {},
   "outputs": [
    {
     "data": {
      "image/png": "[encoded data removed]",
      "text/plain": [
       "<Figure size 1440x720 with 1 Axes>"
      ]
     },
     "metadata": {
      "needs_background": "light"
     },
     "output_type": "display_data"
    }
   ],
   "source": [
    "Game_Stats1 = Mafia_Game_withPolice_Stats(3, 7, 0)\n",
    "Game_Stats2 = Mafia_Game_withPolice_Stats(3, 4, 3)\n",
    "Game_Stats3 = Mafia_Game_withPolice_Stats(3, 2, 5)\n",
    "\n",
    "list0 = list()\n",
    "length = len(Game_Stats1)\n",
    "for i in range(1, length+1):\n",
    "    list0.append(i)\n",
    "    \n",
    "plt.figure(figsize=(20,10))\n",
    "plt.bar(list0, Game_Stats1, width=0.5, align=\"edge\", label=\"3 : 7 : 0\")\n",
    "plt.bar(list0, Game_Stats2, width=0.4, align=\"center\", label=\"3 : 4 : 3\")\n",
    "plt.bar(list0, Game_Stats3, width=0.3, label=\"3 : 2 : 5\")\n",
    "plt.legend()\n",
    "plt.xlabel(\"X\")\n",
    "plt.ylabel(\"Y\")\n",
    "plt.show()\n",
    "plt.close()"
   ]
  },
  {
   "cell_type": "markdown",
   "metadata": {},
   "source": [
    "### Data Frame\n",
    "- 경찰 3명을 포함한 전체 게임인원 100명 중 마피아의 비율(%)을 인덱스로 하여 확률을 나타냄"
   ]
  },
  {
   "cell_type": "code",
   "execution_count": 14,
   "metadata": {},
   "outputs": [
    {
     "data": {
      "text/html": [
       "<div>\n",
       "<style scoped>\n",
       "    .dataframe tbody tr th:only-of-type {\n",
       "        vertical-align: middle;\n",
       "    }\n",
       "\n",
       "    .dataframe tbody tr th {\n",
       "        vertical-align: top;\n",
       "    }\n",
       "\n",
       "    .dataframe thead th {\n",
       "        text-align: right;\n",
       "    }\n",
       "</style>\n",
       "<table border=\"1\" class=\"dataframe\">\n",
       "  <thead>\n",
       "    <tr style=\"text-align: right;\">\n",
       "      <th></th>\n",
       "      <th>Citizens to Win(%)</th>\n",
       "    </tr>\n",
       "  </thead>\n",
       "  <tbody>\n",
       "    <tr>\n",
       "      <th>1</th>\n",
       "      <td>82.0</td>\n",
       "    </tr>\n",
       "    <tr>\n",
       "      <th>2</th>\n",
       "      <td>47.0</td>\n",
       "    </tr>\n",
       "    <tr>\n",
       "      <th>3</th>\n",
       "      <td>48.0</td>\n",
       "    </tr>\n",
       "    <tr>\n",
       "      <th>4</th>\n",
       "      <td>37.0</td>\n",
       "    </tr>\n",
       "    <tr>\n",
       "      <th>5</th>\n",
       "      <td>29.0</td>\n",
       "    </tr>\n",
       "    <tr>\n",
       "      <th>6</th>\n",
       "      <td>13.0</td>\n",
       "    </tr>\n",
       "    <tr>\n",
       "      <th>7</th>\n",
       "      <td>10.0</td>\n",
       "    </tr>\n",
       "    <tr>\n",
       "      <th>8</th>\n",
       "      <td>5.0</td>\n",
       "    </tr>\n",
       "    <tr>\n",
       "      <th>9</th>\n",
       "      <td>2.0</td>\n",
       "    </tr>\n",
       "    <tr>\n",
       "      <th>10</th>\n",
       "      <td>1.0</td>\n",
       "    </tr>\n",
       "    <tr>\n",
       "      <th>11</th>\n",
       "      <td>0.0</td>\n",
       "    </tr>\n",
       "    <tr>\n",
       "      <th>12</th>\n",
       "      <td>2.0</td>\n",
       "    </tr>\n",
       "    <tr>\n",
       "      <th>13</th>\n",
       "      <td>0.0</td>\n",
       "    </tr>\n",
       "    <tr>\n",
       "      <th>14</th>\n",
       "      <td>0.0</td>\n",
       "    </tr>\n",
       "    <tr>\n",
       "      <th>15</th>\n",
       "      <td>0.0</td>\n",
       "    </tr>\n",
       "    <tr>\n",
       "      <th>16</th>\n",
       "      <td>0.0</td>\n",
       "    </tr>\n",
       "    <tr>\n",
       "      <th>17</th>\n",
       "      <td>0.0</td>\n",
       "    </tr>\n",
       "    <tr>\n",
       "      <th>18</th>\n",
       "      <td>0.0</td>\n",
       "    </tr>\n",
       "    <tr>\n",
       "      <th>19</th>\n",
       "      <td>0.0</td>\n",
       "    </tr>\n",
       "    <tr>\n",
       "      <th>20</th>\n",
       "      <td>0.0</td>\n",
       "    </tr>\n",
       "    <tr>\n",
       "      <th>21</th>\n",
       "      <td>0.0</td>\n",
       "    </tr>\n",
       "    <tr>\n",
       "      <th>22</th>\n",
       "      <td>0.0</td>\n",
       "    </tr>\n",
       "    <tr>\n",
       "      <th>23</th>\n",
       "      <td>0.0</td>\n",
       "    </tr>\n",
       "    <tr>\n",
       "      <th>24</th>\n",
       "      <td>0.0</td>\n",
       "    </tr>\n",
       "    <tr>\n",
       "      <th>25</th>\n",
       "      <td>0.0</td>\n",
       "    </tr>\n",
       "    <tr>\n",
       "      <th>26</th>\n",
       "      <td>0.0</td>\n",
       "    </tr>\n",
       "    <tr>\n",
       "      <th>27</th>\n",
       "      <td>0.0</td>\n",
       "    </tr>\n",
       "    <tr>\n",
       "      <th>28</th>\n",
       "      <td>0.0</td>\n",
       "    </tr>\n",
       "    <tr>\n",
       "      <th>29</th>\n",
       "      <td>0.0</td>\n",
       "    </tr>\n",
       "    <tr>\n",
       "      <th>30</th>\n",
       "      <td>0.0</td>\n",
       "    </tr>\n",
       "    <tr>\n",
       "      <th>31</th>\n",
       "      <td>0.0</td>\n",
       "    </tr>\n",
       "    <tr>\n",
       "      <th>32</th>\n",
       "      <td>0.0</td>\n",
       "    </tr>\n",
       "    <tr>\n",
       "      <th>33</th>\n",
       "      <td>0.0</td>\n",
       "    </tr>\n",
       "    <tr>\n",
       "      <th>34</th>\n",
       "      <td>0.0</td>\n",
       "    </tr>\n",
       "    <tr>\n",
       "      <th>35</th>\n",
       "      <td>0.0</td>\n",
       "    </tr>\n",
       "    <tr>\n",
       "      <th>36</th>\n",
       "      <td>0.0</td>\n",
       "    </tr>\n",
       "    <tr>\n",
       "      <th>37</th>\n",
       "      <td>0.0</td>\n",
       "    </tr>\n",
       "    <tr>\n",
       "      <th>38</th>\n",
       "      <td>0.0</td>\n",
       "    </tr>\n",
       "    <tr>\n",
       "      <th>39</th>\n",
       "      <td>0.0</td>\n",
       "    </tr>\n",
       "    <tr>\n",
       "      <th>40</th>\n",
       "      <td>0.0</td>\n",
       "    </tr>\n",
       "    <tr>\n",
       "      <th>41</th>\n",
       "      <td>0.0</td>\n",
       "    </tr>\n",
       "    <tr>\n",
       "      <th>42</th>\n",
       "      <td>0.0</td>\n",
       "    </tr>\n",
       "    <tr>\n",
       "      <th>43</th>\n",
       "      <td>0.0</td>\n",
       "    </tr>\n",
       "    <tr>\n",
       "      <th>44</th>\n",
       "      <td>0.0</td>\n",
       "    </tr>\n",
       "    <tr>\n",
       "      <th>45</th>\n",
       "      <td>0.0</td>\n",
       "    </tr>\n",
       "    <tr>\n",
       "      <th>46</th>\n",
       "      <td>0.0</td>\n",
       "    </tr>\n",
       "    <tr>\n",
       "      <th>47</th>\n",
       "      <td>0.0</td>\n",
       "    </tr>\n",
       "    <tr>\n",
       "      <th>48</th>\n",
       "      <td>0.0</td>\n",
       "    </tr>\n",
       "    <tr>\n",
       "      <th>49</th>\n",
       "      <td>0.0</td>\n",
       "    </tr>\n",
       "    <tr>\n",
       "      <th>50</th>\n",
       "      <td>0.0</td>\n",
       "    </tr>\n",
       "  </tbody>\n",
       "</table>\n",
       "</div>"
      ],
      "text/plain": [
       "    Citizens to Win(%)\n",
       "1                 82.0\n",
       "2                 47.0\n",
       "3                 48.0\n",
       "4                 37.0\n",
       "5                 29.0\n",
       "6                 13.0\n",
       "7                 10.0\n",
       "8                  5.0\n",
       "9                  2.0\n",
       "10                 1.0\n",
       "11                 0.0\n",
       "12                 2.0\n",
       "13                 0.0\n",
       "14                 0.0\n",
       "15                 0.0\n",
       "16                 0.0\n",
       "17                 0.0\n",
       "18                 0.0\n",
       "19                 0.0\n",
       "20                 0.0\n",
       "21                 0.0\n",
       "22                 0.0\n",
       "23                 0.0\n",
       "24                 0.0\n",
       "25                 0.0\n",
       "26                 0.0\n",
       "27                 0.0\n",
       "28                 0.0\n",
       "29                 0.0\n",
       "30                 0.0\n",
       "31                 0.0\n",
       "32                 0.0\n",
       "33                 0.0\n",
       "34                 0.0\n",
       "35                 0.0\n",
       "36                 0.0\n",
       "37                 0.0\n",
       "38                 0.0\n",
       "39                 0.0\n",
       "40                 0.0\n",
       "41                 0.0\n",
       "42                 0.0\n",
       "43                 0.0\n",
       "44                 0.0\n",
       "45                 0.0\n",
       "46                 0.0\n",
       "47                 0.0\n",
       "48                 0.0\n",
       "49                 0.0\n",
       "50                 0.0"
      ]
     },
     "execution_count": 14,
     "metadata": {},
     "output_type": "execute_result"
    }
   ],
   "source": [
    "Game_participants=list()\n",
    "col=[\"Citizens to Win(%)\"]\n",
    "Game = Mafia_Game_changewithPolice(0, 97, 3)\n",
    "length=len(Game)\n",
    "index = list()\n",
    "for i in range(1, length+1):\n",
    "    index.append(i)\n",
    "\n",
    "df=pd.DataFrame(Game, index, columns=col)\n",
    "df"
   ]
  },
  {
   "cell_type": "markdown",
   "metadata": {},
   "source": [
    "### Histogram\n",
    "\n",
    "- 경찰 3명을 포함한 전체 게임인원 각 10, 50, 100명\n",
    "- x축은 마피아의 명 수, y축은 시민의 승률"
   ]
  },
  {
   "cell_type": "code",
   "execution_count": 15,
   "metadata": {},
   "outputs": [
    {
     "data": {
      "image/png": "[encoded data removed]",
      "text/plain": [
       "<Figure size 1440x360 with 1 Axes>"
      ]
     },
     "metadata": {
      "needs_background": "light"
     },
     "output_type": "display_data"
    },
    {
     "data": {
      "image/png": "[encoded data removed]",
      "text/plain": [
       "<Figure size 1440x360 with 1 Axes>"
      ]
     },
     "metadata": {
      "needs_background": "light"
     },
     "output_type": "display_data"
    },
    {
     "data": {
      "image/png": "[encoded data removed]",
      "text/plain": [
       "<Figure size 1440x360 with 1 Axes>"
      ]
     },
     "metadata": {
      "needs_background": "light"
     },
     "output_type": "display_data"
    }
   ],
   "source": [
    "Game_Stats = Mafia_Game_changewithPolice(0, 7, 3)\n",
    "drawPLT(Game_Stats)\n",
    "\n",
    "Game_Stats = Mafia_Game_changewithPolice(0, 57, 3)\n",
    "drawPLT(Game_Stats)\n",
    "\n",
    "Game_Stats = Mafia_Game_changewithPolice(0, 97, 3)\n",
    "drawPLT(Game_Stats)"
   ]
  },
  {
   "cell_type": "markdown",
   "metadata": {},
   "source": [
    "### Histogram\n",
    "\n",
    "- 전체 게임인원 10명, 경찰의 비율을 조정\n",
    "- x축은 마피아의 명 수, y축은 시민의 승률"
   ]
  },
  {
   "cell_type": "code",
   "execution_count": 16,
   "metadata": {},
   "outputs": [
    {
     "data": {
      "image/png": "[encoded data removed]",
      "text/plain": [
       "<Figure size 1440x360 with 1 Axes>"
      ]
     },
     "metadata": {
      "needs_background": "light"
     },
     "output_type": "display_data"
    },
    {
     "data": {
      "image/png": "[encoded data removed]",
      "text/plain": [
       "<Figure size 1440x360 with 1 Axes>"
      ]
     },
     "metadata": {
      "needs_background": "light"
     },
     "output_type": "display_data"
    },
    {
     "data": {
      "image/png": "[encoded data removed]",
      "text/plain": [
       "<Figure size 1440x360 with 1 Axes>"
      ]
     },
     "metadata": {
      "needs_background": "light"
     },
     "output_type": "display_data"
    }
   ],
   "source": [
    "Game_Stats = Mafia_Game_changewithPolice(0, 9, 1)\n",
    "drawPLT(Game_Stats)\n",
    "Game_Stats = Mafia_Game_changewithPolice(0, 8, 2)\n",
    "drawPLT(Game_Stats)\n",
    "Game_Stats = Mafia_Game_changewithPolice(0, 7, 3)\n",
    "drawPLT(Game_Stats)"
   ]
  }
 ],
 "metadata": {
  "interpreter": {
   "hash": "b0fa6594d8f4cbf19f97940f81e996739fb7646882a419484c72d19e05852a7e"
  },
  "kernelspec": {
   "display_name": "Python 3.9.7 64-bit",
   "language": "python",
   "name": "python3"
  },
  "language_info": {
   "codemirror_mode": {
    "name": "ipython",
    "version": 3
   },
   "file_extension": ".py",
   "mimetype": "text/x-python",
   "name": "python",
   "nbconvert_exporter": "python",
   "pygments_lexer": "ipython3",
   "version": "3.8.8"
  },
  "orig_nbformat": 4
 },
 "nbformat": 4,
 "nbformat_minor": 2
}
