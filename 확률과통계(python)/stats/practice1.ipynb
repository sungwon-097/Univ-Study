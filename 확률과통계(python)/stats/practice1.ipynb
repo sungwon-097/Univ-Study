{
 "cells": [
  {
   "cell_type": "markdown",
   "metadata": {},
   "source": [
    "# Midterm Project : M.A.F.I.A. in the morning(1)\n",
    "* * *"
   ]
  },
  {
   "cell_type": "markdown",
   "metadata": {},
   "source": [
    "## 해 보실 일들\n",
    "* 아래 “해야 할 일들”은 꼭 이 일들만 하라는 뜻이 아닙니다. 이외에도 주어진 문제를 다양하게 분석하고 실험해 보세요.\n",
    "\n",
    "* 이 프로젝트는 마피아를 확률 시뮬레이션으로 실험해보는 프로젝트입니다.\n",
    "    * 프로젝트는 코드의 구현보다는 \"실험\"을 해보시고, 시뮬레이션 데이터를 통해 확률을 더 잘 이해해보자는 취지입니다\n",
    "    * 그래서 당연히 정해진 정답이 없습니다.\n",
    "    * 틀려도 됩니다. 노력에는 보상이 따를 것입니다.\n",
    "    * 제출하실 때 코드와 함께 짧은 (A4용지 2~3장 내외) 보고서를 같이 내 주세요.\n",
    "    * 더 길게 내셔도 됩니다. 다만 같은 내용을 반복한다든지 하는 방법은 피해주세요."
   ]
  },
  {
   "cell_type": "markdown",
   "metadata": {},
   "source": [
    "## 1. 가장 단순한 마피아 게임\n",
    "* 일단 시민과 마피아 딱 두 종류의 집단만 있다고 생각해 봅시다.\n",
    "* 아래의 상황을 시뮬레이션으로 만들어 보세요.\n",
    "* 하루는 낮과 밤으로 이루어져 있습니다. \n",
    "    * 게임은 낮을 먼저, 밤을 나중에 합니다: 1일차 낮 → 1일차 밤 → 2일차 낮 → 2일차 밤 → ... \n",
    "    * 낮에는 모든 사람이 무작위적으로 한 사람을 죽입니다. 마피아는 서로를 알고 있지만, 사람을 죽이는 것은 무작위적이라고 생각하시면 됩니다.\n",
    "    * 밤에는 마피아가 시민 중에 한 명을 죽입니다. \n",
    "* 처음에 주어진 마피아와 시민의 수에 따라서 시민과 마피아의 승률은 어떻게 될까요? 여러번 시뮬레이션을 해 보시면서 주어진 조건에 대해 평균 승률을 구해 보세요. \n",
    "* 혹시 시민과 마피아의 수에 대해서 어떤 패턴이 보이시나요? 보인다면 그 이유는 무엇일까요?\n",
    "    * 잘 보이지 않는다면 한 변수를 고정하고 다른 변수를 하나씩 증가하면서 관측을 여러번 해 보세요"
   ]
  },
  {
   "cell_type": "code",
   "execution_count": 1,
   "metadata": {},
   "outputs": [],
   "source": [
    "import numpy as np\n",
    "import pandas as pd\n",
    "from matplotlib import pyplot as plt\n",
    "from collections import Counter\n",
    "import random "
   ]
  },
  {
   "cell_type": "markdown",
   "metadata": {},
   "source": [
    "### 구현 방법\n",
    "\n",
    "- 게임 참가인원의 직업을 string형으로 갖는 List를 생성\n",
    "- 낮\n",
    "    - 마피아는 마피아를 제외한 시민 중 한 명을 각각 투표\n",
    "    - 시민은 모든 인원 중 한 명을 투표\n",
    "    - 투표는 완전한 랜덤으로 이루어지고 그 중 최빈값을 찾아 맨 앞의 값을 반환\n",
    "        - 참가인원 리스트에는 마피아가 먼저 할당되어있고 마피아끼리는 팀을 이룰 수 있기 때문에 마피아의 의견을 먼저 따른다는 가정\n",
    "- 밤\n",
    "    - 마피아는 각자 시민 중 한명을 투표\n",
    "    -  투표는 완전한 랜덤으로 이루어지고 그 중 최빈값을 찾아 맨 앞의 값을 반환\n",
    "- 각 게임은 100번 진행 후 시민의 승리 수를 %로 반환\n",
    "- 정해진 게임 인원별 승률 데이터와 마피아/참가자 비율에 대한 승률 데이터를 구현"
   ]
  },
  {
   "cell_type": "markdown",
   "metadata": {},
   "source": [
    "### Code\n",
    "\n",
    "- job_Init(사람 수, 직업, 리스트) : 게임 참여자 리스트에 각 인원의 직업을 초기화"
   ]
  },
  {
   "cell_type": "code",
   "execution_count": 2,
   "metadata": {},
   "outputs": [],
   "source": [
    "def job_Init(num, job, list):\n",
    "    for i in range(0, num):\n",
    "        list.append(job)"
   ]
  },
  {
   "cell_type": "markdown",
   "metadata": {},
   "source": [
    "- people_Count(리스트) : 인원 수의 변동을 업데이트"
   ]
  },
  {
   "cell_type": "code",
   "execution_count": 3,
   "metadata": {},
   "outputs": [],
   "source": [
    "def people_Count(list):\n",
    "    mafia=list.count(\"mafia\")\n",
    "    citizen=list.count(\"citizen\")\n",
    "    participant = mafia+citizen\n",
    "    return mafia, citizen, participant"
   ]
  },
  {
   "cell_type": "markdown",
   "metadata": {},
   "source": [
    "- modefinder(리스트) : 최빈값을 찾음"
   ]
  },
  {
   "cell_type": "code",
   "execution_count": 4,
   "metadata": {},
   "outputs": [],
   "source": [
    "def modefinder(numbers): \n",
    "    c = Counter(numbers) \n",
    "    mode = c.most_common(1) \n",
    "    return mode[0][0]"
   ]
  },
  {
   "cell_type": "markdown",
   "metadata": {},
   "source": [
    "- day_Vote(리스트) : 낮 투표 후 생존인원 반환"
   ]
  },
  {
   "cell_type": "code",
   "execution_count": 5,
   "metadata": {},
   "outputs": [],
   "source": [
    "def day_Vote(participants):\n",
    "    vote_list=list()\n",
    "    for i in range(0, len(participants)):\n",
    "        if participants[i]==\"mafia\":\n",
    "            vote=random.randrange(participants.index(\"citizen\"), len(participants))\n",
    "            vote_list.append(vote)\n",
    "        else:\n",
    "            vote=random.randrange(0, len(participants))\n",
    "            vote_list.append(vote)\n",
    "    max_vote=modefinder(vote_list)\n",
    "    del participants[max_vote]\n",
    "    return participants\n",
    "\n",
    "#participants=[\"mafia\", \"citizen\", \"citizen\",\"citizen\",\"citizen\",\"citizen\", \"citizen\",\"citizen\",\"citizen\", \"citizen\"]\n",
    "#print(participants)\n",
    "#print(day_Vote(participants))"
   ]
  },
  {
   "cell_type": "markdown",
   "metadata": {},
   "source": [
    "- night_Kill(리스트) : 마피아 상의 후 시민 1명을 죽임, 생존인원 반환"
   ]
  },
  {
   "cell_type": "code",
   "execution_count": 6,
   "metadata": {},
   "outputs": [],
   "source": [
    "def night_Kill(participants):\n",
    "    vote_list=list()\n",
    "    for i in range(0, participants.index(\"citizen\")):\n",
    "        if participants[i]==\"mafia\":\n",
    "            vote=random.randrange(participants.index(\"citizen\"), len(participants))\n",
    "            vote_list.append(vote)\n",
    "    max_vote=modefinder(vote_list)\n",
    "    del participants[max_vote]\n",
    "    return participants\n",
    "\n",
    "#participants=[\"mafia\", \"citizen\", \"citizen\",\"citizen\",\"citizen\",\"citizen\", \"citizen\",\"citizen\",\"citizen\", \"citizen\"]\n",
    "#print(participants)\n",
    "#print(night_Kill(participants))"
   ]
  },
  {
   "cell_type": "markdown",
   "metadata": {},
   "source": [
    "- in_Game(리스트) : 게임을 구현, 시민의 승리일 경우 `True`를 반환"
   ]
  },
  {
   "cell_type": "code",
   "execution_count": 7,
   "metadata": {},
   "outputs": [],
   "source": [
    "def in_Game(participants):\n",
    "    turn = \"morning\"\n",
    "    mafia, citizen, people = people_Count(participants)\n",
    "    while (mafia > 0) & (people-mafia > mafia) == True:\n",
    "        if turn == \"morning\":\n",
    "            participants = day_Vote(participants)\n",
    "            turn = \"night\"\n",
    "        else:\n",
    "            participants = night_Kill(participants)\n",
    "            turn = \"morning\"\n",
    "        mafia, citizen, people = people_Count(participants)\n",
    "    #print(participants)\n",
    "    if mafia == 0:\n",
    "        return True\n",
    "    else:\n",
    "        return False\n",
    "\n",
    "#participants=[\"mafia\", \"citizen\", \"citizen\",\"citizen\",\"citizen\",\"citizen\", \"citizen\",\"citizen\",\"citizen\", \"citizen\"]\n",
    "#in_Game(participants)"
   ]
  },
  {
   "cell_type": "markdown",
   "metadata": {},
   "source": [
    "- citizen_win_Rate(리스트) : 게임을 100번 시행 후 확률을 %로 반환"
   ]
  },
  {
   "cell_type": "code",
   "execution_count": 8,
   "metadata": {},
   "outputs": [],
   "source": [
    "def citizen_win_Rate(participants):\n",
    "    wincount = 0\n",
    "    mafia=participants.count(\"mafia\")\n",
    "    citizen=participants.count(\"citizen\")\n",
    "    times=100\n",
    "    for i in range(0,times):\n",
    "        participants=list()\n",
    "        job_Init(mafia, \"mafia\", participants)\n",
    "        job_Init(citizen, \"citizen\", participants)\n",
    "        if in_Game(participants) == True:\n",
    "            wincount += 1\n",
    "    return wincount/times*100\n",
    "    \n",
    "#participants=[\"mafia\", \"citizen\", \"citizen\",\"citizen\",\"citizen\",\"citizen\", \"citizen\",\"citizen\",\"citizen\", \"citizen\"]\n",
    "#print(citizen_win_Rate(participants))"
   ]
  },
  {
   "cell_type": "markdown",
   "metadata": {},
   "source": [
    "* Mafia_Game_Stats(마피아 수, 시민 수) : 정해진 마피아 수와 시민 수에 대해 평균 승률을 100번 구함"
   ]
  },
  {
   "cell_type": "code",
   "execution_count": 9,
   "metadata": {},
   "outputs": [],
   "source": [
    "def Mafia_Game_Stats(num_mafia, num_citizen):\n",
    "    mafia = num_mafia\n",
    "    citizen = num_citizen\n",
    "    citizen_win_list=list()\n",
    "    for i in range (0, 100):\n",
    "        Game_participants=list()\n",
    "        job_Init(mafia, \"mafia\", Game_participants)\n",
    "        job_Init(citizen, \"citizen\", Game_participants)\n",
    "        rate=citizen_win_Rate(Game_participants)\n",
    "        citizen_win_list.append(rate)\n",
    "    return citizen_win_list\n",
    "\n",
    "#Mafia_Game_Stats(1, 5)"
   ]
  },
  {
   "cell_type": "markdown",
   "metadata": {},
   "source": [
    "- Mafia_Game_Basic(마피아 수, 시민 수) : 전체 인원 수에서 마피아의 비율을 늘려가며 확률을 담은 리스트 반환"
   ]
  },
  {
   "cell_type": "code",
   "execution_count": 10,
   "metadata": {},
   "outputs": [],
   "source": [
    "def Mafia_Game_Change_Members(num_mafia, num_citizen):\n",
    "    mafia = num_mafia\n",
    "    citizen = num_citizen\n",
    "    citizen_win_list=list()\n",
    "    while mafia < citizen:\n",
    "        mafia += 1\n",
    "        citizen -= 1\n",
    "        Game_participants=list()\n",
    "        job_Init(mafia, \"mafia\", Game_participants)\n",
    "        job_Init(citizen, \"citizen\", Game_participants)\n",
    "        rate=citizen_win_Rate(Game_participants)\n",
    "        citizen_win_list.append(rate)\n",
    "    return citizen_win_list\n",
    "\n",
    "#Mafia_Game_Basic(0, 10)"
   ]
  },
  {
   "cell_type": "markdown",
   "metadata": {},
   "source": [
    "### Data Frame\n",
    "- 마피아가 2명, 시민이 8명일 때 100번의 게임 중 시민의 우승 확률을 100번 구함"
   ]
  },
  {
   "cell_type": "code",
   "execution_count": 11,
   "metadata": {},
   "outputs": [
    {
     "data": {
      "text/html": [
       "<div>\n",
       "<style scoped>\n",
       "    .dataframe tbody tr th:only-of-type {\n",
       "        vertical-align: middle;\n",
       "    }\n",
       "\n",
       "    .dataframe tbody tr th {\n",
       "        vertical-align: top;\n",
       "    }\n",
       "\n",
       "    .dataframe thead th {\n",
       "        text-align: right;\n",
       "    }\n",
       "</style>\n",
       "<table border=\"1\" class=\"dataframe\">\n",
       "  <thead>\n",
       "    <tr style=\"text-align: right;\">\n",
       "      <th></th>\n",
       "      <th>Citizens to Win(%)</th>\n",
       "    </tr>\n",
       "  </thead>\n",
       "  <tbody>\n",
       "    <tr>\n",
       "      <th>1</th>\n",
       "      <td>2.0</td>\n",
       "    </tr>\n",
       "    <tr>\n",
       "      <th>2</th>\n",
       "      <td>4.0</td>\n",
       "    </tr>\n",
       "    <tr>\n",
       "      <th>3</th>\n",
       "      <td>1.0</td>\n",
       "    </tr>\n",
       "    <tr>\n",
       "      <th>4</th>\n",
       "      <td>3.0</td>\n",
       "    </tr>\n",
       "    <tr>\n",
       "      <th>5</th>\n",
       "      <td>6.0</td>\n",
       "    </tr>\n",
       "    <tr>\n",
       "      <th>...</th>\n",
       "      <td>...</td>\n",
       "    </tr>\n",
       "    <tr>\n",
       "      <th>96</th>\n",
       "      <td>7.0</td>\n",
       "    </tr>\n",
       "    <tr>\n",
       "      <th>97</th>\n",
       "      <td>6.0</td>\n",
       "    </tr>\n",
       "    <tr>\n",
       "      <th>98</th>\n",
       "      <td>8.0</td>\n",
       "    </tr>\n",
       "    <tr>\n",
       "      <th>99</th>\n",
       "      <td>5.0</td>\n",
       "    </tr>\n",
       "    <tr>\n",
       "      <th>100</th>\n",
       "      <td>6.0</td>\n",
       "    </tr>\n",
       "  </tbody>\n",
       "</table>\n",
       "<p>100 rows × 1 columns</p>\n",
       "</div>"
      ],
      "text/plain": [
       "     Citizens to Win(%)\n",
       "1                   2.0\n",
       "2                   4.0\n",
       "3                   1.0\n",
       "4                   3.0\n",
       "5                   6.0\n",
       "..                  ...\n",
       "96                  7.0\n",
       "97                  6.0\n",
       "98                  8.0\n",
       "99                  5.0\n",
       "100                 6.0\n",
       "\n",
       "[100 rows x 1 columns]"
      ]
     },
     "execution_count": 11,
     "metadata": {},
     "output_type": "execute_result"
    }
   ],
   "source": [
    "Game_participants=list()\n",
    "col=[\"Citizens to Win(%)\"]\n",
    "Game_Stats = Mafia_Game_Stats(2, 10)\n",
    "length=len(Game_Stats)\n",
    "index_Game_Stats = list()\n",
    "for i in range(1, length+1):\n",
    "    index_Game_Stats.append(i)\n",
    "\n",
    "df=pd.DataFrame(Game_Stats, index_Game_Stats, columns=col)\n",
    "df"
   ]
  },
  {
   "cell_type": "markdown",
   "metadata": {},
   "source": [
    "### Histogram\n",
    "\n",
    "x축은 횟수, y축은 시민의 승률"
   ]
  },
  {
   "cell_type": "code",
   "execution_count": 12,
   "metadata": {},
   "outputs": [
    {
     "data": {
      "image/png": "[encoded data removed]",
      "text/plain": [
       "<Figure size 1440x360 with 1 Axes>"
      ]
     },
     "metadata": {
      "needs_background": "light"
     },
     "output_type": "display_data"
    }
   ],
   "source": [
    "def drawPLT(list1):\n",
    "    length=len(list1)\n",
    "    list2 = list()\n",
    "    for i in range(1, length+1):\n",
    "        list2.append(i)\n",
    "    plt.figure(figsize=(20,5))\n",
    "    plt.bar(list2, list1)\n",
    "    plt.xlabel(\"X\")\n",
    "    plt.ylabel(\"Y\")\n",
    "    plt.show()\n",
    "    plt.close()\n",
    "\n",
    "Game_Stats = Mafia_Game_Stats(2, 10)\n",
    "drawPLT(Game_Stats)"
   ]
  },
  {
   "cell_type": "markdown",
   "metadata": {},
   "source": [
    "### Experiment\n",
    "\n",
    "* 게임인원 10명 중 마피아수에 대한 각 랜덤확률(마피아 1,2,3명)"
   ]
  },
  {
   "cell_type": "code",
   "execution_count": 13,
   "metadata": {},
   "outputs": [
    {
     "data": {
      "image/png": "[encoded data removed]",
      "text/plain": [
       "<Figure size 1440x720 with 1 Axes>"
      ]
     },
     "metadata": {
      "needs_background": "light"
     },
     "output_type": "display_data"
    }
   ],
   "source": [
    "Game_Stats1 = Mafia_Game_Stats(1,9)\n",
    "Game_Stats2 = Mafia_Game_Stats(2,8)\n",
    "Game_Stats3 = Mafia_Game_Stats(3,7)\n",
    "list0 = list()\n",
    "for i in range(1, length+1):\n",
    "    list0.append(i)\n",
    "plt.figure(figsize=(20,10))\n",
    "plt.bar(list0, Game_Stats1, width=0.5, align=\"edge\", label=\"1 : 9\")\n",
    "plt.bar(list0, Game_Stats2, width=0.4, align=\"center\", label=\"2 : 8\")\n",
    "plt.bar(list0, Game_Stats3, width=0.3, label=\"3 : 7\")\n",
    "plt.legend()\n",
    "plt.xlabel(\"X\")\n",
    "plt.ylabel(\"Y\")\n",
    "plt.show()\n",
    "plt.close()"
   ]
  },
  {
   "cell_type": "markdown",
   "metadata": {},
   "source": [
    "### Data Frame\n",
    "- 전체 게임인원 100명 중 마피아의 비율(%)을 인덱스로 하여 확률을 나타냄"
   ]
  },
  {
   "cell_type": "code",
   "execution_count": 14,
   "metadata": {},
   "outputs": [
    {
     "data": {
      "text/html": [
       "<div>\n",
       "<style scoped>\n",
       "    .dataframe tbody tr th:only-of-type {\n",
       "        vertical-align: middle;\n",
       "    }\n",
       "\n",
       "    .dataframe tbody tr th {\n",
       "        vertical-align: top;\n",
       "    }\n",
       "\n",
       "    .dataframe thead th {\n",
       "        text-align: right;\n",
       "    }\n",
       "</style>\n",
       "<table border=\"1\" class=\"dataframe\">\n",
       "  <thead>\n",
       "    <tr style=\"text-align: right;\">\n",
       "      <th></th>\n",
       "      <th>Citizens to Win(%)</th>\n",
       "    </tr>\n",
       "  </thead>\n",
       "  <tbody>\n",
       "    <tr>\n",
       "      <th>1</th>\n",
       "      <td>79.0</td>\n",
       "    </tr>\n",
       "    <tr>\n",
       "      <th>2</th>\n",
       "      <td>42.0</td>\n",
       "    </tr>\n",
       "    <tr>\n",
       "      <th>3</th>\n",
       "      <td>32.0</td>\n",
       "    </tr>\n",
       "    <tr>\n",
       "      <th>4</th>\n",
       "      <td>16.0</td>\n",
       "    </tr>\n",
       "    <tr>\n",
       "      <th>5</th>\n",
       "      <td>6.0</td>\n",
       "    </tr>\n",
       "    <tr>\n",
       "      <th>6</th>\n",
       "      <td>2.0</td>\n",
       "    </tr>\n",
       "    <tr>\n",
       "      <th>7</th>\n",
       "      <td>1.0</td>\n",
       "    </tr>\n",
       "    <tr>\n",
       "      <th>8</th>\n",
       "      <td>0.0</td>\n",
       "    </tr>\n",
       "    <tr>\n",
       "      <th>9</th>\n",
       "      <td>0.0</td>\n",
       "    </tr>\n",
       "    <tr>\n",
       "      <th>10</th>\n",
       "      <td>1.0</td>\n",
       "    </tr>\n",
       "    <tr>\n",
       "      <th>11</th>\n",
       "      <td>0.0</td>\n",
       "    </tr>\n",
       "    <tr>\n",
       "      <th>12</th>\n",
       "      <td>0.0</td>\n",
       "    </tr>\n",
       "    <tr>\n",
       "      <th>13</th>\n",
       "      <td>0.0</td>\n",
       "    </tr>\n",
       "    <tr>\n",
       "      <th>14</th>\n",
       "      <td>0.0</td>\n",
       "    </tr>\n",
       "    <tr>\n",
       "      <th>15</th>\n",
       "      <td>0.0</td>\n",
       "    </tr>\n",
       "    <tr>\n",
       "      <th>16</th>\n",
       "      <td>0.0</td>\n",
       "    </tr>\n",
       "    <tr>\n",
       "      <th>17</th>\n",
       "      <td>0.0</td>\n",
       "    </tr>\n",
       "    <tr>\n",
       "      <th>18</th>\n",
       "      <td>0.0</td>\n",
       "    </tr>\n",
       "    <tr>\n",
       "      <th>19</th>\n",
       "      <td>0.0</td>\n",
       "    </tr>\n",
       "    <tr>\n",
       "      <th>20</th>\n",
       "      <td>0.0</td>\n",
       "    </tr>\n",
       "    <tr>\n",
       "      <th>21</th>\n",
       "      <td>0.0</td>\n",
       "    </tr>\n",
       "    <tr>\n",
       "      <th>22</th>\n",
       "      <td>0.0</td>\n",
       "    </tr>\n",
       "    <tr>\n",
       "      <th>23</th>\n",
       "      <td>0.0</td>\n",
       "    </tr>\n",
       "    <tr>\n",
       "      <th>24</th>\n",
       "      <td>0.0</td>\n",
       "    </tr>\n",
       "    <tr>\n",
       "      <th>25</th>\n",
       "      <td>0.0</td>\n",
       "    </tr>\n",
       "    <tr>\n",
       "      <th>26</th>\n",
       "      <td>0.0</td>\n",
       "    </tr>\n",
       "    <tr>\n",
       "      <th>27</th>\n",
       "      <td>0.0</td>\n",
       "    </tr>\n",
       "    <tr>\n",
       "      <th>28</th>\n",
       "      <td>0.0</td>\n",
       "    </tr>\n",
       "    <tr>\n",
       "      <th>29</th>\n",
       "      <td>0.0</td>\n",
       "    </tr>\n",
       "    <tr>\n",
       "      <th>30</th>\n",
       "      <td>0.0</td>\n",
       "    </tr>\n",
       "    <tr>\n",
       "      <th>31</th>\n",
       "      <td>0.0</td>\n",
       "    </tr>\n",
       "    <tr>\n",
       "      <th>32</th>\n",
       "      <td>0.0</td>\n",
       "    </tr>\n",
       "    <tr>\n",
       "      <th>33</th>\n",
       "      <td>0.0</td>\n",
       "    </tr>\n",
       "    <tr>\n",
       "      <th>34</th>\n",
       "      <td>0.0</td>\n",
       "    </tr>\n",
       "    <tr>\n",
       "      <th>35</th>\n",
       "      <td>0.0</td>\n",
       "    </tr>\n",
       "    <tr>\n",
       "      <th>36</th>\n",
       "      <td>0.0</td>\n",
       "    </tr>\n",
       "    <tr>\n",
       "      <th>37</th>\n",
       "      <td>0.0</td>\n",
       "    </tr>\n",
       "    <tr>\n",
       "      <th>38</th>\n",
       "      <td>0.0</td>\n",
       "    </tr>\n",
       "    <tr>\n",
       "      <th>39</th>\n",
       "      <td>0.0</td>\n",
       "    </tr>\n",
       "    <tr>\n",
       "      <th>40</th>\n",
       "      <td>0.0</td>\n",
       "    </tr>\n",
       "    <tr>\n",
       "      <th>41</th>\n",
       "      <td>0.0</td>\n",
       "    </tr>\n",
       "    <tr>\n",
       "      <th>42</th>\n",
       "      <td>0.0</td>\n",
       "    </tr>\n",
       "    <tr>\n",
       "      <th>43</th>\n",
       "      <td>0.0</td>\n",
       "    </tr>\n",
       "    <tr>\n",
       "      <th>44</th>\n",
       "      <td>0.0</td>\n",
       "    </tr>\n",
       "    <tr>\n",
       "      <th>45</th>\n",
       "      <td>0.0</td>\n",
       "    </tr>\n",
       "    <tr>\n",
       "      <th>46</th>\n",
       "      <td>0.0</td>\n",
       "    </tr>\n",
       "    <tr>\n",
       "      <th>47</th>\n",
       "      <td>0.0</td>\n",
       "    </tr>\n",
       "    <tr>\n",
       "      <th>48</th>\n",
       "      <td>0.0</td>\n",
       "    </tr>\n",
       "    <tr>\n",
       "      <th>49</th>\n",
       "      <td>0.0</td>\n",
       "    </tr>\n",
       "    <tr>\n",
       "      <th>50</th>\n",
       "      <td>0.0</td>\n",
       "    </tr>\n",
       "  </tbody>\n",
       "</table>\n",
       "</div>"
      ],
      "text/plain": [
       "    Citizens to Win(%)\n",
       "1                 79.0\n",
       "2                 42.0\n",
       "3                 32.0\n",
       "4                 16.0\n",
       "5                  6.0\n",
       "6                  2.0\n",
       "7                  1.0\n",
       "8                  0.0\n",
       "9                  0.0\n",
       "10                 1.0\n",
       "11                 0.0\n",
       "12                 0.0\n",
       "13                 0.0\n",
       "14                 0.0\n",
       "15                 0.0\n",
       "16                 0.0\n",
       "17                 0.0\n",
       "18                 0.0\n",
       "19                 0.0\n",
       "20                 0.0\n",
       "21                 0.0\n",
       "22                 0.0\n",
       "23                 0.0\n",
       "24                 0.0\n",
       "25                 0.0\n",
       "26                 0.0\n",
       "27                 0.0\n",
       "28                 0.0\n",
       "29                 0.0\n",
       "30                 0.0\n",
       "31                 0.0\n",
       "32                 0.0\n",
       "33                 0.0\n",
       "34                 0.0\n",
       "35                 0.0\n",
       "36                 0.0\n",
       "37                 0.0\n",
       "38                 0.0\n",
       "39                 0.0\n",
       "40                 0.0\n",
       "41                 0.0\n",
       "42                 0.0\n",
       "43                 0.0\n",
       "44                 0.0\n",
       "45                 0.0\n",
       "46                 0.0\n",
       "47                 0.0\n",
       "48                 0.0\n",
       "49                 0.0\n",
       "50                 0.0"
      ]
     },
     "execution_count": 14,
     "metadata": {},
     "output_type": "execute_result"
    }
   ],
   "source": [
    "Game_participants=list()\n",
    "col=[\"Citizens to Win(%)\"]\n",
    "Game_Change_stats = Mafia_Game_Change_Members(0, 100)\n",
    "length=len(Game_Change_stats)\n",
    "index_Change_stats = list()\n",
    "for i in range(1, length+1):\n",
    "    index_Change_stats.append(i)\n",
    "\n",
    "df=pd.DataFrame(Game_Change_stats, index_Change_stats, columns=col)\n",
    "df"
   ]
  },
  {
   "cell_type": "markdown",
   "metadata": {},
   "source": [
    "### Histogram\n",
    "\n",
    "- x축은 마피아의 명 수, y축은 시민의 승률"
   ]
  },
  {
   "cell_type": "code",
   "execution_count": 15,
   "metadata": {},
   "outputs": [
    {
     "data": {
      "image/png": "[encoded data removed]",
      "text/plain": [
       "<Figure size 1440x360 with 1 Axes>"
      ]
     },
     "metadata": {
      "needs_background": "light"
     },
     "output_type": "display_data"
    },
    {
     "data": {
      "image/png": "[encoded data removed]",
      "text/plain": [
       "<Figure size 1440x360 with 1 Axes>"
      ]
     },
     "metadata": {
      "needs_background": "light"
     },
     "output_type": "display_data"
    },
    {
     "data": {
      "image/png": "[encoded data removed]",
      "text/plain": [
       "<Figure size 1440x360 with 1 Axes>"
      ]
     },
     "metadata": {
      "needs_background": "light"
     },
     "output_type": "display_data"
    }
   ],
   "source": [
    "Game_Change_stats1=Mafia_Game_Change_Members(0, 10)\n",
    "drawPLT(Game_Change_stats1)\n",
    "\n",
    "Game_Change_stats1=Mafia_Game_Change_Members(0, 50)\n",
    "drawPLT(Game_Change_stats1)\n",
    "\n",
    "Game_Change_stats2=Mafia_Game_Change_Members(0, 100)\n",
    "drawPLT(Game_Change_stats2)"
   ]
  },
  {
   "cell_type": "markdown",
   "metadata": {},
   "source": [
    "### 분석\n",
    "\n",
    "- 모든 확률을 Random하게 부여해 각 상황마다의 편차가 큼\n",
    "- 마피아와 시민의 비율을 보통 1:3 이하로 설정하지만 위 상황에서는 1:10만 되어도 시민의 승리확률이 대폭 하락함\n",
    "    - 실제 게임에서는 시민이 마피아를 추리하여 맞출 수 있는 확률은 턴이 지날수록 계속 상승함\n",
    "    - 회의를 통해 마피아를 찾을 수 있는 단서를 무시하고 모든 상황을 랜덤으로 부여하였기 때문에 이러한 결과가 나온 것이라 예측\n",
    "- 게임인원이 10명일 때 마피아 1명, 50명일 때 2명, 100명일 때 3명이 적합하다는 그래프가 산출됨\n",
    "    - 참가자가 많아질수록 마피아가 죽을 확률이 감소함\n",
    "    - 시민의 승률은 인원이 같은 비율로 변동되었을 떄에 같은 비율을 유지하지 않음\n",
    "    - 참가자가 많아질수록 마피아 비율에 따른 시민의 승률은 더욱 적다\n",
    "        - 참가자가 많아져도 그 비율만큼 마피아의 수를 늘려주는것은 적합하지 않다고 볼 수 있음"
   ]
  }
 ],
 "metadata": {
  "interpreter": {
   "hash": "b0fa6594d8f4cbf19f97940f81e996739fb7646882a419484c72d19e05852a7e"
  },
  "kernelspec": {
   "display_name": "Python 3.9.7 64-bit",
   "language": "python",
   "name": "python3"
  },
  "language_info": {
   "codemirror_mode": {
    "name": "ipython",
    "version": 3
   },
   "file_extension": ".py",
   "mimetype": "text/x-python",
   "name": "python",
   "nbconvert_exporter": "python",
   "pygments_lexer": "ipython3",
   "version": "3.8.8"
  },
  "orig_nbformat": 4
 },
 "nbformat": 4,
 "nbformat_minor": 2
}
