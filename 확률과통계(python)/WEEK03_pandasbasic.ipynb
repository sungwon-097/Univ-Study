{
 "cells": [
  {
   "cell_type": "markdown",
   "source": [
    "# 3주 1강 : Pandas Basic\r\n",
    "Date : 21.09.15"
   ],
   "metadata": {}
  },
  {
   "cell_type": "markdown",
   "source": [
    "## 요약통계(Summary Statistics)\r\n",
    "\r\n",
    "+ 퍼짐(spread) : 값들에 얼마나 많은 변동이 있는가\r\n",
    "+ 꼬리(tail) : 최빈값(mode)에서 멀어질 때 확률이 얼마나 빨리 떨어지는가\r\n",
    "+ 특이점(outlier) : 퍼짐과 꼬리를 통해 파악\r\n",
    "+ 최빈값(mode) : 범주형 데이터에서 가장 많이 등장하는 범주"
   ],
   "metadata": {}
  },
  {
   "cell_type": "markdown",
   "source": [
    "## 평균, 기대값\r\n",
    "\r\n",
    "평균(Mean/Average) : 표본에서 구한 값\r\n",
    "\r\n",
    "+ 산술평균 : 일반적인 Average                   [ A+B/2 ]\r\n",
    "+ 기하평균 : 산술평균보다 언제나 작거나 같음      [ sqrt(A+B, 2)]\r\n",
    "+ 조화평균 : 역수의 산술평균의 역수.             [ 2AB / A+B]\r\n",
    "\r\n",
    "기대값(Expectation) : 샘플을 통한 모집단의 평균 값의 확률적인 예상치\r\n",
    "\r\n",
    "+ Trimmed Mean : 가장 크거나 작은 값 일부를 지우고 평균을 계산하는 방법. 특이점(Outlier)를 줄이기 위해 사용하고 예를 들어 상하위 5% 제외하여 계산\r\n",
    "+ Median : 중간값. 값이 짝수 일 때 두 값의 평균\r\n",
    "\r\n",
    "일반화된 멱평균 : 멱함수로 평균을 일반화한 것. p=1 산술평균, p=-1 기하평균, p=0 극한으로 계산한 조화평균\r\n",
    "일반화된 F평균 : 역함수가 존재, 일대일함수, 연속함수이어야 함. f(x) = x 산술평균, f(x) = log b X 기하평균, f(x) = 1/x 조화평균"
   ],
   "metadata": {}
  },
  {
   "cell_type": "markdown",
   "source": [
    "## Sample Quantiles\r\n",
    "\r\n",
    "+ Quartile : p를 1/4씩 나누는 경우\r\n",
    "+ Percentile : p를 %단위로 나누는 경우"
   ],
   "metadata": {}
  },
  {
   "cell_type": "markdown",
   "source": [
    "## 비대칭도(왜도, Skewness)\r\n",
    "\r\n",
    "+ Positive Skewness: tail이 오른쪽(큰 값)에 있는 경우\r\n",
    "+ Negative Skewness: tail이 왼 쪽(작은 값)에 있는 경우"
   ],
   "metadata": {}
  },
  {
   "cell_type": "markdown",
   "source": [
    "## Effect Size 효과 크기\r\n",
    "\r\n",
    "+ 어떤 현상의 크기를 정량적으로 측정하는 방법 ex) 인터넷 광고를 통한 매출액의 변화"
   ],
   "metadata": {}
  },
  {
   "cell_type": "code",
   "execution_count": 4,
   "source": [
    "import pandas as pd\r\n",
    "import scipy as sd\r\n",
    "import numpy as np\r\n",
    "import matplotlib\r\n",
    "import sys"
   ],
   "outputs": [],
   "metadata": {}
  }
 ],
 "metadata": {
  "orig_nbformat": 4,
  "language_info": {
   "name": "python",
   "version": "3.8.3",
   "mimetype": "text/x-python",
   "codemirror_mode": {
    "name": "ipython",
    "version": 3
   },
   "pygments_lexer": "ipython3",
   "nbconvert_exporter": "python",
   "file_extension": ".py"
  },
  "kernelspec": {
   "name": "python3",
   "display_name": "Python 3.8.3 64-bit ('base': conda)"
  },
  "interpreter": {
   "hash": "8fac594bfae6525c0c41b4041d2d72effa188cc8ead05f81b1fab2bb098927fb"
  }
 },
 "nbformat": 4,
 "nbformat_minor": 2
}