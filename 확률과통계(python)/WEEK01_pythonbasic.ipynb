{
 "cells": [
  {
   "cell_type": "markdown",
   "source": [
    "# 1주 1강 : Python basic\n",
    "\n",
    "Date : 21.09.01"
   ],
   "metadata": {}
  },
  {
   "cell_type": "code",
   "execution_count": 2,
   "source": [
    "import sys #내외부 패키지를 불러옴\n",
    "# pip / setuptools / conda\n",
    "print(sys.version_info) #ver.3.8.3"
   ],
   "outputs": [
    {
     "output_type": "stream",
     "name": "stdout",
     "text": [
      "sys.version_info(major=3, minor=8, micro=3, releaselevel='final', serial=0)\n"
     ]
    }
   ],
   "metadata": {}
  },
  {
   "cell_type": "markdown",
   "source": [
    "```\n",
    "*.py    -> python\n",
    "*.ipynb -> jupyter notebook / jupyter lab\n",
    "\n",
    "jupyter -> ipython -> interactive python # code를 셀 단위로 해석\n",
    "```"
   ],
   "metadata": {}
  },
  {
   "cell_type": "code",
   "execution_count": 1,
   "source": [
    "!dir"
   ],
   "outputs": [
    {
     "output_type": "stream",
     "name": "stdout",
     "text": [
      " C 드라이브의 볼륨에는 이름이 없습니다.\n",
      " 볼륨 일련 번호: 4D80-0F70\n",
      "\n",
      " C:\\Users\\User\\Desktop\\study\\SoongsilUniv\\확률과통계(python) 디렉터리\n",
      "\n",
      "2021-09-08  오전 11:57    <DIR>          .\n",
      "2021-09-08  오전 11:57    <DIR>          ..\n",
      "2021-09-08  오전 11:57    <DIR>          .ipynb_checkpoints\n",
      "2021-09-01  오후 03:30                 0 README.md\n",
      "2021-09-02  오후 09:13             8,383 WEEK01_pythonbasic(1).ipynb\n",
      "               2개 파일               8,383 바이트\n",
      "               3개 디렉터리  58,593,021,952 바이트 남음\n"
     ]
    }
   ],
   "metadata": {}
  },
  {
   "cell_type": "code",
   "execution_count": 35,
   "source": [
    "# 주석\n",
    "print(\"hello World!\")\n",
    "\"\"\"\n",
    "여러줄\n",
    "주석 가능\"\"\"\n",
    "\n",
    "print(\"Hello World\")"
   ],
   "outputs": [
    {
     "output_type": "stream",
     "name": "stdout",
     "text": [
      "hello World!\n",
      "Hello World\n"
     ]
    }
   ],
   "metadata": {}
  },
  {
   "cell_type": "code",
   "execution_count": 36,
   "source": [
    "name = \"sungwon\"\n",
    "var1 = 100\n",
    "var2 = 100.1\n",
    "var3 = \"String\"\n",
    "var4 = [100, 100] #list list 순서를 가짐.\n",
    "var5 = {1:100, 2:200} #dictionary dict\n",
    "var6 = {100, 200, 300} #set"
   ],
   "outputs": [],
   "metadata": {}
  },
  {
   "cell_type": "code",
   "execution_count": 37,
   "source": [
    "print(10+4)\n",
    "print(10-4)\n",
    "print(10*4)\n",
    "print(10/4)\n",
    "print(10%4) #나머지\n",
    "print(10//4) #몫\n",
    "print(10**4)"
   ],
   "outputs": [
    {
     "output_type": "stream",
     "name": "stdout",
     "text": [
      "14\n",
      "6\n",
      "40\n",
      "2.5\n",
      "2\n",
      "2\n",
      "10000\n"
     ]
    }
   ],
   "metadata": {}
  },
  {
   "cell_type": "code",
   "execution_count": 38,
   "source": [
    "class_list=[\"확률과통계\",\"자료구조\",\"알고리즘\",\"이산수학\"]\n",
    "print(class_list)\n",
    "print(class_list[0])"
   ],
   "outputs": [
    {
     "output_type": "stream",
     "name": "stdout",
     "text": [
      "['확률과통계', '자료구조', '알고리즘', '이산수학']\n",
      "확률과통계\n"
     ]
    }
   ],
   "metadata": {}
  },
  {
   "cell_type": "code",
   "execution_count": 39,
   "source": [
    "print(class_list[1:3])"
   ],
   "outputs": [
    {
     "output_type": "stream",
     "name": "stdout",
     "text": [
      "['자료구조', '알고리즘']\n"
     ]
    }
   ],
   "metadata": {}
  },
  {
   "cell_type": "code",
   "execution_count": 40,
   "source": [
    "homework_list=[\"git가입\",\"이메일보내기\",\"문제풀기\"]\n"
   ],
   "outputs": [],
   "metadata": {}
  },
  {
   "cell_type": "code",
   "execution_count": 41,
   "source": [
    "this_week=[class_list, homework_list]\n",
    "this_week"
   ],
   "outputs": [
    {
     "output_type": "execute_result",
     "data": {
      "text/plain": [
       "[['확률과통계', '자료구조', '알고리즘', '이산수학'], ['git가입', '이메일보내기', '문제풀기']]"
      ]
     },
     "metadata": {},
     "execution_count": 41
    }
   ],
   "metadata": {}
  },
  {
   "cell_type": "code",
   "execution_count": 42,
   "source": [
    "homework_list.append(\"문제1번풀기\")\n",
    "this_week"
   ],
   "outputs": [
    {
     "output_type": "execute_result",
     "data": {
      "text/plain": [
       "[['확률과통계', '자료구조', '알고리즘', '이산수학'], ['git가입', '이메일보내기', '문제풀기', '문제1번풀기']]"
      ]
     },
     "metadata": {},
     "execution_count": 42
    }
   ],
   "metadata": {}
  },
  {
   "cell_type": "code",
   "execution_count": 43,
   "source": [
    "homework_list.insert(1,\"문제2번풀기\")\n",
    "this_week"
   ],
   "outputs": [
    {
     "output_type": "execute_result",
     "data": {
      "text/plain": [
       "[['확률과통계', '자료구조', '알고리즘', '이산수학'],\n",
       " ['git가입', '문제2번풀기', '이메일보내기', '문제풀기', '문제1번풀기']]"
      ]
     },
     "metadata": {},
     "execution_count": 43
    }
   ],
   "metadata": {}
  },
  {
   "cell_type": "code",
   "execution_count": 44,
   "source": [
    "homework_list.remove(\"문제2번풀기\")\n",
    "this_week"
   ],
   "outputs": [
    {
     "output_type": "execute_result",
     "data": {
      "text/plain": [
       "[['확률과통계', '자료구조', '알고리즘', '이산수학'], ['git가입', '이메일보내기', '문제풀기', '문제1번풀기']]"
      ]
     },
     "metadata": {},
     "execution_count": 44
    }
   ],
   "metadata": {}
  },
  {
   "cell_type": "code",
   "execution_count": 45,
   "source": [
    "sample_list=(\"A\",\"D\",\"B\",\"A\")\n",
    "sorted(sample_list)\n"
   ],
   "outputs": [
    {
     "output_type": "execute_result",
     "data": {
      "text/plain": [
       "['A', 'A', 'B', 'D']"
      ]
     },
     "metadata": {},
     "execution_count": 45
    }
   ],
   "metadata": {}
  },
  {
   "cell_type": "code",
   "execution_count": 46,
   "source": [
    "print(len(class_list))\n",
    "print(max(class_list))\n",
    "print(min(class_list))"
   ],
   "outputs": [
    {
     "output_type": "stream",
     "name": "stdout",
     "text": [
      "4\n",
      "확률과통계\n",
      "알고리즘\n"
     ]
    }
   ],
   "metadata": {}
  },
  {
   "cell_type": "code",
   "execution_count": 47,
   "source": [
    "pi={3,1,2,5,6,4}\n",
    "print(type(pi))\n",
    "list_pi=list(pi)\n",
    "print(type(list_pi))\n",
    "tuple_pi=tuple(list_pi)\n",
    "print(type(tuple_pi))"
   ],
   "outputs": [
    {
     "output_type": "stream",
     "name": "stdout",
     "text": [
      "<class 'set'>\n",
      "<class 'list'>\n",
      "<class 'tuple'>\n"
     ]
    }
   ],
   "metadata": {}
  },
  {
   "cell_type": "code",
   "execution_count": 48,
   "source": [
    "student_number={\"Tom\":1001, \"Mike\" : 1002, \"Jane\" : 1003}\n",
    "print(student_number.keys())\n",
    "print(student_number.values())\n",
    "print(student_number.items())"
   ],
   "outputs": [
    {
     "output_type": "stream",
     "name": "stdout",
     "text": [
      "dict_keys(['Tom', 'Mike', 'Jane'])\n",
      "dict_values([1001, 1002, 1003])\n",
      "dict_items([('Tom', 1001), ('Mike', 1002), ('Jane', 1003)])\n"
     ]
    }
   ],
   "metadata": {}
  }
 ],
 "metadata": {
  "interpreter": {
   "hash": "2647ea34e536f865ab67ff9ddee7fd78773d956cec0cab53c79b32cd10da5d83"
  },
  "kernelspec": {
   "display_name": "Python 3 (ipykernel)",
   "language": "python",
   "name": "python3"
  },
  "language_info": {
   "codemirror_mode": {
    "name": "ipython",
    "version": 3
   },
   "file_extension": ".py",
   "mimetype": "text/x-python",
   "name": "python",
   "nbconvert_exporter": "python",
   "pygments_lexer": "ipython3",
   "version": "3.8.3"
  }
 },
 "nbformat": 4,
 "nbformat_minor": 4
}