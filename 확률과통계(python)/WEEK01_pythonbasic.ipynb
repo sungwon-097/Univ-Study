{
 "cells": [
  {
   "cell_type": "markdown",
   "source": [
    "# 1주 1강 : Python basic\n",
    "\n",
    "Date : 21.09.01"
   ],
   "metadata": {}
  },
  {
   "cell_type": "code",
   "execution_count": 33,
   "source": [
    "import sys #내외부 패키지를 불러옴\r\n",
    "# pip / setuptools / conda\r\n",
    "print(sys.version_info) #ver.3.8.3"
   ],
   "outputs": [
    {
     "output_type": "stream",
     "name": "stdout",
     "text": [
      "sys.version_info(major=3, minor=8, micro=3, releaselevel='final', serial=0)\n"
     ]
    }
   ],
   "metadata": {}
  },
  {
   "cell_type": "markdown",
   "source": [
    "```\n",
    "*.py    -> python\n",
    "*.ipynb -> jupyter notebook / jupyter lab\n",
    "\n",
    "jupyter -> ipython -> interactive python # code를 셀 단위로 해석\n",
    "```"
   ],
   "metadata": {}
  },
  {
   "cell_type": "code",
   "execution_count": 34,
   "source": [
    "!dir"
   ],
   "outputs": [
    {
     "output_type": "stream",
     "name": "stdout",
     "text": [
      " C ����̺��� �������� �̸��� �����ϴ�.\n",
      " ���� �Ϸ� ��ȣ: 4D80-0F70\n",
      "\n",
      " c:\\Users\\User\\Desktop\\study\\Univ-Study\\Ȯ�������(python) ���͸�\n",
      "\n",
      "2021-09-21  ���� 12:59    <DIR>          .\n",
      "2021-09-21  ���� 12:59    <DIR>          ..\n",
      "2021-09-21  ���� 12:40         1,041,415 2002FemPreg.dat.gz\n",
      "2021-09-21  ���� 12:40            28,607 2002FemPreg.dct\n",
      "2021-09-21  ���� 12:40         7,595,512 2002FemPreg.tsv\n",
      "2021-09-21  ���� 12:40         3,364,975 2002FemResp.dat.gz\n",
      "2021-09-21  ���� 12:40           364,811 2002FemResp.dct\n",
      "2021-09-21  ���� 12:40        36,638,076 2002FemResp.tsv\n",
      "2021-09-21  ���� 12:40             4,721 nsfg.py\n",
      "2021-09-21  ���� 12:40               127 README.md\n",
      "2021-09-21  ���� 12:40            23,646 thinkplot.py\n",
      "2021-09-21  ���� 12:40            78,305 thinkstats2.py\n",
      "2021-09-21  ���� 01:00             9,157 WEEK01_pythonbasic.ipynb\n",
      "2021-09-21  ���� 12:59            13,311 WEEK02_pythonbasic.ipynb\n",
      "2021-09-21  ���� 12:59            46,462 WEEK03_pandasbasic.ipynb\n",
      "2021-09-21  ���� 12:58    <DIR>          __pycache__\n",
      "              13�� ����          49,209,125 ����Ʈ\n",
      "               3�� ���͸�  47,463,964,672 ����Ʈ ����\n"
     ]
    }
   ],
   "metadata": {}
  },
  {
   "cell_type": "code",
   "execution_count": 35,
   "source": [
    "# 주석\r\n",
    "print(\"hello World!\")\r\n",
    "\"\"\"\r\n",
    "여러줄\r\n",
    "주석 가능\"\"\"\r\n",
    "\r\n",
    "print(\"Hello World\")"
   ],
   "outputs": [
    {
     "output_type": "stream",
     "name": "stdout",
     "text": [
      "hello World!\n",
      "Hello World\n"
     ]
    }
   ],
   "metadata": {}
  },
  {
   "cell_type": "code",
   "execution_count": 36,
   "source": [
    "name = \"sungwon\"\r\n",
    "var1 = 100\r\n",
    "var2 = 100.1\r\n",
    "var3 = \"String\"\r\n",
    "var4 = [100, 100] #list list 순서를 가짐.\r\n",
    "var5 = {1:100, 2:200} #dictionary dict\r\n",
    "var6 = {100, 200, 300} #set"
   ],
   "outputs": [],
   "metadata": {}
  },
  {
   "cell_type": "code",
   "execution_count": 37,
   "source": [
    "print(10+4)\n",
    "print(10-4)\n",
    "print(10*4)\n",
    "print(10/4)\n",
    "print(10%4) #나머지\n",
    "print(10//4) #몫\n",
    "print(10**4)"
   ],
   "outputs": [
    {
     "output_type": "stream",
     "name": "stdout",
     "text": [
      "14\n",
      "6\n",
      "40\n",
      "2.5\n",
      "2\n",
      "2\n",
      "10000\n"
     ]
    }
   ],
   "metadata": {}
  },
  {
   "cell_type": "code",
   "execution_count": 38,
   "source": [
    "class_list=[\"확률과통계\",\"자료구조\",\"알고리즘\",\"이산수학\"]\n",
    "print(class_list)\n",
    "print(class_list[0])"
   ],
   "outputs": [
    {
     "output_type": "stream",
     "name": "stdout",
     "text": [
      "['확률과통계', '자료구조', '알고리즘', '이산수학']\n",
      "확률과통계\n"
     ]
    }
   ],
   "metadata": {}
  },
  {
   "cell_type": "code",
   "execution_count": 39,
   "source": [
    "print(class_list[1:3])"
   ],
   "outputs": [
    {
     "output_type": "stream",
     "name": "stdout",
     "text": [
      "['자료구조', '알고리즘']\n"
     ]
    }
   ],
   "metadata": {}
  },
  {
   "cell_type": "code",
   "execution_count": 40,
   "source": [
    "homework_list=[\"git가입\",\"이메일보내기\",\"문제풀기\"]\n"
   ],
   "outputs": [],
   "metadata": {}
  },
  {
   "cell_type": "code",
   "execution_count": 41,
   "source": [
    "this_week=[class_list, homework_list]\n",
    "this_week"
   ],
   "outputs": [
    {
     "output_type": "execute_result",
     "data": {
      "text/plain": [
       "[['확률과통계', '자료구조', '알고리즘', '이산수학'], ['git가입', '이메일보내기', '문제풀기']]"
      ]
     },
     "metadata": {},
     "execution_count": 41
    }
   ],
   "metadata": {}
  },
  {
   "cell_type": "code",
   "execution_count": 42,
   "source": [
    "homework_list.append(\"문제1번풀기\")\n",
    "this_week"
   ],
   "outputs": [
    {
     "output_type": "execute_result",
     "data": {
      "text/plain": [
       "[['확률과통계', '자료구조', '알고리즘', '이산수학'], ['git가입', '이메일보내기', '문제풀기', '문제1번풀기']]"
      ]
     },
     "metadata": {},
     "execution_count": 42
    }
   ],
   "metadata": {}
  },
  {
   "cell_type": "code",
   "execution_count": 43,
   "source": [
    "homework_list.insert(1,\"문제2번풀기\")\n",
    "this_week"
   ],
   "outputs": [
    {
     "output_type": "execute_result",
     "data": {
      "text/plain": [
       "[['확률과통계', '자료구조', '알고리즘', '이산수학'],\n",
       " ['git가입', '문제2번풀기', '이메일보내기', '문제풀기', '문제1번풀기']]"
      ]
     },
     "metadata": {},
     "execution_count": 43
    }
   ],
   "metadata": {}
  },
  {
   "cell_type": "code",
   "execution_count": 44,
   "source": [
    "homework_list.remove(\"문제2번풀기\")\n",
    "this_week"
   ],
   "outputs": [
    {
     "output_type": "execute_result",
     "data": {
      "text/plain": [
       "[['확률과통계', '자료구조', '알고리즘', '이산수학'], ['git가입', '이메일보내기', '문제풀기', '문제1번풀기']]"
      ]
     },
     "metadata": {},
     "execution_count": 44
    }
   ],
   "metadata": {}
  },
  {
   "cell_type": "code",
   "execution_count": 45,
   "source": [
    "sample_list=(\"A\",\"D\",\"B\",\"A\")\n",
    "sorted(sample_list)\n"
   ],
   "outputs": [
    {
     "output_type": "execute_result",
     "data": {
      "text/plain": [
       "['A', 'A', 'B', 'D']"
      ]
     },
     "metadata": {},
     "execution_count": 45
    }
   ],
   "metadata": {}
  },
  {
   "cell_type": "code",
   "execution_count": 46,
   "source": [
    "print(len(class_list))\n",
    "print(max(class_list))\n",
    "print(min(class_list))"
   ],
   "outputs": [
    {
     "output_type": "stream",
     "name": "stdout",
     "text": [
      "4\n",
      "확률과통계\n",
      "알고리즘\n"
     ]
    }
   ],
   "metadata": {}
  },
  {
   "cell_type": "code",
   "execution_count": 47,
   "source": [
    "pi={3,1,2,5,6,4}\n",
    "print(type(pi))\n",
    "list_pi=list(pi)\n",
    "print(type(list_pi))\n",
    "tuple_pi=tuple(list_pi)\n",
    "print(type(tuple_pi))"
   ],
   "outputs": [
    {
     "output_type": "stream",
     "name": "stdout",
     "text": [
      "<class 'set'>\n",
      "<class 'list'>\n",
      "<class 'tuple'>\n"
     ]
    }
   ],
   "metadata": {}
  },
  {
   "cell_type": "code",
   "execution_count": 48,
   "source": [
    "student_number={\"Tom\":1001, \"Mike\" : 1002, \"Jane\" : 1003}\n",
    "print(student_number.keys())\n",
    "print(student_number.values())\n",
    "print(student_number.items())"
   ],
   "outputs": [
    {
     "output_type": "stream",
     "name": "stdout",
     "text": [
      "dict_keys(['Tom', 'Mike', 'Jane'])\n",
      "dict_values([1001, 1002, 1003])\n",
      "dict_items([('Tom', 1001), ('Mike', 1002), ('Jane', 1003)])\n"
     ]
    }
   ],
   "metadata": {}
  }
 ],
 "metadata": {
  "interpreter": {
   "hash": "8fac594bfae6525c0c41b4041d2d72effa188cc8ead05f81b1fab2bb098927fb"
  },
  "kernelspec": {
   "name": "python3",
   "display_name": "Python 3.8.3 64-bit ('base': conda)"
  },
  "language_info": {
   "codemirror_mode": {
    "name": "ipython",
    "version": 3
   },
   "file_extension": ".py",
   "mimetype": "text/x-python",
   "name": "python",
   "nbconvert_exporter": "python",
   "pygments_lexer": "ipython3",
   "version": "3.8.3"
  }
 },
 "nbformat": 4,
 "nbformat_minor": 4
}