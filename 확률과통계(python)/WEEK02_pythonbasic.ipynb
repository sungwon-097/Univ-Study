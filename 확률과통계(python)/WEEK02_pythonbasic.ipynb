{
 "cells": [
  {
   "cell_type": "markdown",
   "source": [
    "# 2주 1강 : Python basic\n",
    "Date : 21.09.08"
   ],
   "metadata": {}
  },
  {
   "cell_type": "markdown",
   "source": [
    "기술통계 : Descriptive Statistics\n",
    "\n",
    "모집단 : 우리가 관심 있는 대상의 전체 집합, 주로 표본을 모으는 표집을 사용하며 전체를 모두 조사 하는 것은 전수조사라 한다.\n",
    "\n",
    "Sampling Method\n",
    "```\n",
    "무작위 추출 : 마구잡이로 뽑기. Random Sampling\n",
    "계통 추출 : 하나를 고르고 표집 간격인 K만큼 건너뛰어 고르는 방법. Systematic Sampling\n",
    "층화 추출 : 계층을 나누어서 계층별로 추출\n",
    "집락 추출 : 모집단을 확보 하고 집단을 구분 한 후 집단마다 샘플링한다. 층화추출과 유사함.\n",
    "\n",
    "변수의 종류\n",
    "```"
   ],
   "metadata": {}
  },
  {
   "cell_type": "code",
   "execution_count": 23,
   "source": [
    "my_gpa=3.5\r\n",
    "my_admission_year = 2017\r\n",
    "\r\n",
    "if(my_gpa>4.0):\r\n",
    "    print(\"최우수 장학금\")\r\n",
    "else:\r\n",
    "    print(\"학업장려 장학금\")"
   ],
   "outputs": [
    {
     "output_type": "stream",
     "name": "stdout",
     "text": [
      "학업장려 장학금\n"
     ]
    }
   ],
   "metadata": {}
  },
  {
   "cell_type": "code",
   "execution_count": 24,
   "source": [
    "if my_gpa>4.0:\r\n",
    "    print(\"최우수\")\r\n",
    "elif not my_gpa<=2.0:\r\n",
    "    print(\"힘내요\")\r\n",
    "else:\r\n",
    "    print(\"학업장려\")"
   ],
   "outputs": [
    {
     "output_type": "stream",
     "name": "stdout",
     "text": [
      "힘내요\n"
     ]
    }
   ],
   "metadata": {}
  },
  {
   "cell_type": "code",
   "execution_count": 25,
   "source": [
    "#for x in range(0, 10): #range(a,b) [a,a-1,...b-1]\r\n",
    "print(list(range(0,10,2)))"
   ],
   "outputs": [
    {
     "output_type": "stream",
     "name": "stdout",
     "text": [
      "[0, 2, 4, 6, 8]\n"
     ]
    }
   ],
   "metadata": {}
  },
  {
   "cell_type": "code",
   "execution_count": 26,
   "source": [
    "homework_list=[\"깃허브가입\",\"파이썬설치\",\"문제1번\", \"문제2번\"]\r\n",
    "for item in homework_list:\r\n",
    "    print(item)\r\n",
    "for item in [\"깃허브가입\",\"파이썬설치\",\"문제1번\", \"문제2번\"]:\r\n",
    "    print(item)\r\n"
   ],
   "outputs": [
    {
     "output_type": "stream",
     "name": "stdout",
     "text": [
      "깃허브가입\n",
      "파이썬설치\n",
      "문제1번\n",
      "문제2번\n",
      "깃허브가입\n",
      "파이썬설치\n",
      "문제1번\n",
      "문제2번\n"
     ]
    }
   ],
   "metadata": {}
  },
  {
   "cell_type": "code",
   "execution_count": 27,
   "source": [
    "numbers=[[1,2,3],[4,5,6],[7,8,9]]\r\n",
    "for i in range(len(numbers)):\r\n",
    "    for j in range(len(numbers[i])):\r\n",
    "        print(numbers[i],[j])"
   ],
   "outputs": [
    {
     "output_type": "stream",
     "name": "stdout",
     "text": [
      "[1, 2, 3] [0]\n",
      "[1, 2, 3] [1]\n",
      "[1, 2, 3] [2]\n",
      "[4, 5, 6] [0]\n",
      "[4, 5, 6] [1]\n",
      "[4, 5, 6] [2]\n",
      "[7, 8, 9] [0]\n",
      "[7, 8, 9] [1]\n",
      "[7, 8, 9] [2]\n"
     ]
    }
   ],
   "metadata": {}
  },
  {
   "cell_type": "code",
   "execution_count": 28,
   "source": [
    "for x in range(0,10):\r\n",
    "    if(x%2):\r\n",
    "        continue\r\n",
    "    print(x, end=\" \")"
   ],
   "outputs": [
    {
     "output_type": "stream",
     "name": "stdout",
     "text": [
      "0 2 4 6 8 "
     ]
    }
   ],
   "metadata": {}
  },
  {
   "cell_type": "code",
   "execution_count": 29,
   "source": [
    "import random\r\n",
    "# mersenen twister -> 빠르고 좋음"
   ],
   "outputs": [],
   "metadata": {}
  },
  {
   "cell_type": "code",
   "execution_count": 30,
   "source": [
    "randnum=random.randrange(0,100)\r\n",
    "while(randnum<90):\r\n",
    "    print(randnum)\r\n",
    "    randnum=random.randrange(0,100)"
   ],
   "outputs": [
    {
     "output_type": "stream",
     "name": "stdout",
     "text": [
      "14\n",
      "11\n",
      "5\n",
      "9\n",
      "56\n",
      "87\n",
      "31\n",
      "59\n",
      "61\n",
      "43\n",
      "29\n",
      "70\n",
      "49\n"
     ]
    }
   ],
   "metadata": {}
  },
  {
   "cell_type": "code",
   "execution_count": 31,
   "source": [
    "index=0\r\n",
    "while(index<10):\r\n",
    "    index+=1\r\n",
    "    if(index%2==0):\r\n",
    "        continue\r\n",
    "    elif(index==7):\r\n",
    "        break\r\n",
    "    print(index)"
   ],
   "outputs": [
    {
     "output_type": "stream",
     "name": "stdout",
     "text": [
      "1\n",
      "3\n",
      "5\n"
     ]
    }
   ],
   "metadata": {}
  },
  {
   "cell_type": "code",
   "execution_count": 32,
   "source": [
    "def addNumber(num1, num2):\r\n",
    "    total=num1+num2\r\n",
    "    return total\r\n",
    "print(addNumber(2,3))"
   ],
   "outputs": [
    {
     "output_type": "stream",
     "name": "stdout",
     "text": [
      "5\n"
     ]
    }
   ],
   "metadata": {}
  },
  {
   "cell_type": "code",
   "execution_count": 33,
   "source": [
    "ssu_song=\"이상을 우러르는 우리의 기상 저높은 백두산과 다름이 없고\"\r\n",
    "print(ssu_song+\" 진리를 사모하는 우리의 마음\")"
   ],
   "outputs": [
    {
     "output_type": "stream",
     "name": "stdout",
     "text": [
      "이상을 우러르는 우리의 기상 저높은 백두산과 다름이 없고 진리를 사모하는 우리의 마음\n"
     ]
    }
   ],
   "metadata": {}
  },
  {
   "cell_type": "code",
   "execution_count": 34,
   "source": [
    "name=\"최성원\"\r\n",
    "myclass=\"학생\"\r\n",
    "mystartingyear=2016\r\n",
    "print(\"나는 %s이고 숭실대학교 %s입니다. %d년부터 숭실대학교를 다닙니다.\\n\" %(name, myclass, mystartingyear))\r\n",
    "#F-String 사용법\r\n",
    "print(f\"나는 {name}이고 숭실대학교 {myclass}입니다. {mystartingyear}년부터 숭실대학교를 다닙니다.\\n\") "
   ],
   "outputs": [
    {
     "output_type": "stream",
     "name": "stdout",
     "text": [
      "나는 최성원이고 숭실대학교 학생입니다. 2016년부터 숭실대학교를 다닙니다.\n",
      "\n",
      "나는 최성원이고 숭실대학교 학생입니다. 2016년부터 숭실대학교를 다닙니다.\n",
      "\n"
     ]
    }
   ],
   "metadata": {}
  },
  {
   "cell_type": "code",
   "execution_count": 35,
   "source": [
    "#소문자로 변환\r\n",
    "pop_song=\"sdkj fkbjfGS DFHSDSHS Ddfgsld hjDFSDg\"\r\n",
    "pop_song.lower()"
   ],
   "outputs": [
    {
     "output_type": "execute_result",
     "data": {
      "text/plain": [
       "'sdkj fkbjfgs dfhsdshs ddfgsld hjdfsdg'"
      ]
     },
     "metadata": {},
     "execution_count": 35
    }
   ],
   "metadata": {}
  },
  {
   "cell_type": "code",
   "execution_count": 36,
   "source": [
    "#앞글자만 대문자\r\n",
    "pop_song.capitalize()"
   ],
   "outputs": [
    {
     "output_type": "execute_result",
     "data": {
      "text/plain": [
       "'Sdkj fkbjfgs dfhsdshs ddfgsld hjdfsdg'"
      ]
     },
     "metadata": {},
     "execution_count": 36
    }
   ],
   "metadata": {}
  },
  {
   "cell_type": "code",
   "execution_count": 37,
   "source": [
    "#알파벳인지 확인\r\n",
    "pop_song2=\"gsldhjDFSDg\"\r\n",
    "pop_song2.isalpha()"
   ],
   "outputs": [
    {
     "output_type": "execute_result",
     "data": {
      "text/plain": [
       "True"
      ]
     },
     "metadata": {},
     "execution_count": 37
    }
   ],
   "metadata": {}
  },
  {
   "cell_type": "code",
   "execution_count": 38,
   "source": [
    "#숫자를 포함한 알파벳인지 확인\r\n",
    "pop_song2=\"gsldhjDFSDg123\"\r\n",
    "pop_song2.isalnum()"
   ],
   "outputs": [
    {
     "output_type": "execute_result",
     "data": {
      "text/plain": [
       "True"
      ]
     },
     "metadata": {},
     "execution_count": 38
    }
   ],
   "metadata": {}
  },
  {
   "cell_type": "code",
   "execution_count": 39,
   "source": [
    "#인자1의 위치에 인자2 대체\r\n",
    "pop_song2.replace(\"gsl\", \"HIHI\")"
   ],
   "outputs": [
    {
     "output_type": "execute_result",
     "data": {
      "text/plain": [
       "'HIHIdhjDFSDg123'"
      ]
     },
     "metadata": {},
     "execution_count": 39
    }
   ],
   "metadata": {}
  },
  {
   "cell_type": "code",
   "execution_count": 40,
   "source": [
    "pop_song2.find(\"D\")"
   ],
   "outputs": [
    {
     "output_type": "execute_result",
     "data": {
      "text/plain": [
       "6"
      ]
     },
     "metadata": {},
     "execution_count": 40
    }
   ],
   "metadata": {}
  },
  {
   "cell_type": "code",
   "execution_count": 43,
   "source": [
    "#인자가 등장하는 위치로 나눔\r\n",
    "pop_song.split(\" \")"
   ],
   "outputs": [
    {
     "output_type": "execute_result",
     "data": {
      "text/plain": [
       "['sdkj', 'fkbjfGS', 'DFHSDSHS', 'Ddfgsld', 'hjDFSDg']"
      ]
     },
     "metadata": {},
     "execution_count": 43
    }
   ],
   "metadata": {}
  },
  {
   "cell_type": "code",
   "execution_count": 47,
   "source": [
    "#우측 좌측 공백 지우기\r\n",
    "pop_song2=\"   gsldhjDFSDg123   \"\r\n",
    "print(pop_song2.strip())\r\n",
    "print(pop_song2.rstrip())\r\n",
    "print(pop_song2.lstrip())"
   ],
   "outputs": [
    {
     "output_type": "stream",
     "name": "stdout",
     "text": [
      "gsldhjDFSDg123\n",
      "   gsldhjDFSDg123\n",
      "gsldhjDFSDg123   \n"
     ]
    }
   ],
   "metadata": {}
  },
  {
   "cell_type": "code",
   "execution_count": 60,
   "source": [
    "#읽기전용 파일 생성\r\n",
    "test_file=open(\"./test.txt\", \"w\")"
   ],
   "outputs": [],
   "metadata": {}
  },
  {
   "cell_type": "code",
   "execution_count": 61,
   "source": [
    "print(test_file.mode)\r\n",
    "print(test_file.name)"
   ],
   "outputs": [
    {
     "output_type": "stream",
     "name": "stdout",
     "text": [
      "w\n",
      "./test.txt\n"
     ]
    }
   ],
   "metadata": {}
  },
  {
   "cell_type": "code",
   "execution_count": 63,
   "source": [
    "#쓰기\r\n",
    "test_file.write(\"HIHI\")"
   ],
   "outputs": [
    {
     "output_type": "execute_result",
     "data": {
      "text/plain": [
       "4"
      ]
     },
     "metadata": {},
     "execution_count": 63
    }
   ],
   "metadata": {}
  },
  {
   "cell_type": "code",
   "execution_count": 65,
   "source": [
    "test_file=open(\"./test.txt\", \"r\")\r\n",
    "text_in_file=test_file.read()\r\n",
    "print(text_in_file)\r\n",
    "test_file.close()"
   ],
   "outputs": [
    {
     "output_type": "stream",
     "name": "stdout",
     "text": [
      "HIHIHIHIHIHI\n"
     ]
    }
   ],
   "metadata": {}
  },
  {
   "cell_type": "code",
   "execution_count": 66,
   "source": [
    "#파일 지우기\r\n",
    "import os\r\n",
    "os.remove(\"./test.txt\")"
   ],
   "outputs": [],
   "metadata": {}
  },
  {
   "cell_type": "code",
   "execution_count": 71,
   "source": [
    "class Student:\r\n",
    "    __name=\"\"\r\n",
    "    __id=0\r\n",
    "    _gpa=0\r\n",
    "    def __init__(self, name, id, gpa):\r\n",
    "        self.__name=name\r\n",
    "        self.__id=id\r\n",
    "        self._gpa=gpa\r\n",
    "\r\n",
    "    def set_name(self, name):\r\n",
    "        self.__name=name\r\n",
    "        \r\n",
    "    def get_name(self):\r\n",
    "        return self._name\r\n",
    "#__ 밑줄 두 개는 private(상속후 사용 불가능) _한 개는 protected(상속된 클래스 조회 가능)\r\n",
    "    "
   ],
   "outputs": [],
   "metadata": {}
  },
  {
   "cell_type": "code",
   "execution_count": 72,
   "source": [
    "sungwon = Student(\"성원\", \"20160402\", \"4.5\")"
   ],
   "outputs": [],
   "metadata": {}
  },
  {
   "cell_type": "code",
   "execution_count": null,
   "source": [],
   "outputs": [],
   "metadata": {}
  }
 ],
 "metadata": {
  "kernelspec": {
   "name": "python3",
   "display_name": "Python 3.9.7 64-bit"
  },
  "language_info": {
   "name": "python",
   "version": "3.9.7",
   "mimetype": "text/x-python",
   "codemirror_mode": {
    "name": "ipython",
    "version": 3
   },
   "pygments_lexer": "ipython3",
   "nbconvert_exporter": "python",
   "file_extension": ".py"
  },
  "interpreter": {
   "hash": "2647ea34e536f865ab67ff9ddee7fd78773d956cec0cab53c79b32cd10da5d83"
  }
 },
 "nbformat": 4,
 "nbformat_minor": 5
}