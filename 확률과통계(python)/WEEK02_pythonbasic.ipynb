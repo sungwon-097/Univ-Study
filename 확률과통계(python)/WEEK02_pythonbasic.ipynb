{
 "cells": [
  {
   "cell_type": "markdown",
   "source": [
    "# 2주 1강 : Python basic\r\n",
    "Date : 21.09.08"
   ],
   "metadata": {}
  },
  {
   "cell_type": "markdown",
   "source": [
    "## 기술통계 : Descriptive Statistics\n",
    "\n",
    "+ 모집단 : 우리가 관심 있는 대상의 전체 집합, 주로 표본을 모으는 표집을 사용하며 전체를 모두 조사 하는 것은 전수조사라 한다.\n"
   ],
   "metadata": {}
  },
  {
   "cell_type": "markdown",
   "source": [
    "## Sampling Method\n",
    "\n",
    "+ 무작위 추출 : 마구잡이로 뽑기. Random Sampling\n",
    "+ 계통 추출 : 하나를 고르고 표집 간격인 K만큼 건너뛰어 고르는 방법. Systematic Sampling\n",
    "+ 층화 추출 : 계층을 나누어서 계층별로 추출\n",
    "+ 집락 추출 : 모집단을 확보 하고 집단을 구분 한 후 집단마다 샘플링한다. 층화추출과 유사함."
   ],
   "metadata": {}
  },
  {
   "cell_type": "markdown",
   "source": [
    "## 변수의 종류\n",
    "\n",
    "+ 범주형 변수 : 명확하게 종류가 구분된 변수\n",
    "+ 연속적 변수 : 구분이 명확하지 않고 셀 수 없는 변수\n",
    "+ 불연속적 변수 : 구분이 명확하지 않고 셀 수 있는 변수"
   ],
   "metadata": {}
  },
  {
   "cell_type": "markdown",
   "source": [
    "## 데이터의 시각화\n",
    "\n",
    "+ Bar Chart : 범주형 데이터를 bar로 보여줌\n",
    "+ Pareto Chart : Bar를 빈도의 역순으로\t    파레토 법칙(80:20)\n",
    "+ Pie Chart : 원형 데이터 차트\n",
    "+ Histograms : 연속/불연속 데이터를 다루는데 쓰임\n",
    "+ Outliers : 다른 데이터와 떨어져있는 특이데이터를 의미"
   ],
   "metadata": {}
  },
  {
   "cell_type": "code",
   "execution_count": 82,
   "source": [
    "my_gpa=3.5\n",
    "my_admission_year = 2017\n",
    "\n",
    "if(my_gpa>4.0):\n",
    "    print(\"최우수 장학금\")\n",
    "else:\n",
    "    print(\"학업장려 장학금\")"
   ],
   "outputs": [
    {
     "output_type": "stream",
     "name": "stdout",
     "text": [
      "학업장려 장학금\n"
     ]
    }
   ],
   "metadata": {}
  },
  {
   "cell_type": "code",
   "execution_count": 83,
   "source": [
    "if my_gpa>4.0:\n",
    "    print(\"최우수\")\n",
    "elif not my_gpa<=2.0:\n",
    "    print(\"힘내요\")\n",
    "else:\n",
    "    print(\"학업장려\")"
   ],
   "outputs": [
    {
     "output_type": "stream",
     "name": "stdout",
     "text": [
      "힘내요\n"
     ]
    }
   ],
   "metadata": {}
  },
  {
   "cell_type": "code",
   "execution_count": 84,
   "source": [
    "#for x in range(0, 10): #range(a,b) [a,a-1,...b-1]\n",
    "print(list(range(0,10,2)))"
   ],
   "outputs": [
    {
     "output_type": "stream",
     "name": "stdout",
     "text": [
      "[0, 2, 4, 6, 8]\n"
     ]
    }
   ],
   "metadata": {}
  },
  {
   "cell_type": "code",
   "execution_count": 85,
   "source": [
    "homework_list=[\"깃허브가입\",\"파이썬설치\",\"문제1번\", \"문제2번\"]\n",
    "for item in homework_list:\n",
    "    print(item)\n",
    "for item in [\"깃허브가입\",\"파이썬설치\",\"문제1번\", \"문제2번\"]:\n",
    "    print(item)\n"
   ],
   "outputs": [
    {
     "output_type": "stream",
     "name": "stdout",
     "text": [
      "깃허브가입\n",
      "파이썬설치\n",
      "문제1번\n",
      "문제2번\n",
      "깃허브가입\n",
      "파이썬설치\n",
      "문제1번\n",
      "문제2번\n"
     ]
    }
   ],
   "metadata": {}
  },
  {
   "cell_type": "code",
   "execution_count": 86,
   "source": [
    "numbers=[[1,2,3],[4,5,6],[7,8,9]]\n",
    "for i in range(len(numbers)):\n",
    "    for j in range(len(numbers[i])):\n",
    "        print(numbers[i],[j])"
   ],
   "outputs": [
    {
     "output_type": "stream",
     "name": "stdout",
     "text": [
      "[1, 2, 3] [0]\n",
      "[1, 2, 3] [1]\n",
      "[1, 2, 3] [2]\n",
      "[4, 5, 6] [0]\n",
      "[4, 5, 6] [1]\n",
      "[4, 5, 6] [2]\n",
      "[7, 8, 9] [0]\n",
      "[7, 8, 9] [1]\n",
      "[7, 8, 9] [2]\n"
     ]
    }
   ],
   "metadata": {}
  },
  {
   "cell_type": "code",
   "execution_count": 87,
   "source": [
    "for x in range(0,10):\n",
    "    if(x%2):\n",
    "        continue\n",
    "    print(x, end=\" \")"
   ],
   "outputs": [
    {
     "output_type": "stream",
     "name": "stdout",
     "text": [
      "0 2 4 6 8 "
     ]
    }
   ],
   "metadata": {}
  },
  {
   "cell_type": "code",
   "execution_count": 88,
   "source": [
    "import random\n",
    "# mersenen twister -> 빠르고 좋음"
   ],
   "outputs": [],
   "metadata": {}
  },
  {
   "cell_type": "code",
   "execution_count": 89,
   "source": [
    "randnum=random.randrange(0,100)\n",
    "while(randnum<90):\n",
    "    print(randnum)\n",
    "    randnum=random.randrange(0,100)"
   ],
   "outputs": [
    {
     "output_type": "stream",
     "name": "stdout",
     "text": [
      "12\n",
      "31\n",
      "75\n",
      "26\n",
      "89\n",
      "4\n",
      "18\n",
      "73\n"
     ]
    }
   ],
   "metadata": {}
  },
  {
   "cell_type": "code",
   "execution_count": 90,
   "source": [
    "index=0\n",
    "while(index<10):\n",
    "    index+=1\n",
    "    if(index%2==0):\n",
    "        continue\n",
    "    elif(index==7):\n",
    "        break\n",
    "    print(index)"
   ],
   "outputs": [
    {
     "output_type": "stream",
     "name": "stdout",
     "text": [
      "1\n",
      "3\n",
      "5\n"
     ]
    }
   ],
   "metadata": {}
  },
  {
   "cell_type": "code",
   "execution_count": 91,
   "source": [
    "def addNumber(num1, num2):\n",
    "    total=num1+num2\n",
    "    return total\n",
    "print(addNumber(2,3))"
   ],
   "outputs": [
    {
     "output_type": "stream",
     "name": "stdout",
     "text": [
      "5\n"
     ]
    }
   ],
   "metadata": {}
  },
  {
   "cell_type": "code",
   "execution_count": 92,
   "source": [
    "ssu_song=\"이상을 우러르는 우리의 기상 저높은 백두산과 다름이 없고\"\n",
    "print(ssu_song+\" 진리를 사모하는 우리의 마음\")"
   ],
   "outputs": [
    {
     "output_type": "stream",
     "name": "stdout",
     "text": [
      "이상을 우러르는 우리의 기상 저높은 백두산과 다름이 없고 진리를 사모하는 우리의 마음\n"
     ]
    }
   ],
   "metadata": {}
  },
  {
   "cell_type": "code",
   "execution_count": 93,
   "source": [
    "name=\"최성원\"\n",
    "myclass=\"학생\"\n",
    "mystartingyear=2016\n",
    "print(\"나는 %s이고 숭실대학교 %s입니다. %d년부터 숭실대학교를 다닙니다.\\n\" %(name, myclass, mystartingyear))\n",
    "#F-String 사용법\n",
    "print(f\"나는 {name}이고 숭실대학교 {myclass}입니다. {mystartingyear}년부터 숭실대학교를 다닙니다.\\n\") "
   ],
   "outputs": [
    {
     "output_type": "stream",
     "name": "stdout",
     "text": [
      "나는 최성원이고 숭실대학교 학생입니다. 2016년부터 숭실대학교를 다닙니다.\n",
      "\n",
      "나는 최성원이고 숭실대학교 학생입니다. 2016년부터 숭실대학교를 다닙니다.\n",
      "\n"
     ]
    }
   ],
   "metadata": {}
  },
  {
   "cell_type": "code",
   "execution_count": 94,
   "source": [
    "#소문자로 변환\n",
    "pop_song=\"sdkj fkbjfGS DFHSDSHS Ddfgsld hjDFSDg\"\n",
    "pop_song.lower()"
   ],
   "outputs": [
    {
     "output_type": "execute_result",
     "data": {
      "text/plain": [
       "'sdkj fkbjfgs dfhsdshs ddfgsld hjdfsdg'"
      ]
     },
     "metadata": {},
     "execution_count": 94
    }
   ],
   "metadata": {}
  },
  {
   "cell_type": "code",
   "execution_count": 95,
   "source": [
    "#앞글자만 대문자\n",
    "pop_song.capitalize()"
   ],
   "outputs": [
    {
     "output_type": "execute_result",
     "data": {
      "text/plain": [
       "'Sdkj fkbjfgs dfhsdshs ddfgsld hjdfsdg'"
      ]
     },
     "metadata": {},
     "execution_count": 95
    }
   ],
   "metadata": {}
  },
  {
   "cell_type": "code",
   "execution_count": 96,
   "source": [
    "#알파벳인지 확인\n",
    "pop_song2=\"gsldhjDFSDg\"\n",
    "pop_song2.isalpha()"
   ],
   "outputs": [
    {
     "output_type": "execute_result",
     "data": {
      "text/plain": [
       "True"
      ]
     },
     "metadata": {},
     "execution_count": 96
    }
   ],
   "metadata": {}
  },
  {
   "cell_type": "code",
   "execution_count": 97,
   "source": [
    "#숫자를 포함한 알파벳인지 확인\n",
    "pop_song2=\"gsldhjDFSDg123\"\n",
    "pop_song2.isalnum()"
   ],
   "outputs": [
    {
     "output_type": "execute_result",
     "data": {
      "text/plain": [
       "True"
      ]
     },
     "metadata": {},
     "execution_count": 97
    }
   ],
   "metadata": {}
  },
  {
   "cell_type": "code",
   "execution_count": 98,
   "source": [
    "#인자1의 위치에 인자2 대체\n",
    "pop_song2.replace(\"gsl\", \"HIHI\")"
   ],
   "outputs": [
    {
     "output_type": "execute_result",
     "data": {
      "text/plain": [
       "'HIHIdhjDFSDg123'"
      ]
     },
     "metadata": {},
     "execution_count": 98
    }
   ],
   "metadata": {}
  },
  {
   "cell_type": "code",
   "execution_count": 99,
   "source": [
    "pop_song2.find(\"D\")"
   ],
   "outputs": [
    {
     "output_type": "execute_result",
     "data": {
      "text/plain": [
       "6"
      ]
     },
     "metadata": {},
     "execution_count": 99
    }
   ],
   "metadata": {}
  },
  {
   "cell_type": "code",
   "execution_count": 100,
   "source": [
    "#인자가 등장하는 위치로 나눔\n",
    "pop_song.split(\" \")"
   ],
   "outputs": [
    {
     "output_type": "execute_result",
     "data": {
      "text/plain": [
       "['sdkj', 'fkbjfGS', 'DFHSDSHS', 'Ddfgsld', 'hjDFSDg']"
      ]
     },
     "metadata": {},
     "execution_count": 100
    }
   ],
   "metadata": {}
  },
  {
   "cell_type": "code",
   "execution_count": 101,
   "source": [
    "#우측 좌측 공백 지우기\n",
    "pop_song2=\"   gsldhjDFSDg123   \"\n",
    "print(pop_song2.strip())\n",
    "print(pop_song2.rstrip())\n",
    "print(pop_song2.lstrip())"
   ],
   "outputs": [
    {
     "output_type": "stream",
     "name": "stdout",
     "text": [
      "gsldhjDFSDg123\n",
      "   gsldhjDFSDg123\n",
      "gsldhjDFSDg123   \n"
     ]
    }
   ],
   "metadata": {}
  },
  {
   "cell_type": "code",
   "execution_count": 102,
   "source": [
    "#읽기전용 파일 생성\n",
    "test_file=open(\"./test.txt\", \"w\")"
   ],
   "outputs": [],
   "metadata": {}
  },
  {
   "cell_type": "code",
   "execution_count": 103,
   "source": [
    "print(test_file.mode)\n",
    "print(test_file.name)"
   ],
   "outputs": [
    {
     "output_type": "stream",
     "name": "stdout",
     "text": [
      "w\n",
      "./test.txt\n"
     ]
    }
   ],
   "metadata": {}
  },
  {
   "cell_type": "code",
   "execution_count": 104,
   "source": [
    "#쓰기\n",
    "test_file.write(\"HIHI\")"
   ],
   "outputs": [
    {
     "output_type": "execute_result",
     "data": {
      "text/plain": [
       "4"
      ]
     },
     "metadata": {},
     "execution_count": 104
    }
   ],
   "metadata": {}
  },
  {
   "cell_type": "code",
   "execution_count": 105,
   "source": [
    "test_file=open(\"./test.txt\", \"r\")\n",
    "text_in_file=test_file.read()\n",
    "print(text_in_file)\n",
    "test_file.close()"
   ],
   "outputs": [
    {
     "output_type": "stream",
     "name": "stdout",
     "text": [
      "HIHI\n"
     ]
    }
   ],
   "metadata": {}
  },
  {
   "cell_type": "code",
   "execution_count": 106,
   "source": [
    "#파일 지우기\n",
    "import os\n",
    "os.remove(\"./test.txt\")"
   ],
   "outputs": [],
   "metadata": {}
  },
  {
   "cell_type": "code",
   "execution_count": 107,
   "source": [
    "class Student:\n",
    "    __name=\"\"\n",
    "    __id=0\n",
    "    _gpa=0\n",
    "    def __init__(self, name, id, gpa):\n",
    "        self.__name=name\n",
    "        self.__id=id\n",
    "        self._gpa=gpa\n",
    "\n",
    "    def set_name(self, name):\n",
    "        self.__name=name\n",
    "        \n",
    "    def get_name(self):\n",
    "        return self._name\n",
    "#__ 밑줄 두 개는 private(상속후 사용 불가능) _한 개는 protected(상속된 클래스 조회 가능)\n",
    "    "
   ],
   "outputs": [],
   "metadata": {}
  },
  {
   "cell_type": "code",
   "execution_count": 108,
   "source": [
    "sungwon = Student(\"성원\", \"20160402\", \"4.5\")"
   ],
   "outputs": [],
   "metadata": {}
  },
  {
   "cell_type": "code",
   "execution_count": null,
   "source": [],
   "outputs": [],
   "metadata": {}
  }
 ],
 "metadata": {
  "kernelspec": {
   "name": "python3",
   "display_name": "Python 3.9.7 64-bit"
  },
  "language_info": {
   "name": "python",
   "version": "3.9.7",
   "mimetype": "text/x-python",
   "codemirror_mode": {
    "name": "ipython",
    "version": 3
   },
   "pygments_lexer": "ipython3",
   "nbconvert_exporter": "python",
   "file_extension": ".py"
  },
  "interpreter": {
   "hash": "b0fa6594d8f4cbf19f97940f81e996739fb7646882a419484c72d19e05852a7e"
  }
 },
 "nbformat": 4,
 "nbformat_minor": 5
}