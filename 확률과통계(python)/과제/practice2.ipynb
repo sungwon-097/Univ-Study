{
 "cells": [
  {
   "cell_type": "markdown",
   "metadata": {},
   "source": [
    "# Midterm Project : M.A.F.I.A. in the morning(2)\n",
    "* * *"
   ]
  },
  {
   "cell_type": "markdown",
   "metadata": {},
   "source": [
    "## 2. 경찰은 마피아를 찾습니다\n",
    "* 가장 단순한 게임에 경찰이 들어옵니다.\n",
    "    * 경찰은 매일 시작 전에 사람을 지목해서 마피아인지 확인할 수 있습니다.\n",
    "        * 마피아를 지목할수도, 시민을 지목할 수도 있지요\n",
    "    * 경찰이 마피아를 확인한다면 마피아가 발각될 확률을 약간 올려준다고 생각해 봅시다. \n",
    "        * 이 확률도 parameter로 쓸 수 있겠죠?\n",
    "    * 경찰의 기억력은 형편 없어서 그날 확인한 사람은 당일만 알고 있는 경우도 생각해보고\n",
    "    * 경찰이 기억력이 좋아서 그날 확인한 사람을 계속 알고 있는 경우도 생각해볼 수 있겠죠\n",
    "* 이 경우 확률은 어떻게 변화할까요? 어떤 패턴이 있을까요?\n",
    "    * 참고로 경찰은 시민의 일종입니다. 마피아가 밤에 죽일 수도 있습니다."
   ]
  },
  {
   "cell_type": "code",
   "execution_count": 37,
   "metadata": {},
   "outputs": [],
   "source": [
    "import numpy as np\n",
    "import pandas as pd\n",
    "from matplotlib import pyplot as plt\n",
    "from collections import Counter\n",
    "import random"
   ]
  },
  {
   "cell_type": "markdown",
   "metadata": {},
   "source": [
    "### 구현 방법\n",
    "\n",
    "- practice1을 기반으로 경찰을 추가\n",
    "- 경찰은 마피아를 찾음\n",
    "    - 편의를 위해 구현은 낮에 하였으나 살인이 끝난 후 새벽에 마피아를 검거한다는 설정\n",
    "- 랜덤하게 참가자중 한 명을 찾고 마피아인지 확인\n",
    "    - 마피아가 맞다면 인덱스를 반환\n",
    "- 낮투표중 경찰의 신뢰도를 랜덤하게 반환\n",
    "    - 신뢰도는 참가 인원 중 몇 명을 신뢰하게 만들었는지로 확인\n",
    "    - 과반수 이상 일 경우 기존 투표결과를 경찰이 찾은 마피아로 변경"
   ]
  },
  {
   "cell_type": "markdown",
   "metadata": {},
   "source": [
    "### Code\n",
    "\n",
    "- 기존 코드에서의 변경 내용을 표시"
   ]
  },
  {
   "cell_type": "code",
   "execution_count": 38,
   "metadata": {},
   "outputs": [],
   "source": [
    "def job_Init(num, job, list):\n",
    "    for i in range(0, num):\n",
    "        list.append(job)\n",
    "\n",
    "def people_Count(list):\n",
    "    mafia=list.count(\"mafia\")\n",
    "    citizen=list.count(\"citizen\")\n",
    "    police=list.count(\"police\")\n",
    "    participant = mafia + citizen + police\n",
    "    return mafia, citizen, police, participant\n",
    "\n",
    "def modefinder(numbers):\n",
    "    c = Counter(numbers)\n",
    "    mode = c.most_common(1)\n",
    "    return mode[0][0]"
   ]
  },
  {
   "cell_type": "markdown",
   "metadata": {},
   "source": [
    "- police_Find(리스트) : 참가 인원 중 랜덤하게 한 명을 지목해 마피아를 찾으면 그 인덱스를 반환"
   ]
  },
  {
   "cell_type": "code",
   "execution_count": 39,
   "metadata": {},
   "outputs": [],
   "source": [
    "def police_Find(participant):\n",
    "    arrest=random.randrange(0, len(participant)-1)\n",
    "    if participant[arrest]==\"police\":\n",
    "        police_Find(participant)\n",
    "    elif participant[arrest] == \"mafia\":\n",
    "        return arrest\n",
    "    return None"
   ]
  },
  {
   "cell_type": "markdown",
   "metadata": {},
   "source": [
    "- police_arrest(인덱스, 리스트) : 경찰이 살아있을 때, 경찰에 대한 시민의 신뢰도를 랜덤하게 결정, 과반수 이상일 때 마피아 인덱스를 반환"
   ]
  },
  {
   "cell_type": "code",
   "execution_count": 40,
   "metadata": {},
   "outputs": [],
   "source": [
    "def police_arrest(vote, participants):\n",
    "    if participants.count(\"police\") == 0:\n",
    "        return vote\n",
    "    else:\n",
    "        trust=random.randrange(0, len(participants))\n",
    "        if trust*2 > len(participants):\n",
    "            find = police_Find(participants)\n",
    "            if find!=None:\n",
    "                return find\n",
    "    return vote"
   ]
  },
  {
   "cell_type": "markdown",
   "metadata": {},
   "source": [
    "- 낮투표의 최빈값을 계산, 경찰의 신뢰도가 과반수 이상이면 투표를 무시하고 마피아를 검거"
   ]
  },
  {
   "cell_type": "code",
   "execution_count": 41,
   "metadata": {},
   "outputs": [],
   "source": [
    "def day_Vote(participants):\n",
    "    vote_list=list()\n",
    "    mafia_count=participants.count(\"mafia\")\n",
    "    for i in range(0, len(participants)):\n",
    "        if participants[i]==\"mafia\":\n",
    "            vote=random.randrange(mafia_count, len(participants))\n",
    "            vote_list.append(vote)\n",
    "        else:\n",
    "            vote=random.randrange(0, len(participants))\n",
    "            vote_list.append(vote)\n",
    "    max_vote=modefinder(vote_list)\n",
    "    max_vote=police_arrest(max_vote, participants)\n",
    "    del participants[max_vote]\n",
    "    return participants"
   ]
  },
  {
   "cell_type": "code",
   "execution_count": 42,
   "metadata": {},
   "outputs": [],
   "source": [
    "def night_Kill(participants):\n",
    "    vote_list=list()\n",
    "    mafia_idx=0\n",
    "    mafia_count=participants.count(\"mafia\")\n",
    "    while(participants[mafia_idx] == \"mafia\"):\n",
    "        vote=random.randrange(mafia_count, len(participants))\n",
    "        vote_list.append(vote)\n",
    "        mafia_idx+=1\n",
    "    max_vote=modefinder(vote_list)\n",
    "    del participants[max_vote]\n",
    "    return participants"
   ]
  },
  {
   "cell_type": "code",
   "execution_count": 43,
   "metadata": {},
   "outputs": [],
   "source": [
    "Game_Endday=list()"
   ]
  },
  {
   "cell_type": "code",
   "execution_count": 44,
   "metadata": {},
   "outputs": [],
   "source": [
    "def in_Game(participants):\n",
    "    turn = \"morning\"\n",
    "    day=1\n",
    "    mafia, citizen, police, people = people_Count(participants)\n",
    "    while (mafia > 0) & (people-mafia > mafia) == True:\n",
    "        if turn == \"morning\":\n",
    "            participants = day_Vote(participants)\n",
    "            turn = \"night\"\n",
    "        else:\n",
    "            participants = night_Kill(participants)\n",
    "            turn = \"morning\"\n",
    "            day+=1\n",
    "        mafia, citizen, police, people = people_Count(participants)\n",
    "        #print(participants)\n",
    "    Game_Endday.append(day)\n",
    "    if mafia == 0:\n",
    "        return True\n",
    "    else:\n",
    "        return False"
   ]
  },
  {
   "cell_type": "code",
   "execution_count": 45,
   "metadata": {},
   "outputs": [],
   "source": [
    "def citizen_win_Rate(participants):\n",
    "    wincount = 0\n",
    "    mafia=participants.count(\"mafia\")\n",
    "    citizen=participants.count(\"citizen\")\n",
    "    police=participants.count(\"police\")\n",
    "    times=100\n",
    "    for i in range(0,times):\n",
    "        participants=list()\n",
    "        job_Init(mafia, \"mafia\", participants)\n",
    "        job_Init(citizen, \"citizen\", participants)\n",
    "        job_Init(police, \"police\", participants)\n",
    "        if in_Game(participants) == True:\n",
    "            wincount += 1\n",
    "    return 100*wincount/times"
   ]
  },
  {
   "cell_type": "code",
   "execution_count": 86,
   "metadata": {},
   "outputs": [],
   "source": [
    "def Mafia_Game_withPolice_Stats(num_mafia, num_citizen, num_police):\n",
    "    mafia = num_mafia\n",
    "    citizen = num_citizen\n",
    "    police = num_police\n",
    "    citizen_win_list=list()\n",
    "    # for i in range (0, 10000):\n",
    "    for i in range (0, 100):\n",
    "        Game_participants=list()\n",
    "        job_Init(mafia, \"mafia\", Game_participants)\n",
    "        job_Init(citizen, \"citizen\", Game_participants)\n",
    "        job_Init(police, \"police\", Game_participants)\n",
    "        rate=citizen_win_Rate(Game_participants)\n",
    "        citizen_win_list.append(rate)\n",
    "    return citizen_win_list\n",
    "\n",
    "#Mafia_Game_withPolice_Stats(1,0,9)"
   ]
  },
  {
   "cell_type": "code",
   "execution_count": 47,
   "metadata": {},
   "outputs": [],
   "source": [
    "def Mafia_Game_changewithPolice(num_mafia, num_citizen, num_police):\n",
    "    mafia = num_mafia\n",
    "    citizen = num_citizen\n",
    "    police = num_police\n",
    "    participants = mafia + citizen + police\n",
    "    citizen_win_list=list()\n",
    "    while mafia*2 < participants:\n",
    "        mafia += 1\n",
    "        if citizen==0:\n",
    "            police -=1\n",
    "        else:\n",
    "            citizen -= 1\n",
    "        Game_participants=list()\n",
    "        job_Init(mafia, \"mafia\", Game_participants)\n",
    "        job_Init(citizen, \"citizen\", Game_participants)\n",
    "        job_Init(police, \"police\", Game_participants)\n",
    "        rate=citizen_win_Rate(Game_participants)\n",
    "        citizen_win_list.append(rate)\n",
    "    return citizen_win_list"
   ]
  },
  {
   "cell_type": "markdown",
   "metadata": {},
   "source": [
    "### Data Frame\n",
    "- 마피아가 2명, 시민이 7명, 경찰이 1명일 때 100번의 게임 중 시민의 우승 확률을 100번 구함"
   ]
  },
  {
   "cell_type": "code",
   "execution_count": 48,
   "metadata": {},
   "outputs": [
    {
     "data": {
      "text/html": [
       "<div>\n",
       "<style scoped>\n",
       "    .dataframe tbody tr th:only-of-type {\n",
       "        vertical-align: middle;\n",
       "    }\n",
       "\n",
       "    .dataframe tbody tr th {\n",
       "        vertical-align: top;\n",
       "    }\n",
       "\n",
       "    .dataframe thead th {\n",
       "        text-align: right;\n",
       "    }\n",
       "</style>\n",
       "<table border=\"1\" class=\"dataframe\">\n",
       "  <thead>\n",
       "    <tr style=\"text-align: right;\">\n",
       "      <th></th>\n",
       "      <th>Citizens to Win(%)</th>\n",
       "    </tr>\n",
       "  </thead>\n",
       "  <tbody>\n",
       "    <tr>\n",
       "      <th>1</th>\n",
       "      <td>8.0</td>\n",
       "    </tr>\n",
       "    <tr>\n",
       "      <th>2</th>\n",
       "      <td>7.0</td>\n",
       "    </tr>\n",
       "    <tr>\n",
       "      <th>3</th>\n",
       "      <td>4.0</td>\n",
       "    </tr>\n",
       "    <tr>\n",
       "      <th>4</th>\n",
       "      <td>7.0</td>\n",
       "    </tr>\n",
       "    <tr>\n",
       "      <th>5</th>\n",
       "      <td>10.0</td>\n",
       "    </tr>\n",
       "    <tr>\n",
       "      <th>...</th>\n",
       "      <td>...</td>\n",
       "    </tr>\n",
       "    <tr>\n",
       "      <th>96</th>\n",
       "      <td>10.0</td>\n",
       "    </tr>\n",
       "    <tr>\n",
       "      <th>97</th>\n",
       "      <td>19.0</td>\n",
       "    </tr>\n",
       "    <tr>\n",
       "      <th>98</th>\n",
       "      <td>7.0</td>\n",
       "    </tr>\n",
       "    <tr>\n",
       "      <th>99</th>\n",
       "      <td>8.0</td>\n",
       "    </tr>\n",
       "    <tr>\n",
       "      <th>100</th>\n",
       "      <td>12.0</td>\n",
       "    </tr>\n",
       "  </tbody>\n",
       "</table>\n",
       "<p>100 rows × 1 columns</p>\n",
       "</div>"
      ],
      "text/plain": [
       "     Citizens to Win(%)\n",
       "1                   8.0\n",
       "2                   7.0\n",
       "3                   4.0\n",
       "4                   7.0\n",
       "5                  10.0\n",
       "..                  ...\n",
       "96                 10.0\n",
       "97                 19.0\n",
       "98                  7.0\n",
       "99                  8.0\n",
       "100                12.0\n",
       "\n",
       "[100 rows x 1 columns]"
      ]
     },
     "execution_count": 48,
     "metadata": {},
     "output_type": "execute_result"
    }
   ],
   "source": [
    "Game_participants=list()\n",
    "col=[\"Citizens to Win(%)\"]\n",
    "Game = Mafia_Game_withPolice_Stats(2, 7, 1)\n",
    "length=len(Game)\n",
    "index = list()\n",
    "for i in range(1, length+1):\n",
    "    index.append(i)\n",
    "\n",
    "df=pd.DataFrame(Game, index, columns=col)\n",
    "df"
   ]
  },
  {
   "cell_type": "markdown",
   "metadata": {},
   "source": [
    "### Histogram\n",
    "\n",
    "- x축은 횟수, y축은 시민의 승률\n",
    "- 마피아 2, 시민 7, 경찰 1명일 때의 시민의 승률"
   ]
  },
  {
   "cell_type": "code",
   "execution_count": 87,
   "metadata": {},
   "outputs": [
    {
     "data": {
      "image/png": "[encoded data removed]",
      "text/plain": [
       "<Figure size 1440x360 with 1 Axes>"
      ]
     },
     "metadata": {
      "needs_background": "light"
     },
     "output_type": "display_data"
    }
   ],
   "source": [
    "def drawHIST(list1):\n",
    "    length=len(list1)\n",
    "    list2 = list()\n",
    "    for i in range(1, length+1):\n",
    "        list2.append(i)\n",
    "    plt.figure(figsize=(20,5))\n",
    "    plt.bar(list2, list1)\n",
    "    plt.xlabel(\"X\")\n",
    "    plt.ylabel(\"Y\")\n",
    "    plt.show()\n",
    "    plt.close()\n",
    "\n",
    "def drawPLT(list1):\n",
    "    length=len(list1)\n",
    "    list2 = list()\n",
    "    for i in range(1, length+1):\n",
    "        list2.append(i)\n",
    "    plt.figure(figsize=(20,5))\n",
    "    plt.plot(list2, list1)\n",
    "    plt.xlabel(\"X\")\n",
    "    plt.ylabel(\"Y\")\n",
    "    plt.show()\n",
    "    plt.close()\n",
    "\n",
    "Game_Stats = Mafia_Game_withPolice_Stats(2, 7, 1)\n",
    "Game_Stats.sort()\n",
    "drawHIST(Game_Stats)"
   ]
  },
  {
   "cell_type": "code",
   "execution_count": 88,
   "metadata": {},
   "outputs": [
    {
     "data": {
      "image/png": "[encoded data removed]",
      "text/plain": [
       "<Figure size 1440x720 with 1 Axes>"
      ]
     },
     "metadata": {
      "needs_background": "light"
     },
     "output_type": "display_data"
    }
   ],
   "source": [
    "c = Counter(Game_Stats) \n",
    "plt.figure(figsize=(20,10))\n",
    "plt.plot(c.keys(), c.values())\n",
    "plt.xlabel(\"Rate\")\n",
    "plt.ylabel(\"Frequency\")\n",
    "plt.show()\n",
    "plt.close()"
   ]
  },
  {
   "cell_type": "markdown",
   "metadata": {},
   "source": [
    "### Plot Chart\n",
    "\n",
    "- 마피아는 2명, 각각 경찰이 0명, 3명, 5명일 때의 차트"
   ]
  },
  {
   "cell_type": "code",
   "execution_count": 51,
   "metadata": {},
   "outputs": [
    {
     "data": {
      "image/png": "[encoded data removed]",
      "text/plain": [
       "<Figure size 1440x720 with 1 Axes>"
      ]
     },
     "metadata": {
      "needs_background": "light"
     },
     "output_type": "display_data"
    }
   ],
   "source": [
    "Game_Endday.clear()\n",
    "Game_Stats1 = Mafia_Game_withPolice_Stats(2, 8, 0)\n",
    "Game_Stats1.sort()\n",
    "Game_Stats2 = Mafia_Game_withPolice_Stats(2, 7, 1)\n",
    "Game_Stats2.sort()\n",
    "Game_Stats3 = Mafia_Game_withPolice_Stats(2, 5, 3)\n",
    "Game_Stats3.sort()\n",
    "\n",
    "list0 = list()\n",
    "length = len(Game_Stats1)\n",
    "for i in range(1, length+1):\n",
    "    list0.append(i)\n",
    "    \n",
    "plt.figure(figsize=(20,10))\n",
    "plt.plot(list0, Game_Stats1, label=\"2 : 8 : 0\")\n",
    "plt.plot(list0, Game_Stats2, label=\"2 : 7 : 1\")\n",
    "plt.plot(list0, Game_Stats3, label=\"2 : 5 : 3\")\n",
    "plt.legend()\n",
    "plt.xlabel(\"X\")\n",
    "plt.ylabel(\"Y\")\n",
    "plt.show()\n",
    "plt.close()"
   ]
  },
  {
   "cell_type": "code",
   "execution_count": 52,
   "metadata": {},
   "outputs": [
    {
     "data": {
      "image/png": "[encoded data removed]",
      "text/plain": [
       "<Figure size 720x360 with 1 Axes>"
      ]
     },
     "metadata": {
      "needs_background": "light"
     },
     "output_type": "display_data"
    }
   ],
   "source": [
    "c1 = Counter(Game_Stats1) \n",
    "c2 = Counter(Game_Stats2) \n",
    "c3 = Counter(Game_Stats3) \n",
    "plt.figure(figsize=(10,5))\n",
    "plt.bar(c1.keys(), c1.values())\n",
    "plt.bar(c2.keys(), c2.values(), align=\"center\")\n",
    "plt.bar(c3.keys(), c3.values(), align=\"edge\")\n",
    "plt.xlabel(\"Citizen win rate(%)\")\n",
    "plt.ylabel(\"frequency\")\n",
    "plt.show()\n",
    "plt.close()"
   ]
  },
  {
   "cell_type": "markdown",
   "metadata": {},
   "source": [
    "### Plot Chart\n",
    "- 위 상황에 대한 게임 종료일 나열\n",
    "- 상황 1,2,3에 대해 10,000단위 구분"
   ]
  },
  {
   "cell_type": "code",
   "execution_count": 53,
   "metadata": {},
   "outputs": [
    {
     "data": {
      "image/png": "[encoded data removed]",
      "text/plain": [
       "<Figure size 1440x360 with 1 Axes>"
      ]
     },
     "metadata": {
      "needs_background": "light"
     },
     "output_type": "display_data"
    }
   ],
   "source": [
    "drawHIST(Game_Endday)\n",
    "# drawPLT(Game_Endday[:10000])\n",
    "# drawPLT(Game_Endday[10000:20000])\n",
    "# drawPLT(Game_Endday[20000:30000])\n",
    "Game_Endday.clear()"
   ]
  },
  {
   "cell_type": "markdown",
   "metadata": {},
   "source": [
    "### Data Frame\n",
    "- 경찰 3명을 포함한 전체 게임인원 100명 중 마피아의 비율(%)을 인덱스로 하여 확률을 나타냄"
   ]
  },
  {
   "cell_type": "code",
   "execution_count": 54,
   "metadata": {},
   "outputs": [
    {
     "data": {
      "text/html": [
       "<div>\n",
       "<style scoped>\n",
       "    .dataframe tbody tr th:only-of-type {\n",
       "        vertical-align: middle;\n",
       "    }\n",
       "\n",
       "    .dataframe tbody tr th {\n",
       "        vertical-align: top;\n",
       "    }\n",
       "\n",
       "    .dataframe thead th {\n",
       "        text-align: right;\n",
       "    }\n",
       "</style>\n",
       "<table border=\"1\" class=\"dataframe\">\n",
       "  <thead>\n",
       "    <tr style=\"text-align: right;\">\n",
       "      <th></th>\n",
       "      <th>Citizens to Win(%)</th>\n",
       "    </tr>\n",
       "  </thead>\n",
       "  <tbody>\n",
       "    <tr>\n",
       "      <th>1</th>\n",
       "      <td>82.0</td>\n",
       "    </tr>\n",
       "    <tr>\n",
       "      <th>2</th>\n",
       "      <td>73.0</td>\n",
       "    </tr>\n",
       "    <tr>\n",
       "      <th>3</th>\n",
       "      <td>50.0</td>\n",
       "    </tr>\n",
       "    <tr>\n",
       "      <th>4</th>\n",
       "      <td>29.0</td>\n",
       "    </tr>\n",
       "    <tr>\n",
       "      <th>5</th>\n",
       "      <td>16.0</td>\n",
       "    </tr>\n",
       "    <tr>\n",
       "      <th>6</th>\n",
       "      <td>9.0</td>\n",
       "    </tr>\n",
       "    <tr>\n",
       "      <th>7</th>\n",
       "      <td>13.0</td>\n",
       "    </tr>\n",
       "    <tr>\n",
       "      <th>8</th>\n",
       "      <td>2.0</td>\n",
       "    </tr>\n",
       "    <tr>\n",
       "      <th>9</th>\n",
       "      <td>4.0</td>\n",
       "    </tr>\n",
       "    <tr>\n",
       "      <th>10</th>\n",
       "      <td>0.0</td>\n",
       "    </tr>\n",
       "    <tr>\n",
       "      <th>11</th>\n",
       "      <td>0.0</td>\n",
       "    </tr>\n",
       "    <tr>\n",
       "      <th>12</th>\n",
       "      <td>2.0</td>\n",
       "    </tr>\n",
       "    <tr>\n",
       "      <th>13</th>\n",
       "      <td>0.0</td>\n",
       "    </tr>\n",
       "    <tr>\n",
       "      <th>14</th>\n",
       "      <td>0.0</td>\n",
       "    </tr>\n",
       "    <tr>\n",
       "      <th>15</th>\n",
       "      <td>0.0</td>\n",
       "    </tr>\n",
       "    <tr>\n",
       "      <th>16</th>\n",
       "      <td>0.0</td>\n",
       "    </tr>\n",
       "    <tr>\n",
       "      <th>17</th>\n",
       "      <td>0.0</td>\n",
       "    </tr>\n",
       "    <tr>\n",
       "      <th>18</th>\n",
       "      <td>0.0</td>\n",
       "    </tr>\n",
       "    <tr>\n",
       "      <th>19</th>\n",
       "      <td>0.0</td>\n",
       "    </tr>\n",
       "    <tr>\n",
       "      <th>20</th>\n",
       "      <td>0.0</td>\n",
       "    </tr>\n",
       "  </tbody>\n",
       "</table>\n",
       "</div>"
      ],
      "text/plain": [
       "    Citizens to Win(%)\n",
       "1                 82.0\n",
       "2                 73.0\n",
       "3                 50.0\n",
       "4                 29.0\n",
       "5                 16.0\n",
       "6                  9.0\n",
       "7                 13.0\n",
       "8                  2.0\n",
       "9                  4.0\n",
       "10                 0.0\n",
       "11                 0.0\n",
       "12                 2.0\n",
       "13                 0.0\n",
       "14                 0.0\n",
       "15                 0.0\n",
       "16                 0.0\n",
       "17                 0.0\n",
       "18                 0.0\n",
       "19                 0.0\n",
       "20                 0.0"
      ]
     },
     "execution_count": 54,
     "metadata": {},
     "output_type": "execute_result"
    }
   ],
   "source": [
    "Game_participants=list()\n",
    "col=[\"Citizens to Win(%)\"]\n",
    "Game = Mafia_Game_changewithPolice(0, 97, 3)[:20]\n",
    "length=len(Game)\n",
    "index = list()\n",
    "for i in range(1, length+1):\n",
    "    index.append(i)\n",
    "\n",
    "df=pd.DataFrame(Game, index, columns=col)\n",
    "df"
   ]
  },
  {
   "cell_type": "markdown",
   "metadata": {},
   "source": [
    "### Histogram\n",
    "\n",
    "- 경찰 3명을 포함한 전체 게임인원 각 10, 50, 100명\n",
    "- x축은 마피아의 명 수, y축은 시민의 승률"
   ]
  },
  {
   "cell_type": "code",
   "execution_count": 55,
   "metadata": {},
   "outputs": [
    {
     "data": {
      "image/png": "[encoded data removed]",
      "text/plain": [
       "<Figure size 1440x360 with 1 Axes>"
      ]
     },
     "metadata": {
      "needs_background": "light"
     },
     "output_type": "display_data"
    },
    {
     "data": {
      "image/png": "[encoded data removed]",
      "text/plain": [
       "<Figure size 1440x360 with 1 Axes>"
      ]
     },
     "metadata": {
      "needs_background": "light"
     },
     "output_type": "display_data"
    },
    {
     "data": {
      "image/png": "[encoded data removed]",
      "text/plain": [
       "<Figure size 1440x360 with 1 Axes>"
      ]
     },
     "metadata": {
      "needs_background": "light"
     },
     "output_type": "display_data"
    }
   ],
   "source": [
    "Game_Stats = Mafia_Game_changewithPolice(0, 7, 3)\n",
    "drawHIST(Game_Stats)\n",
    "\n",
    "Game_Stats = Mafia_Game_changewithPolice(0, 47, 3)\n",
    "drawHIST(Game_Stats)\n",
    "\n",
    "Game_Stats = Mafia_Game_changewithPolice(0, 97, 3)\n",
    "drawHIST(Game_Stats)"
   ]
  },
  {
   "cell_type": "markdown",
   "metadata": {},
   "source": [
    "### Plot Chart\n",
    "\n",
    "- 전체 게임인원 50명, 경찰의 비율을 조정\n",
    "- x축은 마피아의 명 수, y축은 시민의 승률"
   ]
  },
  {
   "cell_type": "code",
   "execution_count": 56,
   "metadata": {},
   "outputs": [
    {
     "data": {
      "image/png": "[encoded data removed]",
      "text/plain": [
       "<Figure size 1440x720 with 1 Axes>"
      ]
     },
     "metadata": {
      "needs_background": "light"
     },
     "output_type": "display_data"
    }
   ],
   "source": [
    "Game_Endday.clear()\n",
    "Game_Stats1 = Mafia_Game_changewithPolice(0, 50, 0)\n",
    "Game_Stats2 = Mafia_Game_changewithPolice(0, 25, 25)\n",
    "Game_Stats3 = Mafia_Game_changewithPolice(0, 0, 50)\n",
    "\n",
    "list0 = list()\n",
    "length = len(Game_Stats1)\n",
    "for i in range(1, length+1):\n",
    "    list0.append(i)\n",
    "    \n",
    "plt.figure(figsize=(20,10))\n",
    "plt.plot(list0, Game_Stats1, label=\"0, 50, 0\")\n",
    "plt.plot(list0, Game_Stats2, label=\"0, 25, 25\")\n",
    "plt.plot(list0, Game_Stats3, label=\"0, 0, 50\")\n",
    "plt.legend()\n",
    "plt.xlabel(\"X\")\n",
    "plt.ylabel(\"Y\")\n",
    "plt.show()\n",
    "plt.close()"
   ]
  },
  {
   "cell_type": "markdown",
   "metadata": {},
   "source": [
    "### Plot Chart\n",
    "- 위 상황에 대한 게임 종료일 나열\n",
    "- 상황 1,2,3에 대해 2,500단위 구분"
   ]
  },
  {
   "cell_type": "code",
   "execution_count": 57,
   "metadata": {},
   "outputs": [
    {
     "data": {
      "image/png": "[encoded data removed]",
      "text/plain": [
       "<Figure size 1440x360 with 1 Axes>"
      ]
     },
     "metadata": {
      "needs_background": "light"
     },
     "output_type": "display_data"
    }
   ],
   "source": [
    "drawHIST(Game_Endday)\n",
    "Game_Endday.clear()"
   ]
  },
  {
   "cell_type": "markdown",
   "metadata": {},
   "source": [
    "### 분석\n",
    "---\n",
    "- 경찰의 합류로 시민의 우승확률이 대체적으로 상승함\n",
    "    - 경찰이 많아질수록 상승하지만 시민 전원이 경찰이어도 큰 변화를 보이지는 않음\n",
    "---\n",
    "- 랜덤확률이 추가로 더해졌기 때문에 그래프에 변화가 생김\n",
    "    - 게임이 종료되는 시점의 편차가 커짐\n",
    "---\n",
    "- 경찰의 역할에 따라 승률, 진행시간 모두 영향을 줌. \n",
    "---"
   ]
  }
 ],
 "metadata": {
  "interpreter": {
   "hash": "b0fa6594d8f4cbf19f97940f81e996739fb7646882a419484c72d19e05852a7e"
  },
  "kernelspec": {
   "display_name": "Python 3.9.7 64-bit",
   "language": "python",
   "name": "python3"
  },
  "language_info": {
   "codemirror_mode": {
    "name": "ipython",
    "version": 3
   },
   "file_extension": ".py",
   "mimetype": "text/x-python",
   "name": "python",
   "nbconvert_exporter": "python",
   "pygments_lexer": "ipython3",
   "version": "3.8.8"
  },
  "orig_nbformat": 4
 },
 "nbformat": 4,
 "nbformat_minor": 2
}
